{
 "cells": [
  {
   "cell_type": "code",
   "execution_count": 11,
   "id": "b26e3e22",
   "metadata": {},
   "outputs": [
    {
     "name": "stderr",
     "output_type": "stream",
     "text": [
      "/usr/local/lib/python3.8/dist-packages/IPython/core/interactiveshell.py:3457: DtypeWarning: Columns (1) have mixed types.Specify dtype option on import or set low_memory=False.\n",
      "  exec(code_obj, self.user_global_ns, self.user_ns)\n"
     ]
    }
   ],
   "source": [
    "import pandas as pd\n",
    "### add system path to get other library directories\n",
    "\n",
    "# load ACS data \n",
    "acs_df = pd.read_csv('/tmp/data/acs_5yr_2016.csv')"
   ]
  },
  {
   "cell_type": "code",
   "execution_count": 12,
   "id": "6cd068ea",
   "metadata": {},
   "outputs": [],
   "source": [
    "# convert estimate columns to numeric \n",
    "acs_df.loc[:, acs_df.columns.str.startswith('Estimate')] = acs_df.loc[:, acs_df.columns.str.startswith('Estimate')].apply(pd.to_numeric)"
   ]
  },
  {
   "cell_type": "code",
   "execution_count": 3,
   "id": "97cf9278",
   "metadata": {},
   "outputs": [],
   "source": [
    "def calc_race(x):\n",
    "    if (x['Estimate!!Total: TOTAL POPULATION'] != 0):\n",
    "        x['perc_Hisp'] = (x['Estimate!!Total:!!Hispanic or Latino: HISPANIC OR LATINO ORIGIN BY RACE']/x['Estimate!!Total: TOTAL POPULATION']),\n",
    "        x['perc_Hisp_White'] = (x['Estimate!!Total:!!Hispanic or Latino:!!White alone HISPANIC OR LATINO ORIGIN BY RACE']/x['Estimate!!Total: TOTAL POPULATION']),\n",
    "        x['perc_Hisp_Black'] = (x['Estimate!!Total:!!Hispanic or Latino:!!Black or African American alone HISPANIC OR LATINO ORIGIN BY RACE']/x['Estimate!!Total: TOTAL POPULATION']),\n",
    "        x['perc_Hisp_Asian'] = (x['Estimate!!Total:!!Hispanic or Latino:!!Asian alone HISPANIC OR LATINO ORIGIN BY RACE']/x['Estimate!!Total: TOTAL POPULATION']),\n",
    "        x['perc_Hisp_AI'] = (x['Estimate!!Total:!!Hispanic or Latino:!!American Indian and Alaska Native alone HISPANIC OR LATINO ORIGIN BY RACE']/x['Estimate!!Total: TOTAL POPULATION']),\n",
    "        x['perc_Hisp_Other'] = (x['Estimate!!Total:!!Hispanic or Latino:!!Some other race alone HISPANIC OR LATINO ORIGIN BY RACE']/x['Estimate!!Total: TOTAL POPULATION']),\n",
    "        x['perc_Hisp_TwoOrMore'] = (x['Estimate!!Total:!!Hispanic or Latino:!!Two or more races: HISPANIC OR LATINO ORIGIN BY RACE']/x['Estimate!!Total: TOTAL POPULATION']),\n",
    "        x['perc_nonHisp_White'] = (x['Estimate!!Total:!!Not Hispanic or Latino:!!White alone HISPANIC OR LATINO ORIGIN BY RACE']/x['Estimate!!Total: TOTAL POPULATION']),\n",
    "        x['perc_nonHisp_Black'] = (x['Estimate!!Total:!!Not Hispanic or Latino:!!Black or African American alone HISPANIC OR LATINO ORIGIN BY RACE']/x['Estimate!!Total: TOTAL POPULATION']),\n",
    "        x['perc_nonHisp_Asian'] = (x['Estimate!!Total:!!Not Hispanic or Latino:!!Asian alone HISPANIC OR LATINO ORIGIN BY RACE']/x['Estimate!!Total: TOTAL POPULATION']),\n",
    "        x['perc_nonHisp_AI'] = (x['Estimate!!Total:!!Not Hispanic or Latino:!!American Indian and Alaska Native alone HISPANIC OR LATINO ORIGIN BY RACE']/x['Estimate!!Total: TOTAL POPULATION']),\n",
    "        x['perc_nonHisp_Other'] = (x['Estimate!!Total:!!Not Hispanic or Latino:!!Some other race alone HISPANIC OR LATINO ORIGIN BY RACE']/x['Estimate!!Total: TOTAL POPULATION']),\n",
    "        x['perc_nonHisp_TwoOrMore'] = (x['Estimate!!Total:!!Not Hispanic or Latino:!!Two or more races: HISPANIC OR LATINO ORIGIN BY RACE']/x['Estimate!!Total: TOTAL POPULATION'])\n",
    "    else: \n",
    "        pass\n",
    "    return x\n",
    "        "
   ]
  },
  {
   "cell_type": "code",
   "execution_count": 4,
   "id": "3fe233ca",
   "metadata": {
    "scrolled": false
   },
   "outputs": [],
   "source": [
    "acs_df = acs_df.apply(calc_race, axis=1)"
   ]
  },
  {
   "cell_type": "code",
   "execution_count": 17,
   "id": "2f346c27",
   "metadata": {},
   "outputs": [],
   "source": [
    "acs_df = acs_df.fillna(0)"
   ]
  },
  {
   "cell_type": "code",
   "execution_count": 19,
   "id": "cfeb6224",
   "metadata": {},
   "outputs": [],
   "source": [
    "acs_df['perc_Hisp'] = (acs_df['Estimate!!Total:!!Hispanic or Latino: HISPANIC OR LATINO ORIGIN BY RACE']/acs_df['Estimate!!Total: TOTAL POPULATION'])\n",
    "acs_df['perc_Hisp_White'] = (acs_df['Estimate!!Total:!!Hispanic or Latino:!!White alone HISPANIC OR LATINO ORIGIN BY RACE']/acs_df['Estimate!!Total: TOTAL POPULATION'])\n",
    "acs_df['perc_Hisp_Black'] = (acs_df['Estimate!!Total:!!Hispanic or Latino:!!Black or African American alone HISPANIC OR LATINO ORIGIN BY RACE']/acs_df['Estimate!!Total: TOTAL POPULATION'])\n",
    "acs_df['perc_Hisp_Asian'] = (acs_df['Estimate!!Total:!!Hispanic or Latino:!!Asian alone HISPANIC OR LATINO ORIGIN BY RACE']/acs_df['Estimate!!Total: TOTAL POPULATION'])\n",
    "acs_df['perc_Hisp_AI'] = (acs_df['Estimate!!Total:!!Hispanic or Latino:!!American Indian and Alaska Native alone HISPANIC OR LATINO ORIGIN BY RACE']/acs_df['Estimate!!Total: TOTAL POPULATION'])\n",
    "acs_df['perc_Hisp_Other'] = (acs_df['Estimate!!Total:!!Hispanic or Latino:!!Some other race alone HISPANIC OR LATINO ORIGIN BY RACE']/acs_df['Estimate!!Total: TOTAL POPULATION'])\n",
    "acs_df['perc_Hisp_TwoOrMore'] = (acs_df['Estimate!!Total:!!Hispanic or Latino:!!Two or more races: HISPANIC OR LATINO ORIGIN BY RACE']/acs_df['Estimate!!Total: TOTAL POPULATION'])\n",
    "acs_df['perc_nonHisp_White'] = (acs_df['Estimate!!Total:!!Not Hispanic or Latino:!!White alone HISPANIC OR LATINO ORIGIN BY RACE']/acs_df['Estimate!!Total: TOTAL POPULATION'])\n",
    "acs_df['perc_nonHisp_Black'] = (acs_df['Estimate!!Total:!!Not Hispanic or Latino:!!Black or African American alone HISPANIC OR LATINO ORIGIN BY RACE']/acs_df['Estimate!!Total: TOTAL POPULATION'])\n",
    "acs_df['perc_nonHisp_Asian'] = (acs_df['Estimate!!Total:!!Not Hispanic or Latino:!!Asian alone HISPANIC OR LATINO ORIGIN BY RACE']/acs_df['Estimate!!Total: TOTAL POPULATION'])\n",
    "acs_df['perc_nonHisp_AI'] = (acs_df['Estimate!!Total:!!Not Hispanic or Latino:!!American Indian and Alaska Native alone HISPANIC OR LATINO ORIGIN BY RACE']/acs_df['Estimate!!Total: TOTAL POPULATION'])\n",
    "acs_df['perc_nonHisp_Other'] = (acs_df['Estimate!!Total:!!Not Hispanic or Latino:!!Some other race alone HISPANIC OR LATINO ORIGIN BY RACE']/acs_df['Estimate!!Total: TOTAL POPULATION'])\n",
    "acs_df['perc_nonHisp_TwoOrMore'] = (acs_df['Estimate!!Total:!!Not Hispanic or Latino:!!Two or more races: HISPANIC OR LATINO ORIGIN BY RACE']/acs_df['Estimate!!Total: TOTAL POPULATION'])"
   ]
  }
 ],
 "metadata": {
  "kernelspec": {
   "display_name": "Python 3 (ipykernel)",
   "language": "python",
   "name": "python3"
  },
  "language_info": {
   "codemirror_mode": {
    "name": "ipython",
    "version": 3
   },
   "file_extension": ".py",
   "mimetype": "text/x-python",
   "name": "python",
   "nbconvert_exporter": "python",
   "pygments_lexer": "ipython3",
   "version": "3.8.10"
  }
 },
 "nbformat": 4,
 "nbformat_minor": 5
}
