{
 "cells": [
  {
   "cell_type": "markdown",
   "id": "b9f375f6",
   "metadata": {},
   "source": [
    "## Our Cities:\n",
    "\n",
    "1. Seattle\n",
    "2. Denver\n",
    "3. Nashville\n",
    "4. El Paso\n",
    "5. Oklahoma City\n",
    "6. maia fill in here\n",
    "7. maia fill in here\n",
    "8. maia fill in here\n",
    "9. maia fill in here\n",
    "10. maia fill in here"
   ]
  },
  {
   "cell_type": "markdown",
   "id": "1d4c8d67",
   "metadata": {},
   "source": [
    "### Seattle:\n",
    "\n",
    "add some Seattle neighborhood info here??"
   ]
  },
  {
   "cell_type": "code",
   "execution_count": null,
   "id": "cfad7ae5",
   "metadata": {},
   "outputs": [],
   "source": []
  },
  {
   "cell_type": "markdown",
   "id": "06672492",
   "metadata": {},
   "source": [
    "### Denver"
   ]
  },
  {
   "cell_type": "code",
   "execution_count": null,
   "id": "dffa30c8",
   "metadata": {},
   "outputs": [],
   "source": []
  },
  {
   "cell_type": "markdown",
   "id": "22cde483",
   "metadata": {},
   "source": [
    "### Nashville"
   ]
  },
  {
   "cell_type": "code",
   "execution_count": null,
   "id": "df760e86",
   "metadata": {},
   "outputs": [],
   "source": []
  },
  {
   "cell_type": "markdown",
   "id": "68fd38c0",
   "metadata": {},
   "source": [
    "### El Paso"
   ]
  },
  {
   "cell_type": "code",
   "execution_count": null,
   "id": "85126372",
   "metadata": {},
   "outputs": [],
   "source": []
  },
  {
   "cell_type": "markdown",
   "id": "2d2c15ba",
   "metadata": {},
   "source": [
    "### Oklahoma City"
   ]
  },
  {
   "cell_type": "code",
   "execution_count": null,
   "id": "6455420e",
   "metadata": {},
   "outputs": [],
   "source": []
  }
 ],
 "metadata": {
  "kernelspec": {
   "display_name": "Python 3 (ipykernel)",
   "language": "python",
   "name": "python3"
  },
  "language_info": {
   "codemirror_mode": {
    "name": "ipython",
    "version": 3
   },
   "file_extension": ".py",
   "mimetype": "text/x-python",
   "name": "python",
   "nbconvert_exporter": "python",
   "pygments_lexer": "ipython3",
   "version": "3.8.10"
  }
 },
 "nbformat": 4,
 "nbformat_minor": 5
}
