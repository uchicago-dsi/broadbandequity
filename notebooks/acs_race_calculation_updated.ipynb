{
 "cells": [
  {
   "cell_type": "code",
   "execution_count": 11,
   "id": "7e2ccb5f",
   "metadata": {},
   "outputs": [
    {
     "name": "stderr",
     "output_type": "stream",
     "text": [
      "/usr/local/lib/python3.8/dist-packages/IPython/core/interactiveshell.py:3457: DtypeWarning: Columns (1) have mixed types.Specify dtype option on import or set low_memory=False.\n",
      "  exec(code_obj, self.user_global_ns, self.user_ns)\n"
     ]
    }
   ],
   "source": [
    "# load necessary package \n",
    "import pandas as pd\n",
    "\n",
    "# load dataset\n",
    "acs_df = pd.read_csv('/tmp/data/acs_5yr_2017.csv')"
   ]
  },
  {
   "cell_type": "code",
   "execution_count": 12,
   "id": "bcf7b53d",
   "metadata": {},
   "outputs": [],
   "source": [
    "# convert estimate columns to numeric \n",
    "acs_df.loc[:, acs_df.columns.str.startswith('Estimate')] = acs_df.loc[:, acs_df.columns.str.startswith('Estimate')].apply(pd.to_numeric)\n",
    "\n",
    "# rename race columns\n",
    "acs_df = acs_df.rename(columns={\"Estimate!!Total:!!Not Hispanic or Latino: HISPANIC OR LATINO ORIGIN BY RACE\": \"Not H/L\",\n",
    "                      \"Estimate!!Total:!!Not Hispanic or Latino:!!White alone HISPANIC OR LATINO ORIGIN BY RACE\": \"Not H/L: White alone\",\n",
    "                      \"Estimate!!Total:!!Not Hispanic or Latino:!!Black or African American alone HISPANIC OR LATINO ORIGIN BY RACE\":\"Not H/L: Black alone\",\n",
    "                      \"Estimate!!Total:!!Not Hispanic or Latino:!!American Indian and Alaska Native alone HISPANIC OR LATINO ORIGIN BY RACE\":\"Not H/L: American Indian/Native alone\",\n",
    "                      \"Estimate!!Total:!!Not Hispanic or Latino:!!Asian alone HISPANIC OR LATINO ORIGIN BY RACE\": \"Not H/L: Asian alone\",\n",
    "                      \"Estimate!!Total:!!Not Hispanic or Latino:!!Native Hawaiian and Other Pacific Islander alone HISPANIC OR LATINO ORIGIN BY RACE\" : \"Not H/L: Native Hawaiian / PI alone\",\n",
    "                      \"Estimate!!Total:!!Not Hispanic or Latino:!!Some other race alone HISPANIC OR LATINO ORIGIN BY RACE\":\"Not H/L: Other race alone\",\n",
    "                      \"Estimate!!Total:!!Not Hispanic or Latino:!!Two or more races: HISPANIC OR LATINO ORIGIN BY RACE\":\"Not H/L: Two or more races\",\n",
    "                      \"Estimate!!Total:!!Not Hispanic or Latino:!!Two or more races:!!Two races including Some other race HISPANIC OR LATINO ORIGIN BY RACE\": \"Not H/L: Two races including other race\",\n",
    "                      \"Estimate!!Total:!!Not Hispanic or Latino:!!Two or more races:!!Two races excluding Some other race, and three or more races HISPANIC OR LATINO ORIGIN BY RACE\": \"Not H/L: Two races excluding other race, and three+ races\",\n",
    "                      \"Estimate!!Total:!!Hispanic or Latino: HISPANIC OR LATINO ORIGIN BY RACE\": \"H/L\",\n",
    "                      \"Estimate!!Total:!!Hispanic or Latino:!!White alone HISPANIC OR LATINO ORIGIN BY RACE\":\"H/L: White alone\",\n",
    "                      \"Estimate!!Total:!!Hispanic or Latino:!!Black or African American alone HISPANIC OR LATINO ORIGIN BY RACE\":\"H/L: Black alone\",\n",
    "                      \"Estimate!!Total:!!Hispanic or Latino:!!American Indian and Alaska Native alone HISPANIC OR LATINO ORIGIN BY RACE\":\"H/L: American Indian/Native alone\",\n",
    "                      \"Estimate!!Total:!!Hispanic or Latino:!!Asian alone HISPANIC OR LATINO ORIGIN BY RACE\":\"H/L: Asian alone\",\n",
    "                      \"Estimate!!Total:!!Hispanic or Latino:!!Native Hawaiian and Other Pacific Islander alone HISPANIC OR LATINO ORIGIN BY RACE\":\"H/L: Native Hawaiian / PI alone\",\n",
    "                      \"Estimate!!Total:!!Hispanic or Latino:!!Some other race alone HISPANIC OR LATINO ORIGIN BY RACE\":\"H/L: Other race alone\",\n",
    "                      \"Estimate!!Total:!!Hispanic or Latino:!!Two or more races: HISPANIC OR LATINO ORIGIN BY RACE\":\"H/L: Two or more races\",\n",
    "                      \"Estimate!!Total:!!Hispanic or Latino:!!Two or more races:!!Two races including Some other race HISPANIC OR LATINO ORIGIN BY RACE\":\"H/L: Two races including other race\",\n",
    "                      \"Estimate!!Total:!!Hispanic or Latino:!!Two or more races:!!Two races excluding Some other race, and three or more races HISPANIC OR LATINO ORIGIN BY RACE\":\"H/L: Two races excluding other race, and three+ races\"\n",
    "                      })\n",
    "\n",
    "# fill NaN values with 0\n",
    "acs_df = acs_df.fillna(0)"
   ]
  },
  {
   "cell_type": "code",
   "execution_count": 13,
   "id": "4314c28e",
   "metadata": {},
   "outputs": [],
   "source": [
    "# create cleaned columns \n",
    "acs_df['Hispanic (of any race)'] = acs_df['H/L']\n",
    "acs_df['Non-Hispanic White'] = acs_df['Not H/L: White alone']\n",
    "acs_df['Non-Hispanic Black'] = acs_df['Not H/L: Black alone']\n",
    "acs_df['Non-Hispanic Asian'] = acs_df['Not H/L: Asian alone']\n",
    "acs_df['Non-Hispanic American Indian'] = acs_df['Not H/L: American Indian/Native alone']\n",
    "acs_df['Non-Hispanic Other'] = acs_df['Not H/L: Native Hawaiian / PI alone'] + acs_df['Not H/L: Other race alone'] + acs_df['Not H/L: Two or more races']"
   ]
  },
  {
   "cell_type": "code",
   "execution_count": 14,
   "id": "0b623ae2",
   "metadata": {},
   "outputs": [],
   "source": [
    "# calculate percentage rows \n",
    "acs_df['% Hispanic (of any race)'] = ((acs_df['Hispanic (of any race)']/acs_df['Estimate!!Total: TOTAL POPULATION'])*100)\n",
    "acs_df['% Non-Hispanic White'] = ((acs_df['Non-Hispanic White']/acs_df['Estimate!!Total: TOTAL POPULATION'])*100)\n",
    "acs_df['% Non-Hispanic Black'] = ((acs_df['Non-Hispanic Black']/acs_df['Estimate!!Total: TOTAL POPULATION'])*100)\n",
    "acs_df['% Non-Hispanic Asian'] = ((acs_df['Non-Hispanic Asian']/acs_df['Estimate!!Total: TOTAL POPULATION'])*100)\n",
    "acs_df['% Non-Hispanic American Indian'] = ((acs_df['Non-Hispanic American Indian']/acs_df['Estimate!!Total: TOTAL POPULATION'])*100)\n",
    "acs_df['% Non-Hispanic Other'] = ((acs_df['Non-Hispanic Other']/acs_df['Estimate!!Total: TOTAL POPULATION'])*100)"
   ]
  },
  {
   "cell_type": "code",
   "execution_count": 19,
   "id": "8245be7f",
   "metadata": {},
   "outputs": [
    {
     "data": {
      "text/plain": [
       "Hispanic (of any race)          35078094.0\n",
       "Non-Hispanic White              74930403.0\n",
       "Non-Hispanic Black              12812063.0\n",
       "Non-Hispanic Asian               9728549.0\n",
       "Non-Hispanic American Indian      714292.0\n",
       "Non-Hispanic Other               3857294.0\n",
       "dtype: float64"
      ]
     },
     "execution_count": 19,
     "metadata": {},
     "output_type": "execute_result"
    }
   ],
   "source": [
    "# inspect total results\n",
    "acs_df_subset = acs_df[['Hispanic (of any race)',\n",
    "                                       'Non-Hispanic White',\n",
    "                                       'Non-Hispanic Black',\n",
    "                                       'Non-Hispanic Asian',\n",
    "                                       'Non-Hispanic American Indian',\n",
    "                                       'Non-Hispanic Other'\n",
    "                                      ]]\n",
    "acs_df_subset.sum(axis = 0, skipna = True)"
   ]
  },
  {
   "cell_type": "code",
   "execution_count": 20,
   "id": "ffe50881",
   "metadata": {},
   "outputs": [
    {
     "data": {
      "text/plain": [
       "% Hispanic (of any race)          inf\n",
       "% Non-Hispanic White              inf\n",
       "% Non-Hispanic Black              inf\n",
       "% Non-Hispanic Asian              inf\n",
       "% Non-Hispanic American Indian    inf\n",
       "% Non-Hispanic Other              inf\n",
       "dtype: float64"
      ]
     },
     "execution_count": 20,
     "metadata": {},
     "output_type": "execute_result"
    }
   ],
   "source": [
    "# inspect percentage results\n",
    "acs_df_subset2 = acs_df[['% Hispanic (of any race)',\n",
    "                                       '% Non-Hispanic White',\n",
    "                                       '% Non-Hispanic Black',\n",
    "                                       '% Non-Hispanic Asian',\n",
    "                                       '% Non-Hispanic American Indian',\n",
    "                                       '% Non-Hispanic Other'\n",
    "                                      ]]\n",
    "acs_df_subset2.sum(axis = 0, skipna = True)"
   ]
  }
 ],
 "metadata": {
  "kernelspec": {
   "display_name": "Python 3 (ipykernel)",
   "language": "python",
   "name": "python3"
  },
  "language_info": {
   "codemirror_mode": {
    "name": "ipython",
    "version": 3
   },
   "file_extension": ".py",
   "mimetype": "text/x-python",
   "name": "python",
   "nbconvert_exporter": "python",
   "pygments_lexer": "ipython3",
   "version": "3.8.10"
  }
 },
 "nbformat": 4,
 "nbformat_minor": 5
}
