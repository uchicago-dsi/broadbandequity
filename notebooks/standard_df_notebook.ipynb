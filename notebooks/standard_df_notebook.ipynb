{
 "cells": [
  {
   "cell_type": "markdown",
   "id": "2c3059a1",
   "metadata": {},
   "source": [
    "### Standard Dataframe\n",
    "\n",
    "This notebook runs the standard dataframe pipeline to produce a single dataframe from the neighborhood level data, which is then put into the \"data\" directory of the repository. The code also produces maps of each city at the census level and at the neighborhood level. These plots are saved into the \"visualizations\" directory in the repository.\n",
    "\n",
    "While the code runs, it checks to see whether we are losing neighborhoods in the merging process. It also checks the population of the census tracts pre-merge and then the final population of the merge. The differences here occur because we double count some census tracts that overlap with multiple neighborhoods. This could be skewing potential results, so we want to process the data further to ensure our results are not largely skewed.\n",
    "\n",
    "This code produces both \"clean\" plots and plots with data that has not been cleaned. \"Cleaned\" data refers to data that has been processes to attempt to remove some census tracts that overlap multiple neighborhoods to avoid duplicating results. At the moment, the code checks whether at least 40% of a census tract is contained in a neighborhood. If so, the census tract is mapped to that neighborhood during the data merge.\n",
    "\n",
    "In the future, a comparison should be made between the \"cleaned\" data and the pre-processed data to determine whether the extensive processing of the data is necessary.\n",
    "\n",
    "The complete code that we call here can be found in the \"lib\" directory of the repository and the \"data_pipeline\" directory of the repository."
   ]
  },
  {
   "cell_type": "markdown",
   "id": "ae54c945",
   "metadata": {},
   "source": [
    "# import statements\n",
    "import geopandas\n",
    "import contextily as cx\n",
    "import warnings\n",
    "import pandas as pd\n",
    "import math\n",
    "import numpy as np\n",
    "import matplotlib.pyplot as plt\n",
    "from statistics import mean\n",
    "import seaborn as sns\n",
    "warnings.filterwarnings('ignore')"
   ]
  },
  {
   "cell_type": "code",
   "execution_count": 1,
   "id": "0d8bccc1",
   "metadata": {},
   "outputs": [],
   "source": [
    "import os\n",
    "import sys\n",
    "sys.path[0] = os.path.join(os.path.abspath(''),'..')"
   ]
  },
  {
   "cell_type": "code",
   "execution_count": 2,
   "id": "0cd14e3e",
   "metadata": {},
   "outputs": [],
   "source": [
    "import data_pipeline.spatial_operations as so"
   ]
  },
  {
   "cell_type": "code",
   "execution_count": 3,
   "id": "126e7858",
   "metadata": {},
   "outputs": [],
   "source": [
    "import lib.standard_neighborhood_dataframe as sd_n\n",
    "import lib.standard_censustract_dataframe as sd_ct"
   ]
  },
  {
   "cell_type": "markdown",
   "id": "f25cc381",
   "metadata": {},
   "source": [
    "### Generate Standard Neighborhood Dataframe and Visualizations"
   ]
  },
  {
   "cell_type": "code",
   "execution_count": 4,
   "id": "5cf5d1ff",
   "metadata": {},
   "outputs": [],
   "source": [
    "# run the code\n",
    "#sd_n.generate_dataframe_and_plots()"
   ]
  },
  {
   "cell_type": "markdown",
   "id": "b19d9573",
   "metadata": {},
   "source": [
    "### Generate Standard Census Tract Dataframe and Visualizations"
   ]
  },
  {
   "cell_type": "code",
   "execution_count": null,
   "id": "5b18ed3a",
   "metadata": {
    "scrolled": false
   },
   "outputs": [
    {
     "name": "stdout",
     "output_type": "stream",
     "text": [
      "Running austin, 0 of 20\n",
      "Population before merge: 1206225.0\n",
      "Population after merge: 1206225.0\n",
      "\n",
      "\n",
      "Running baltimore, 1 of 20\n",
      "Population before merge: 1097758.0\n",
      "Population after merge: 1097758.0\n",
      "\n",
      "\n",
      "Running boston, 2 of 20\n",
      "Population before merge: 840601.0\n",
      "Population after merge: 840601.0\n",
      "\n",
      "\n",
      "Running chicago, 3 of 20\n",
      "Population before merge: 3057323.0\n",
      "Population after merge: 3057323.0\n",
      "\n",
      "\n",
      "Running dallas, 4 of 20\n",
      "Population before merge: 1840889.0\n",
      "Population after merge: 1840889.0\n",
      "\n",
      "\n",
      "Running denver, 5 of 20\n",
      "Population before merge: 949630.0\n",
      "Population after merge: 1045730.0\n",
      "\n",
      "\n",
      "Running detroit, 6 of 20\n",
      "Population before merge: 896914.0\n",
      "Population after merge: 896914.0\n",
      "\n",
      "\n",
      "Running el-paso, 7 of 20\n",
      "Population before merge: 773652.0\n",
      "Population after merge: 773652.0\n",
      "\n",
      "\n",
      "Running houston, 8 of 20\n",
      "Population before merge: 3526303.0\n",
      "Population after merge: 3526303.0\n",
      "\n",
      "\n",
      "Running indianapolis, 9 of 20\n"
     ]
    }
   ],
   "source": [
    "sd_ct.generate_dataframe_and_plots()"
   ]
  },
  {
   "cell_type": "code",
   "execution_count": null,
   "id": "63405a61",
   "metadata": {},
   "outputs": [],
   "source": []
  }
 ],
 "metadata": {
  "kernelspec": {
   "display_name": "Python 3 (ipykernel)",
   "language": "python",
   "name": "python3"
  },
  "language_info": {
   "codemirror_mode": {
    "name": "ipython",
    "version": 3
   },
   "file_extension": ".py",
   "mimetype": "text/x-python",
   "name": "python",
   "nbconvert_exporter": "python",
   "pygments_lexer": "ipython3",
   "version": "3.8.10"
  }
 },
 "nbformat": 4,
 "nbformat_minor": 5
}
