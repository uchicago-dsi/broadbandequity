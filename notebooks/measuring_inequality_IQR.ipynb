{
 "cells": [
  {
   "cell_type": "code",
   "execution_count": 10,
   "id": "77cca3ac",
   "metadata": {},
   "outputs": [],
   "source": [
    "#pip install IneqPy\n",
    "#pip install inequalipy"
   ]
  },
  {
   "cell_type": "code",
   "execution_count": 3,
   "id": "ab0981fa",
   "metadata": {},
   "outputs": [],
   "source": [
    "import numpy as np \n",
    "import pandas as pd \n",
    "import geopandas as gpd\n",
    "import matplotlib.pyplot as plt\n",
    "import seaborn\n",
    "\n",
    "\n",
    "import os\n",
    "import sys\n",
    "sys.path[0] = os.path.join(os.path.abspath(''),'..')  \n",
    "\n",
    "import warnings \n",
    "warnings.filterwarnings('ignore')"
   ]
  },
  {
   "cell_type": "code",
   "execution_count": 5,
   "id": "750bb30d",
   "metadata": {},
   "outputs": [
    {
     "name": "stdout",
     "output_type": "stream",
     "text": [
      "The shape of the dataframe is: (600, 33)\n"
     ]
    }
   ],
   "source": [
    "#loading the city data + broadband  \n",
    "dallas = gpd.read_file(\"./dallas/city-merged.geojson\")\n",
    "print(\"The shape of the dataframe is:\", dallas.shape)"
   ]
  },
  {
   "cell_type": "code",
   "execution_count": 4,
   "id": "f60dca73",
   "metadata": {},
   "outputs": [],
   "source": [
    "neighborhood_df = gpd.read_file(\"./neighborhood_df.csv\")"
   ]
  },
  {
   "cell_type": "code",
   "execution_count": 7,
   "id": "4acc3455",
   "metadata": {},
   "outputs": [
    {
     "data": {
      "text/html": [
       "<div>\n",
       "<style scoped>\n",
       "    .dataframe tbody tr th:only-of-type {\n",
       "        vertical-align: middle;\n",
       "    }\n",
       "\n",
       "    .dataframe tbody tr th {\n",
       "        vertical-align: top;\n",
       "    }\n",
       "\n",
       "    .dataframe thead th {\n",
       "        text-align: right;\n",
       "    }\n",
       "</style>\n",
       "<table border=\"1\" class=\"dataframe\">\n",
       "  <thead>\n",
       "    <tr style=\"text-align: right;\">\n",
       "      <th></th>\n",
       "      <th>n_isp</th>\n",
       "      <th>n_dn10</th>\n",
       "      <th>n_dn100</th>\n",
       "      <th>n_dn250</th>\n",
       "      <th>n_fiber_100u</th>\n",
       "      <th>fiber_100u_exists</th>\n",
       "      <th>max_dn</th>\n",
       "      <th>max_up</th>\n",
       "      <th>f_broadband</th>\n",
       "      <th>f_computer</th>\n",
       "      <th>...</th>\n",
       "      <th>devices</th>\n",
       "      <th>d_mbps</th>\n",
       "      <th>u_mbps</th>\n",
       "      <th>lat_ms</th>\n",
       "      <th>tests_per_cap</th>\n",
       "      <th>devices_per_cap</th>\n",
       "      <th>index_right</th>\n",
       "      <th>COUNCIL</th>\n",
       "      <th>SHAPE_STAr</th>\n",
       "      <th>SHAPE_STLe</th>\n",
       "    </tr>\n",
       "  </thead>\n",
       "  <tbody>\n",
       "    <tr>\n",
       "      <th>count</th>\n",
       "      <td>600.000000</td>\n",
       "      <td>600.000000</td>\n",
       "      <td>600.000000</td>\n",
       "      <td>600.000000</td>\n",
       "      <td>600.000000</td>\n",
       "      <td>600.000000</td>\n",
       "      <td>600.000000</td>\n",
       "      <td>600.000000</td>\n",
       "      <td>600.000000</td>\n",
       "      <td>600.000000</td>\n",
       "      <td>...</td>\n",
       "      <td>600.000000</td>\n",
       "      <td>600.000000</td>\n",
       "      <td>600.000000</td>\n",
       "      <td>600.000000</td>\n",
       "      <td>600.000000</td>\n",
       "      <td>600.000000</td>\n",
       "      <td>600.000000</td>\n",
       "      <td>600.000000</td>\n",
       "      <td>6.000000e+02</td>\n",
       "      <td>600.000000</td>\n",
       "    </tr>\n",
       "    <tr>\n",
       "      <th>mean</th>\n",
       "      <td>3.291178</td>\n",
       "      <td>3.023683</td>\n",
       "      <td>1.612110</td>\n",
       "      <td>1.401943</td>\n",
       "      <td>0.445475</td>\n",
       "      <td>0.443902</td>\n",
       "      <td>952.741862</td>\n",
       "      <td>429.252575</td>\n",
       "      <td>0.780053</td>\n",
       "      <td>0.875930</td>\n",
       "      <td>...</td>\n",
       "      <td>98.350267</td>\n",
       "      <td>244.401700</td>\n",
       "      <td>114.675967</td>\n",
       "      <td>14.346167</td>\n",
       "      <td>0.125922</td>\n",
       "      <td>0.050187</td>\n",
       "      <td>6.778333</td>\n",
       "      <td>7.705000</td>\n",
       "      <td>8.151333e+08</td>\n",
       "      <td>273873.451297</td>\n",
       "    </tr>\n",
       "    <tr>\n",
       "      <th>std</th>\n",
       "      <td>0.873485</td>\n",
       "      <td>0.860389</td>\n",
       "      <td>0.293374</td>\n",
       "      <td>0.284020</td>\n",
       "      <td>0.263753</td>\n",
       "      <td>0.263375</td>\n",
       "      <td>59.131288</td>\n",
       "      <td>256.024933</td>\n",
       "      <td>0.164029</td>\n",
       "      <td>0.119888</td>\n",
       "      <td>...</td>\n",
       "      <td>74.527715</td>\n",
       "      <td>32.629514</td>\n",
       "      <td>42.258379</td>\n",
       "      <td>6.030663</td>\n",
       "      <td>0.884590</td>\n",
       "      <td>0.386503</td>\n",
       "      <td>4.095585</td>\n",
       "      <td>4.075413</td>\n",
       "      <td>4.747029e+08</td>\n",
       "      <td>197555.911349</td>\n",
       "    </tr>\n",
       "    <tr>\n",
       "      <th>min</th>\n",
       "      <td>1.487000</td>\n",
       "      <td>1.359000</td>\n",
       "      <td>0.382000</td>\n",
       "      <td>0.374000</td>\n",
       "      <td>0.000000</td>\n",
       "      <td>0.000000</td>\n",
       "      <td>292.060000</td>\n",
       "      <td>24.936000</td>\n",
       "      <td>0.298000</td>\n",
       "      <td>0.472000</td>\n",
       "      <td>...</td>\n",
       "      <td>8.600000</td>\n",
       "      <td>106.760000</td>\n",
       "      <td>14.690000</td>\n",
       "      <td>6.800000</td>\n",
       "      <td>0.005000</td>\n",
       "      <td>0.003000</td>\n",
       "      <td>0.000000</td>\n",
       "      <td>1.000000</td>\n",
       "      <td>3.124282e+08</td>\n",
       "      <td>88541.304254</td>\n",
       "    </tr>\n",
       "    <tr>\n",
       "      <th>25%</th>\n",
       "      <td>2.704000</td>\n",
       "      <td>2.436000</td>\n",
       "      <td>1.417000</td>\n",
       "      <td>1.157500</td>\n",
       "      <td>0.221500</td>\n",
       "      <td>0.215000</td>\n",
       "      <td>944.364000</td>\n",
       "      <td>193.127750</td>\n",
       "      <td>0.658500</td>\n",
       "      <td>0.791750</td>\n",
       "      <td>...</td>\n",
       "      <td>46.487500</td>\n",
       "      <td>225.717500</td>\n",
       "      <td>83.265000</td>\n",
       "      <td>11.400000</td>\n",
       "      <td>0.024000</td>\n",
       "      <td>0.009000</td>\n",
       "      <td>3.000000</td>\n",
       "      <td>4.000000</td>\n",
       "      <td>4.448477e+08</td>\n",
       "      <td>122534.440932</td>\n",
       "    </tr>\n",
       "    <tr>\n",
       "      <th>50%</th>\n",
       "      <td>3.161500</td>\n",
       "      <td>2.883000</td>\n",
       "      <td>1.628500</td>\n",
       "      <td>1.423000</td>\n",
       "      <td>0.468000</td>\n",
       "      <td>0.468000</td>\n",
       "      <td>963.853500</td>\n",
       "      <td>434.569000</td>\n",
       "      <td>0.827500</td>\n",
       "      <td>0.926000</td>\n",
       "      <td>...</td>\n",
       "      <td>79.620000</td>\n",
       "      <td>243.680000</td>\n",
       "      <td>119.090000</td>\n",
       "      <td>13.365000</td>\n",
       "      <td>0.049000</td>\n",
       "      <td>0.018000</td>\n",
       "      <td>7.000000</td>\n",
       "      <td>8.000000</td>\n",
       "      <td>5.735295e+08</td>\n",
       "      <td>198681.533746</td>\n",
       "    </tr>\n",
       "    <tr>\n",
       "      <th>75%</th>\n",
       "      <td>3.843000</td>\n",
       "      <td>3.542000</td>\n",
       "      <td>1.794000</td>\n",
       "      <td>1.625000</td>\n",
       "      <td>0.653000</td>\n",
       "      <td>0.652000</td>\n",
       "      <td>977.305500</td>\n",
       "      <td>636.558000</td>\n",
       "      <td>0.921000</td>\n",
       "      <td>0.971250</td>\n",
       "      <td>...</td>\n",
       "      <td>120.860000</td>\n",
       "      <td>267.540000</td>\n",
       "      <td>147.645000</td>\n",
       "      <td>15.695000</td>\n",
       "      <td>0.102000</td>\n",
       "      <td>0.032000</td>\n",
       "      <td>11.000000</td>\n",
       "      <td>11.000000</td>\n",
       "      <td>1.132490e+09</td>\n",
       "      <td>363612.475125</td>\n",
       "    </tr>\n",
       "    <tr>\n",
       "      <th>max</th>\n",
       "      <td>6.850000</td>\n",
       "      <td>6.544000</td>\n",
       "      <td>2.444000</td>\n",
       "      <td>2.000000</td>\n",
       "      <td>1.000000</td>\n",
       "      <td>1.000000</td>\n",
       "      <td>1000.000000</td>\n",
       "      <td>1000.000000</td>\n",
       "      <td>1.000000</td>\n",
       "      <td>1.000000</td>\n",
       "      <td>...</td>\n",
       "      <td>425.720000</td>\n",
       "      <td>383.960000</td>\n",
       "      <td>253.450000</td>\n",
       "      <td>74.220000</td>\n",
       "      <td>19.099000</td>\n",
       "      <td>7.396000</td>\n",
       "      <td>13.000000</td>\n",
       "      <td>14.000000</td>\n",
       "      <td>1.682483e+09</td>\n",
       "      <td>755160.172489</td>\n",
       "    </tr>\n",
       "  </tbody>\n",
       "</table>\n",
       "<p>8 rows × 28 columns</p>\n",
       "</div>"
      ],
      "text/plain": [
       "            n_isp      n_dn10     n_dn100     n_dn250  n_fiber_100u  \\\n",
       "count  600.000000  600.000000  600.000000  600.000000    600.000000   \n",
       "mean     3.291178    3.023683    1.612110    1.401943      0.445475   \n",
       "std      0.873485    0.860389    0.293374    0.284020      0.263753   \n",
       "min      1.487000    1.359000    0.382000    0.374000      0.000000   \n",
       "25%      2.704000    2.436000    1.417000    1.157500      0.221500   \n",
       "50%      3.161500    2.883000    1.628500    1.423000      0.468000   \n",
       "75%      3.843000    3.542000    1.794000    1.625000      0.653000   \n",
       "max      6.850000    6.544000    2.444000    2.000000      1.000000   \n",
       "\n",
       "       fiber_100u_exists       max_dn       max_up  f_broadband  f_computer  \\\n",
       "count         600.000000   600.000000   600.000000   600.000000  600.000000   \n",
       "mean            0.443902   952.741862   429.252575     0.780053    0.875930   \n",
       "std             0.263375    59.131288   256.024933     0.164029    0.119888   \n",
       "min             0.000000   292.060000    24.936000     0.298000    0.472000   \n",
       "25%             0.215000   944.364000   193.127750     0.658500    0.791750   \n",
       "50%             0.468000   963.853500   434.569000     0.827500    0.926000   \n",
       "75%             0.652000   977.305500   636.558000     0.921000    0.971250   \n",
       "max             1.000000  1000.000000  1000.000000     1.000000    1.000000   \n",
       "\n",
       "       ...     devices      d_mbps      u_mbps      lat_ms  tests_per_cap  \\\n",
       "count  ...  600.000000  600.000000  600.000000  600.000000     600.000000   \n",
       "mean   ...   98.350267  244.401700  114.675967   14.346167       0.125922   \n",
       "std    ...   74.527715   32.629514   42.258379    6.030663       0.884590   \n",
       "min    ...    8.600000  106.760000   14.690000    6.800000       0.005000   \n",
       "25%    ...   46.487500  225.717500   83.265000   11.400000       0.024000   \n",
       "50%    ...   79.620000  243.680000  119.090000   13.365000       0.049000   \n",
       "75%    ...  120.860000  267.540000  147.645000   15.695000       0.102000   \n",
       "max    ...  425.720000  383.960000  253.450000   74.220000      19.099000   \n",
       "\n",
       "       devices_per_cap  index_right     COUNCIL    SHAPE_STAr     SHAPE_STLe  \n",
       "count       600.000000   600.000000  600.000000  6.000000e+02     600.000000  \n",
       "mean          0.050187     6.778333    7.705000  8.151333e+08  273873.451297  \n",
       "std           0.386503     4.095585    4.075413  4.747029e+08  197555.911349  \n",
       "min           0.003000     0.000000    1.000000  3.124282e+08   88541.304254  \n",
       "25%           0.009000     3.000000    4.000000  4.448477e+08  122534.440932  \n",
       "50%           0.018000     7.000000    8.000000  5.735295e+08  198681.533746  \n",
       "75%           0.032000    11.000000   11.000000  1.132490e+09  363612.475125  \n",
       "max           7.396000    13.000000   14.000000  1.682483e+09  755160.172489  \n",
       "\n",
       "[8 rows x 28 columns]"
      ]
     },
     "execution_count": 7,
     "metadata": {},
     "output_type": "execute_result"
    }
   ],
   "source": [
    "dallas.describe()#i need to deal with duplicates one way or another. "
   ]
  },
  {
   "cell_type": "code",
   "execution_count": 21,
   "id": "2d8cea6e",
   "metadata": {},
   "outputs": [],
   "source": [
    "#for col in dallas.columns:\n",
    "    #print(col)"
   ]
  },
  {
   "cell_type": "code",
   "execution_count": 5,
   "id": "9fc17f01",
   "metadata": {},
   "outputs": [],
   "source": [
    "#dallas = dallas.drop(['geometry'], axis=1)\n",
    "df = neighborhood_df.drop(['geometry'], axis = 1)"
   ]
  },
  {
   "cell_type": "code",
   "execution_count": 6,
   "id": "e1ba4219",
   "metadata": {},
   "outputs": [
    {
     "name": "stdout",
     "output_type": "stream",
     "text": [
      "field_1\n",
      "City Name\n",
      "Neighborhood Name\n",
      "Number of Census Tracts\n",
      "Population\n",
      "Households\n",
      "Neighborhood Size\n",
      "% Black\n",
      "% Hispanic\n",
      "% >25 College Degree\n",
      "Avg household income\n",
      "% Broadband Access\n",
      "% > 100MB Access\n",
      "Devices per capita\n"
     ]
    }
   ],
   "source": [
    "for col in df.columns:\n",
    "    print(col)"
   ]
  },
  {
   "cell_type": "code",
   "execution_count": 7,
   "id": "dda64dc8",
   "metadata": {},
   "outputs": [
    {
     "data": {
      "text/html": [
       "<div>\n",
       "<style scoped>\n",
       "    .dataframe tbody tr th:only-of-type {\n",
       "        vertical-align: middle;\n",
       "    }\n",
       "\n",
       "    .dataframe tbody tr th {\n",
       "        vertical-align: top;\n",
       "    }\n",
       "\n",
       "    .dataframe thead th {\n",
       "        text-align: right;\n",
       "    }\n",
       "</style>\n",
       "<table border=\"1\" class=\"dataframe\">\n",
       "  <thead>\n",
       "    <tr style=\"text-align: right;\">\n",
       "      <th></th>\n",
       "      <th>field_1</th>\n",
       "      <th>City Name</th>\n",
       "      <th>Neighborhood Name</th>\n",
       "      <th>Number of Census Tracts</th>\n",
       "      <th>Population</th>\n",
       "      <th>Households</th>\n",
       "      <th>Neighborhood Size</th>\n",
       "      <th>% Black</th>\n",
       "      <th>% Hispanic</th>\n",
       "      <th>% &gt;25 College Degree</th>\n",
       "      <th>Avg household income</th>\n",
       "      <th>% Broadband Access</th>\n",
       "      <th>% &gt; 100MB Access</th>\n",
       "      <th>Devices per capita</th>\n",
       "    </tr>\n",
       "  </thead>\n",
       "  <tbody>\n",
       "    <tr>\n",
       "      <th>0</th>\n",
       "      <td>0</td>\n",
       "      <td>Seattle</td>\n",
       "      <td>2</td>\n",
       "      <td>1</td>\n",
       "      <td>5891.0</td>\n",
       "      <td>2387.0</td>\n",
       "      <td>0.00047549711746305547</td>\n",
       "      <td>0.009</td>\n",
       "      <td>0.046</td>\n",
       "      <td>0.764</td>\n",
       "      <td>134554.0</td>\n",
       "      <td>0.972</td>\n",
       "      <td>0.598</td>\n",
       "      <td>0.02</td>\n",
       "    </tr>\n",
       "    <tr>\n",
       "      <th>1</th>\n",
       "      <td>1</td>\n",
       "      <td>Seattle</td>\n",
       "      <td>3</td>\n",
       "      <td>1</td>\n",
       "      <td>4536.0</td>\n",
       "      <td>1668.0</td>\n",
       "      <td>0.00035886523808824567</td>\n",
       "      <td>0.027</td>\n",
       "      <td>0.044</td>\n",
       "      <td>0.879</td>\n",
       "      <td>208636.0</td>\n",
       "      <td>0.991</td>\n",
       "      <td>0.583</td>\n",
       "      <td>0.022</td>\n",
       "    </tr>\n",
       "    <tr>\n",
       "      <th>2</th>\n",
       "      <td>2</td>\n",
       "      <td>Seattle</td>\n",
       "      <td>5</td>\n",
       "      <td>1</td>\n",
       "      <td>9140.0</td>\n",
       "      <td>4526.0</td>\n",
       "      <td>0.00031654731843759517</td>\n",
       "      <td>0.013</td>\n",
       "      <td>0.059</td>\n",
       "      <td>0.7</td>\n",
       "      <td>95182.0</td>\n",
       "      <td>0.915</td>\n",
       "      <td>0.774</td>\n",
       "      <td>0.028</td>\n",
       "    </tr>\n",
       "    <tr>\n",
       "      <th>3</th>\n",
       "      <td>3</td>\n",
       "      <td>Seattle</td>\n",
       "      <td>6</td>\n",
       "      <td>1</td>\n",
       "      <td>9140.0</td>\n",
       "      <td>4526.0</td>\n",
       "      <td>0.00031654731843759517</td>\n",
       "      <td>0.013</td>\n",
       "      <td>0.059</td>\n",
       "      <td>0.7</td>\n",
       "      <td>95182.0</td>\n",
       "      <td>0.915</td>\n",
       "      <td>0.774</td>\n",
       "      <td>0.028</td>\n",
       "    </tr>\n",
       "    <tr>\n",
       "      <th>4</th>\n",
       "      <td>4</td>\n",
       "      <td>Seattle</td>\n",
       "      <td>7</td>\n",
       "      <td>1</td>\n",
       "      <td>5926.0</td>\n",
       "      <td>149.0</td>\n",
       "      <td>0.00039223627324401635</td>\n",
       "      <td>0.055</td>\n",
       "      <td>0.069</td>\n",
       "      <td>0.478</td>\n",
       "      <td>17188.0</td>\n",
       "      <td>0.443</td>\n",
       "      <td>0.04</td>\n",
       "      <td>0.008</td>\n",
       "    </tr>\n",
       "  </tbody>\n",
       "</table>\n",
       "</div>"
      ],
      "text/plain": [
       "  field_1 City Name Neighborhood Name Number of Census Tracts Population  \\\n",
       "0       0   Seattle                 2                       1     5891.0   \n",
       "1       1   Seattle                 3                       1     4536.0   \n",
       "2       2   Seattle                 5                       1     9140.0   \n",
       "3       3   Seattle                 6                       1     9140.0   \n",
       "4       4   Seattle                 7                       1     5926.0   \n",
       "\n",
       "  Households       Neighborhood Size % Black % Hispanic % >25 College Degree  \\\n",
       "0     2387.0  0.00047549711746305547   0.009      0.046                0.764   \n",
       "1     1668.0  0.00035886523808824567   0.027      0.044                0.879   \n",
       "2     4526.0  0.00031654731843759517   0.013      0.059                  0.7   \n",
       "3     4526.0  0.00031654731843759517   0.013      0.059                  0.7   \n",
       "4      149.0  0.00039223627324401635   0.055      0.069                0.478   \n",
       "\n",
       "  Avg household income % Broadband Access % > 100MB Access Devices per capita  \n",
       "0             134554.0              0.972            0.598               0.02  \n",
       "1             208636.0              0.991            0.583              0.022  \n",
       "2              95182.0              0.915            0.774              0.028  \n",
       "3              95182.0              0.915            0.774              0.028  \n",
       "4              17188.0              0.443             0.04              0.008  "
      ]
     },
     "execution_count": 7,
     "metadata": {},
     "output_type": "execute_result"
    }
   ],
   "source": [
    "df.head()"
   ]
  },
  {
   "cell_type": "code",
   "execution_count": 29,
   "id": "123a2fe3",
   "metadata": {},
   "outputs": [
    {
     "data": {
      "text/plain": [
       "(2078, 14)"
      ]
     },
     "execution_count": 29,
     "metadata": {},
     "output_type": "execute_result"
    }
   ],
   "source": [
    "df.shape"
   ]
  },
  {
   "cell_type": "code",
   "execution_count": 8,
   "id": "5d76e1ff",
   "metadata": {},
   "outputs": [],
   "source": [
    "duplicate_rows = np.where(df.duplicated(subset=['City Name', 'Population', 'Households',\n",
    "       'Neighborhood Size', '% Black', '% Hispanic', '% >25 College Degree',\n",
    "       'Avg household income', '% Broadband Access', '% > 100MB Access',\n",
    "       'Devices per capita']))[0]"
   ]
  },
  {
   "cell_type": "code",
   "execution_count": 9,
   "id": "62a49231",
   "metadata": {},
   "outputs": [],
   "source": [
    "df = df.drop(duplicate_rows)"
   ]
  },
  {
   "cell_type": "markdown",
   "id": "d17860a2",
   "metadata": {},
   "source": [
    "## Calculating interquartile range"
   ]
  },
  {
   "cell_type": "markdown",
   "id": "20f29f1a",
   "metadata": {},
   "source": [
    "IQR - \"is a measure of statistical dispersion of the data\". IQR gives us the range of the middle half of the dataset. By calculating IQR, we understand the middle distribution of broadband data. \n"
   ]
  },
  {
   "cell_type": "code",
   "execution_count": 10,
   "id": "c586020b",
   "metadata": {},
   "outputs": [],
   "source": [
    "df['% Broadband Access'] = pd.to_numeric(df['% Broadband Access'])\n",
    "df['Avg household income'] = pd.to_numeric(df['Avg household income'])"
   ]
  },
  {
   "cell_type": "code",
   "execution_count": 87,
   "id": "a51afcac",
   "metadata": {},
   "outputs": [],
   "source": [
    "#df_city = df[df['City Name'] == 'Seattle']"
   ]
  },
  {
   "cell_type": "code",
   "execution_count": 11,
   "id": "0bc30b52",
   "metadata": {},
   "outputs": [],
   "source": [
    "def iqr_broadband(city): \n",
    "\n",
    "    df_city = df[df['City Name'] == city]\n",
    "    df_city_broadband = df_city['% Broadband Access']\n",
    "    array_city_broadband = np.array(df_city_broadband)\n",
    "    Q3 = np.quantile(array_city_broadband, 0.75) \n",
    "    Q1 = np.quantile(array_city_broadband, 0.25)\n",
    "    iqr_results = Q3 - Q1\n",
    "    \n",
    "    return iqr_results"
   ]
  },
  {
   "cell_type": "code",
   "execution_count": 12,
   "id": "ac7665e0",
   "metadata": {},
   "outputs": [
    {
     "name": "stdout",
     "output_type": "stream",
     "text": [
      "Seattle 0.05962500000000004\n",
      "Denver 0.060630681818181764\n",
      "Portland 0.04764236111111109\n",
      "Washington, D.C. 0.18402857142857143\n",
      "Boston nan\n",
      "Albuquerque 0.11062499999999986\n",
      "Houston 0.15476515151515147\n",
      "Indianapolis 0.10889204545454545\n",
      "Los Angeles 0.10528026849037486\n",
      "Phoenix 0.15715944087936573\n",
      "San Francisco 0.06314285714285706\n",
      "Austin 0.11740714285714282\n",
      "Dallas 0.21428518692564735\n",
      "San Jose 0.039700420168067296\n",
      "San Diego 0.07402415458937195\n",
      "Baltimore 0.18869999999999998\n",
      "Detroit nan\n",
      "Louisville nan\n"
     ]
    }
   ],
   "source": [
    "results_iqr = []\n",
    "\n",
    "for city in df['City Name'].unique():\n",
    "    print(city, iqr_broadband(city))\n",
    "    results_iqr.append(iqr_broadband(city))\n",
    "    \n",
    "iqr_broadband_df = pd.DataFrame({'City Name': df['City Name'].unique(), \"IQR Broadband\" : results_iqr})"
   ]
  },
  {
   "cell_type": "code",
   "execution_count": 13,
   "id": "2599ee08",
   "metadata": {},
   "outputs": [
    {
     "data": {
      "text/html": [
       "<div>\n",
       "<style scoped>\n",
       "    .dataframe tbody tr th:only-of-type {\n",
       "        vertical-align: middle;\n",
       "    }\n",
       "\n",
       "    .dataframe tbody tr th {\n",
       "        vertical-align: top;\n",
       "    }\n",
       "\n",
       "    .dataframe thead th {\n",
       "        text-align: right;\n",
       "    }\n",
       "</style>\n",
       "<table border=\"1\" class=\"dataframe\">\n",
       "  <thead>\n",
       "    <tr style=\"text-align: right;\">\n",
       "      <th></th>\n",
       "      <th>City Name</th>\n",
       "      <th>IQR Broadband</th>\n",
       "    </tr>\n",
       "  </thead>\n",
       "  <tbody>\n",
       "    <tr>\n",
       "      <th>0</th>\n",
       "      <td>Seattle</td>\n",
       "      <td>0.059625</td>\n",
       "    </tr>\n",
       "    <tr>\n",
       "      <th>1</th>\n",
       "      <td>Denver</td>\n",
       "      <td>0.060631</td>\n",
       "    </tr>\n",
       "    <tr>\n",
       "      <th>2</th>\n",
       "      <td>Portland</td>\n",
       "      <td>0.047642</td>\n",
       "    </tr>\n",
       "    <tr>\n",
       "      <th>3</th>\n",
       "      <td>Washington, D.C.</td>\n",
       "      <td>0.184029</td>\n",
       "    </tr>\n",
       "    <tr>\n",
       "      <th>4</th>\n",
       "      <td>Boston</td>\n",
       "      <td>NaN</td>\n",
       "    </tr>\n",
       "    <tr>\n",
       "      <th>5</th>\n",
       "      <td>Albuquerque</td>\n",
       "      <td>0.110625</td>\n",
       "    </tr>\n",
       "    <tr>\n",
       "      <th>6</th>\n",
       "      <td>Houston</td>\n",
       "      <td>0.154765</td>\n",
       "    </tr>\n",
       "    <tr>\n",
       "      <th>7</th>\n",
       "      <td>Indianapolis</td>\n",
       "      <td>0.108892</td>\n",
       "    </tr>\n",
       "    <tr>\n",
       "      <th>8</th>\n",
       "      <td>Los Angeles</td>\n",
       "      <td>0.105280</td>\n",
       "    </tr>\n",
       "    <tr>\n",
       "      <th>9</th>\n",
       "      <td>Phoenix</td>\n",
       "      <td>0.157159</td>\n",
       "    </tr>\n",
       "    <tr>\n",
       "      <th>10</th>\n",
       "      <td>San Francisco</td>\n",
       "      <td>0.063143</td>\n",
       "    </tr>\n",
       "    <tr>\n",
       "      <th>11</th>\n",
       "      <td>Austin</td>\n",
       "      <td>0.117407</td>\n",
       "    </tr>\n",
       "    <tr>\n",
       "      <th>12</th>\n",
       "      <td>Dallas</td>\n",
       "      <td>0.214285</td>\n",
       "    </tr>\n",
       "    <tr>\n",
       "      <th>13</th>\n",
       "      <td>San Jose</td>\n",
       "      <td>0.039700</td>\n",
       "    </tr>\n",
       "    <tr>\n",
       "      <th>14</th>\n",
       "      <td>San Diego</td>\n",
       "      <td>0.074024</td>\n",
       "    </tr>\n",
       "    <tr>\n",
       "      <th>15</th>\n",
       "      <td>Baltimore</td>\n",
       "      <td>0.188700</td>\n",
       "    </tr>\n",
       "    <tr>\n",
       "      <th>16</th>\n",
       "      <td>Detroit</td>\n",
       "      <td>NaN</td>\n",
       "    </tr>\n",
       "    <tr>\n",
       "      <th>17</th>\n",
       "      <td>Louisville</td>\n",
       "      <td>NaN</td>\n",
       "    </tr>\n",
       "  </tbody>\n",
       "</table>\n",
       "</div>"
      ],
      "text/plain": [
       "           City Name  IQR Broadband\n",
       "0            Seattle       0.059625\n",
       "1             Denver       0.060631\n",
       "2           Portland       0.047642\n",
       "3   Washington, D.C.       0.184029\n",
       "4             Boston            NaN\n",
       "5        Albuquerque       0.110625\n",
       "6            Houston       0.154765\n",
       "7       Indianapolis       0.108892\n",
       "8        Los Angeles       0.105280\n",
       "9            Phoenix       0.157159\n",
       "10     San Francisco       0.063143\n",
       "11            Austin       0.117407\n",
       "12            Dallas       0.214285\n",
       "13          San Jose       0.039700\n",
       "14         San Diego       0.074024\n",
       "15         Baltimore       0.188700\n",
       "16           Detroit            NaN\n",
       "17        Louisville            NaN"
      ]
     },
     "execution_count": 13,
     "metadata": {},
     "output_type": "execute_result"
    }
   ],
   "source": [
    "iqr_broadband_df"
   ]
  },
  {
   "cell_type": "code",
   "execution_count": 14,
   "id": "bf9b578e",
   "metadata": {},
   "outputs": [],
   "source": [
    "def iqr_income(city): \n",
    "\n",
    "    df_city = df[df['City Name'] == city]\n",
    "    df_city_income = df_city['Avg household income']\n",
    "    array_city_income = np.array(df_city_income)\n",
    "    Q3 = np.quantile(array_city_income, 0.75) \n",
    "    Q1 = np.quantile(array_city_income, 0.25)\n",
    "    iqr_range = Q3 - Q1\n",
    "    \n",
    "    return iqr_range"
   ]
  },
  {
   "cell_type": "code",
   "execution_count": 15,
   "id": "1e0e133f",
   "metadata": {},
   "outputs": [
    {
     "data": {
      "text/plain": [
       "53174.884615384595"
      ]
     },
     "execution_count": 15,
     "metadata": {},
     "output_type": "execute_result"
    }
   ],
   "source": [
    "iqr_income('San Diego')"
   ]
  },
  {
   "cell_type": "code",
   "execution_count": 16,
   "id": "3b687966",
   "metadata": {},
   "outputs": [
    {
     "name": "stdout",
     "output_type": "stream",
     "text": [
      "Seattle 35407.80416666668\n",
      "Denver 25519.777272727275\n",
      "Portland 33286.739285714284\n",
      "Washington, D.C. 72058.56796328671\n",
      "Boston nan\n",
      "Albuquerque 28817.25\n",
      "Houston 33168.03750000001\n",
      "Indianapolis 27304.887500000004\n",
      "Los Angeles 37274.174388674364\n",
      "Phoenix 39376.07240215925\n",
      "San Francisco 64972.18571428573\n",
      "Austin 27420.18571428572\n",
      "Dallas 35263.49322179322\n",
      "San Jose 46103.3785699062\n",
      "San Diego 53174.884615384595\n",
      "Baltimore 23337.333333333336\n",
      "Detroit nan\n",
      "Louisville nan\n"
     ]
    }
   ],
   "source": [
    "results = []\n",
    "for city in df['City Name'].unique():\n",
    "    print(city, iqr_income(city))\n",
    "    results.append(iqr_income(city))\n",
    "    \n",
    "iqr_income_df = pd.DataFrame({'City Name': df['City Name'].unique(), \"IQR Income\" : results})"
   ]
  },
  {
   "cell_type": "code",
   "execution_count": 17,
   "id": "f9fd01cc",
   "metadata": {},
   "outputs": [
    {
     "data": {
      "text/html": [
       "<div>\n",
       "<style scoped>\n",
       "    .dataframe tbody tr th:only-of-type {\n",
       "        vertical-align: middle;\n",
       "    }\n",
       "\n",
       "    .dataframe tbody tr th {\n",
       "        vertical-align: top;\n",
       "    }\n",
       "\n",
       "    .dataframe thead th {\n",
       "        text-align: right;\n",
       "    }\n",
       "</style>\n",
       "<table border=\"1\" class=\"dataframe\">\n",
       "  <thead>\n",
       "    <tr style=\"text-align: right;\">\n",
       "      <th></th>\n",
       "      <th>City Name</th>\n",
       "      <th>IQR Income</th>\n",
       "    </tr>\n",
       "  </thead>\n",
       "  <tbody>\n",
       "    <tr>\n",
       "      <th>15</th>\n",
       "      <td>Baltimore</td>\n",
       "      <td>23337.333333</td>\n",
       "    </tr>\n",
       "    <tr>\n",
       "      <th>1</th>\n",
       "      <td>Denver</td>\n",
       "      <td>25519.777273</td>\n",
       "    </tr>\n",
       "    <tr>\n",
       "      <th>7</th>\n",
       "      <td>Indianapolis</td>\n",
       "      <td>27304.887500</td>\n",
       "    </tr>\n",
       "    <tr>\n",
       "      <th>11</th>\n",
       "      <td>Austin</td>\n",
       "      <td>27420.185714</td>\n",
       "    </tr>\n",
       "    <tr>\n",
       "      <th>5</th>\n",
       "      <td>Albuquerque</td>\n",
       "      <td>28817.250000</td>\n",
       "    </tr>\n",
       "    <tr>\n",
       "      <th>6</th>\n",
       "      <td>Houston</td>\n",
       "      <td>33168.037500</td>\n",
       "    </tr>\n",
       "    <tr>\n",
       "      <th>2</th>\n",
       "      <td>Portland</td>\n",
       "      <td>33286.739286</td>\n",
       "    </tr>\n",
       "    <tr>\n",
       "      <th>12</th>\n",
       "      <td>Dallas</td>\n",
       "      <td>35263.493222</td>\n",
       "    </tr>\n",
       "    <tr>\n",
       "      <th>0</th>\n",
       "      <td>Seattle</td>\n",
       "      <td>35407.804167</td>\n",
       "    </tr>\n",
       "    <tr>\n",
       "      <th>8</th>\n",
       "      <td>Los Angeles</td>\n",
       "      <td>37274.174389</td>\n",
       "    </tr>\n",
       "    <tr>\n",
       "      <th>9</th>\n",
       "      <td>Phoenix</td>\n",
       "      <td>39376.072402</td>\n",
       "    </tr>\n",
       "    <tr>\n",
       "      <th>13</th>\n",
       "      <td>San Jose</td>\n",
       "      <td>46103.378570</td>\n",
       "    </tr>\n",
       "    <tr>\n",
       "      <th>14</th>\n",
       "      <td>San Diego</td>\n",
       "      <td>53174.884615</td>\n",
       "    </tr>\n",
       "    <tr>\n",
       "      <th>10</th>\n",
       "      <td>San Francisco</td>\n",
       "      <td>64972.185714</td>\n",
       "    </tr>\n",
       "    <tr>\n",
       "      <th>3</th>\n",
       "      <td>Washington, D.C.</td>\n",
       "      <td>72058.567963</td>\n",
       "    </tr>\n",
       "    <tr>\n",
       "      <th>4</th>\n",
       "      <td>Boston</td>\n",
       "      <td>NaN</td>\n",
       "    </tr>\n",
       "    <tr>\n",
       "      <th>16</th>\n",
       "      <td>Detroit</td>\n",
       "      <td>NaN</td>\n",
       "    </tr>\n",
       "    <tr>\n",
       "      <th>17</th>\n",
       "      <td>Louisville</td>\n",
       "      <td>NaN</td>\n",
       "    </tr>\n",
       "  </tbody>\n",
       "</table>\n",
       "</div>"
      ],
      "text/plain": [
       "           City Name    IQR Income\n",
       "15         Baltimore  23337.333333\n",
       "1             Denver  25519.777273\n",
       "7       Indianapolis  27304.887500\n",
       "11            Austin  27420.185714\n",
       "5        Albuquerque  28817.250000\n",
       "6            Houston  33168.037500\n",
       "2           Portland  33286.739286\n",
       "12            Dallas  35263.493222\n",
       "0            Seattle  35407.804167\n",
       "8        Los Angeles  37274.174389\n",
       "9            Phoenix  39376.072402\n",
       "13          San Jose  46103.378570\n",
       "14         San Diego  53174.884615\n",
       "10     San Francisco  64972.185714\n",
       "3   Washington, D.C.  72058.567963\n",
       "4             Boston           NaN\n",
       "16           Detroit           NaN\n",
       "17        Louisville           NaN"
      ]
     },
     "execution_count": 17,
     "metadata": {},
     "output_type": "execute_result"
    }
   ],
   "source": [
    "iqr_income_df = iqr_income_df.sort_values(by = ['IQR Income'])\n",
    "iqr_income_df"
   ]
  },
  {
   "cell_type": "code",
   "execution_count": 20,
   "id": "58377709",
   "metadata": {},
   "outputs": [],
   "source": [
    "iqr = iqr_income_df.merge(iqr_broadband_df, right_on = 'City Name', left_on = 'City Name')\n",
    "\n",
    "iqr = iqr.sort_values(by = ['IQR Income'])"
   ]
  },
  {
   "cell_type": "code",
   "execution_count": 19,
   "id": "4ae8cf9b",
   "metadata": {},
   "outputs": [],
   "source": [
    "iqr = iqr.dropna(inplace= True)\n"
   ]
  },
  {
   "cell_type": "markdown",
   "id": "1cdddcb9",
   "metadata": {},
   "source": [
    "#### plotting iqr broadband to iqr wealth "
   ]
  },
  {
   "cell_type": "code",
   "execution_count": 210,
   "id": "4022a60e",
   "metadata": {},
   "outputs": [
    {
     "data": {
      "image/png": "[encoded data removed]",
      "text/plain": [
       "<Figure size 842.4x595.44 with 1 Axes>"
      ]
     },
     "metadata": {},
     "output_type": "display_data"
    }
   ],
   "source": [
    "sns.set(rc={'figure.figsize':(11.7,8.27)})\n",
    "\n",
    "fig, ax = plt.subplots()\n",
    "\n",
    "sns.barplot(data=iqr, x=\"IQR Income\", y=\"IQR Broadband\", hue = \"City Name\")\n",
    "\n",
    "ax.legend(bbox_to_anchor=(1.0, 1.0))\n",
    "\n",
    "plt.xticks(rotation = 45)\n",
    "\n",
    "plt.show()"
   ]
  },
  {
   "cell_type": "code",
   "execution_count": null,
   "id": "e2260278",
   "metadata": {},
   "outputs": [],
   "source": [
    "#reduce iqr to 2 decimal points to make visualization easier "
   ]
  },
  {
   "cell_type": "code",
   "execution_count": null,
   "id": "ffcba056",
   "metadata": {},
   "outputs": [],
   "source": []
  },
  {
   "cell_type": "code",
   "execution_count": 24,
   "id": "241be431",
   "metadata": {},
   "outputs": [
    {
     "data": {
      "image/png": "[encoded data removed]",
      "text/plain": [
       "<Figure size 842.4x595.44 with 1 Axes>"
      ]
     },
     "metadata": {},
     "output_type": "display_data"
    }
   ],
   "source": [
    "seaborn.set(rc={'figure.figsize':(11.7,8.27)})\n",
    "\n",
    "cities = iqr['City Name'].unique()\n",
    "\n",
    "fig, ax = plt.subplots()\n",
    "\n",
    "for city in range(len(cities)): \n",
    "    iqr_city = iqr.loc[iqr['City Name'] == cities[city]]\n",
    "    x, y = iqr_city['IQR Income'], iqr_city['IQR Broadband']\n",
    "    ax.scatter(x, y, label=cities[city])\n",
    "\n",
    "ax.legend(bbox_to_anchor=(1.05, 1.0))\n",
    "plt.xlabel('IQR Income')\n",
    "plt.ylabel('IQR Broadband')\n",
    "plt.title('IQR Income versus IQR Broadband')\n",
    "ax.grid(True)\n",
    "    \n",
    "plt.show()"
   ]
  },
  {
   "cell_type": "code",
   "execution_count": 124,
   "id": "09d0a4b0",
   "metadata": {},
   "outputs": [
    {
     "data": {
      "image/png": "[encoded data removed]",
      "text/plain": [
       "<Figure size 432x288 with 1 Axes>"
      ]
     },
     "metadata": {
      "needs_background": "light"
     },
     "output_type": "display_data"
    }
   ],
   "source": [
    "cities = iqr['City Name'].unique()\n",
    "\n",
    "fig, ax = plt.subplots()\n",
    "\n",
    "for city in range(len(cities)): \n",
    "    iqr_city = iqr.loc[iqr['City Name'] == cities[city]]\n",
    "    x, y = iqr_city['IQR Income'], iqr_city['IQR Broadband']\n",
    "    ax.bar(x, y, label=cities[city])\n",
    "\n",
    "ax.legend(bbox_to_anchor=(1.05, 1.0))\n",
    "\n",
    "ax.grid(True)\n",
    "    \n",
    "plt.show()"
   ]
  },
  {
   "cell_type": "markdown",
   "id": "e806b2f3",
   "metadata": {},
   "source": [
    "### Removing outliers to see if that changes the IQR "
   ]
  },
  {
   "cell_type": "markdown",
   "id": "0ee9e9dc",
   "metadata": {},
   "source": [
    "Filtering out outliers in every city will allow us to make sure that we are not misrepresenting the data. "
   ]
  },
  {
   "cell_type": "markdown",
   "id": "e224c9f7",
   "metadata": {},
   "source": [
    "#finding outliers: \n",
    "https://www.statology.org/remove-outliers-python/\n"
   ]
  },
  {
   "cell_type": "code",
   "execution_count": 25,
   "id": "a5960623",
   "metadata": {},
   "outputs": [],
   "source": [
    "def removeOutliers(data, col): \n",
    "    Q3 = np.quantile(data[col], 0.75)\n",
    "    Q1 = np.quantile(data[col], 0.25)\n",
    "    IQR = Q3 - Q1 \n",
    "    \n",
    "    print(\"The interquartile range for column % is: %\" % (col, IQR))\n",
    "    global outlier_free_list \n",
    "    global filtered_data \n",
    "    \n",
    "    lower_range = Q1 - 1.5 * IQR \n",
    "    upper_range = Q3 + 1.5 * IQR \n",
    "    outlier_free_list = [x for x in data[col] if (\n",
    "        (x > lower_range) & (x < upper_range))]\n",
    "    filtered_data = data.loc[data[col].isin(outlier_free_list)]\n",
    "    \n",
    "    for i in data.columns:\n",
    "        if i == data.columns[0]:\n",
    "            removeOutliers(data, i)\n",
    "        else: \n",
    "            removeOutliers(filtered_data, i)"
   ]
  },
  {
   "cell_type": "code",
   "execution_count": 89,
   "id": "94a1b1eb",
   "metadata": {},
   "outputs": [],
   "source": [
    "#df_city.head"
   ]
  },
  {
   "cell_type": "markdown",
   "id": "1fdfe3c8",
   "metadata": {},
   "source": [
    "## Lorenz curve "
   ]
  },
  {
   "cell_type": "code",
   "execution_count": null,
   "id": "c2309920",
   "metadata": {},
   "outputs": [],
   "source": [
    "#ineqpy.skew(variable=x, weights=w)\n",
    "#https://towardsdatascience.com/statistical-indexes-for-measuring-inequality-7f2ca72fd65e"
   ]
  },
  {
   "cell_type": "code",
   "execution_count": 13,
   "id": "7bd5d455",
   "metadata": {},
   "outputs": [],
   "source": [
    "def lorenz_curve(df): \n",
    "    \n",
    "    cities = list(df['City Name'].unique())\n",
    "    \n",
    "    results = pd.DataFrame(\"\", index = cities, columns = ['skewness'])  \n",
    "    \n",
    "    for city in cities: \n",
    "        df_city = df[df['City Name'] == city]\n",
    "        skewness = ineq.skew(df_city['% Broadband Access'], df_city['Population'])\n",
    "        result.loc[city, 'skewness'] = skewness\n",
    "\n",
    "    results['skewness'] = results['skewness'].apply(pd.to_numeric)\n",
    "    \n",
    "    return results  "
   ]
  },
  {
   "cell_type": "code",
   "execution_count": 27,
   "id": "78a831e0",
   "metadata": {},
   "outputs": [
    {
     "ename": "AttributeError",
     "evalue": "module 'ineqpy' has no attribute 'theil'",
     "output_type": "error",
     "traceback": [
      "\u001b[0;31m---------------------------------------------------------------------------\u001b[0m",
      "\u001b[0;31mAttributeError\u001b[0m                            Traceback (most recent call last)",
      "\u001b[0;32m/tmp/ipykernel_159/3580259809.py\u001b[0m in \u001b[0;36m<module>\u001b[0;34m\u001b[0m\n\u001b[1;32m      1\u001b[0m \u001b[0mcities\u001b[0m \u001b[0;34m=\u001b[0m \u001b[0mlist\u001b[0m\u001b[0;34m(\u001b[0m\u001b[0mdf\u001b[0m\u001b[0;34m[\u001b[0m\u001b[0;34m'City Name'\u001b[0m\u001b[0;34m]\u001b[0m\u001b[0;34m.\u001b[0m\u001b[0munique\u001b[0m\u001b[0;34m(\u001b[0m\u001b[0;34m)\u001b[0m\u001b[0;34m)\u001b[0m\u001b[0;34m\u001b[0m\u001b[0;34m\u001b[0m\u001b[0m\n\u001b[1;32m      2\u001b[0m \u001b[0mdf_city\u001b[0m \u001b[0;34m=\u001b[0m \u001b[0mdf\u001b[0m\u001b[0;34m[\u001b[0m\u001b[0mdf\u001b[0m\u001b[0;34m[\u001b[0m\u001b[0;34m'City Name'\u001b[0m\u001b[0;34m]\u001b[0m \u001b[0;34m==\u001b[0m \u001b[0;34m\"Seattle\"\u001b[0m\u001b[0;34m]\u001b[0m\u001b[0;34m\u001b[0m\u001b[0;34m\u001b[0m\u001b[0m\n\u001b[0;32m----> 3\u001b[0;31m \u001b[0mskewness\u001b[0m \u001b[0;34m=\u001b[0m \u001b[0mineqpy\u001b[0m\u001b[0;34m.\u001b[0m\u001b[0mtheil\u001b[0m\u001b[0;34m.\u001b[0m\u001b[0mindex\u001b[0m\u001b[0;34m(\u001b[0m\u001b[0mdf_city\u001b[0m\u001b[0;34m[\u001b[0m\u001b[0;34m'% Broadband Access'\u001b[0m\u001b[0;34m]\u001b[0m\u001b[0;34m,\u001b[0m \u001b[0mdf_city\u001b[0m\u001b[0;34m[\u001b[0m\u001b[0;34m'Population'\u001b[0m\u001b[0;34m]\u001b[0m\u001b[0;34m)\u001b[0m\u001b[0;34m\u001b[0m\u001b[0;34m\u001b[0m\u001b[0m\n\u001b[0m",
      "\u001b[0;31mAttributeError\u001b[0m: module 'ineqpy' has no attribute 'theil'"
     ]
    }
   ],
   "source": [
    "cities = list(df['City Name'].unique())\n",
    "df_city = df[df['City Name'] == \"Seattle\"]\n",
    "skewness = ineq.skew(df_city['% Broadband Access'], df_city['Population'])\n"
   ]
  },
  {
   "cell_type": "code",
   "execution_count": null,
   "id": "286b0fb8",
   "metadata": {},
   "outputs": [],
   "source": []
  },
  {
   "cell_type": "code",
   "execution_count": 7,
   "id": "75c9c3a5",
   "metadata": {},
   "outputs": [],
   "source": [
    "lorenz_curve(df)"
   ]
  },
  {
   "cell_type": "markdown",
   "id": "59282c79",
   "metadata": {},
   "source": [
    "## Hoover/Robinhood index"
   ]
  },
  {
   "cell_type": "markdown",
   "id": "a9e42c69",
   "metadata": {},
   "source": [
    "Example: https://mmngreco.github.io/IneqPy/_modules/ineqpy/inequality.html\n",
    "https://en.wikipedia.org/wiki/Hoover_index\n",
    "https://search.r-project.org/CRAN/refmans/REAT/html/hoover.html\n"
   ]
  },
  {
   "cell_type": "markdown",
   "id": "0d408070",
   "metadata": {},
   "source": [
    "Explanation: \n",
    "Hoover is a measure of income inequality. \"It is equal to the portion of the total community income that would have to be redistributed (taken from the richer half of the population and given to the poorer half) for there to be income uniformity.\" \n",
    "\n",
    "i.e. The Hoover is the total amount (as a percentage of the national-income) by which people have less than their equal income-share."
   ]
  },
  {
   "cell_type": "markdown",
   "id": "cbf1aee0",
   "metadata": {},
   "source": [
    "Formula: H = 1/2 sum_i( |xi - mu| ) / sum_i(xi)"
   ]
  },
  {
   "cell_type": "code",
   "execution_count": 21,
   "id": "54844a6f",
   "metadata": {},
   "outputs": [],
   "source": [
    "def hoover(df): \n",
    "    cities = list(df['City Name'].unique())\n",
    "    \n",
    "    results = pd.DataFrame(\"\", index = cities, columns = ['hoover'])  \n",
    "    \n",
    "    for city in cities: \n",
    "        df_city = df[df['City Name'] == city]\n",
    "        df_city_broadband = df_city['% Broadband Access']\n",
    "        weights = df_city['Population'] \n",
    "        n = weights.size \n",
    "        hoover_index = 0.5 * np.absolute(weights - 1.0 / n).sum()\n",
    "        results.loc[city, 'hoover'] = hoover_index\n",
    "        \n",
    "    results['hoover'] = results['hoover_income'].apply(pd.to_numeric)\n",
    "\n"
   ]
  },
  {
   "cell_type": "code",
   "execution_count": 22,
   "id": "dec09ad8",
   "metadata": {},
   "outputs": [
    {
     "ename": "AttributeError",
     "evalue": "'Series' object has no attribute 'weights'",
     "output_type": "error",
     "traceback": [
      "\u001b[0;31m---------------------------------------------------------------------------\u001b[0m",
      "\u001b[0;31mAttributeError\u001b[0m                            Traceback (most recent call last)",
      "\u001b[0;32m/tmp/ipykernel_98/4210602893.py\u001b[0m in \u001b[0;36m<module>\u001b[0;34m\u001b[0m\n\u001b[0;32m----> 1\u001b[0;31m \u001b[0mhoover\u001b[0m\u001b[0;34m(\u001b[0m\u001b[0mdf\u001b[0m\u001b[0;34m)\u001b[0m\u001b[0;34m\u001b[0m\u001b[0;34m\u001b[0m\u001b[0m\n\u001b[0m",
      "\u001b[0;32m/tmp/ipykernel_98/1872193471.py\u001b[0m in \u001b[0;36mhoover\u001b[0;34m(df)\u001b[0m\n\u001b[1;32m      7\u001b[0m         \u001b[0mdf_city\u001b[0m \u001b[0;34m=\u001b[0m \u001b[0mdf\u001b[0m\u001b[0;34m[\u001b[0m\u001b[0mdf\u001b[0m\u001b[0;34m[\u001b[0m\u001b[0;34m'City Name'\u001b[0m\u001b[0;34m]\u001b[0m \u001b[0;34m==\u001b[0m \u001b[0mcity\u001b[0m\u001b[0;34m]\u001b[0m\u001b[0;34m\u001b[0m\u001b[0;34m\u001b[0m\u001b[0m\n\u001b[1;32m      8\u001b[0m         \u001b[0mdf_city_broadband\u001b[0m \u001b[0;34m=\u001b[0m \u001b[0mdf_city\u001b[0m\u001b[0;34m[\u001b[0m\u001b[0;34m'% Broadband Access'\u001b[0m\u001b[0;34m]\u001b[0m\u001b[0;34m\u001b[0m\u001b[0;34m\u001b[0m\u001b[0m\n\u001b[0;32m----> 9\u001b[0;31m         \u001b[0mweights\u001b[0m \u001b[0;34m=\u001b[0m \u001b[0mdf_city\u001b[0m\u001b[0;34m[\u001b[0m\u001b[0;34m'% Broadband Access'\u001b[0m\u001b[0;34m]\u001b[0m\u001b[0;34m.\u001b[0m\u001b[0mweights\u001b[0m\u001b[0;34m\u001b[0m\u001b[0;34m\u001b[0m\u001b[0m\n\u001b[0m\u001b[1;32m     10\u001b[0m         \u001b[0mn\u001b[0m \u001b[0;34m=\u001b[0m \u001b[0mweights\u001b[0m\u001b[0;34m.\u001b[0m\u001b[0msize\u001b[0m\u001b[0;34m\u001b[0m\u001b[0;34m\u001b[0m\u001b[0m\n\u001b[1;32m     11\u001b[0m         \u001b[0mhoover_index\u001b[0m \u001b[0;34m=\u001b[0m \u001b[0;36m0.5\u001b[0m \u001b[0;34m*\u001b[0m \u001b[0mnp\u001b[0m\u001b[0;34m.\u001b[0m\u001b[0mabsolute\u001b[0m\u001b[0;34m(\u001b[0m\u001b[0mweights\u001b[0m \u001b[0;34m-\u001b[0m \u001b[0;36m1.0\u001b[0m \u001b[0;34m/\u001b[0m \u001b[0mn\u001b[0m\u001b[0;34m)\u001b[0m\u001b[0;34m.\u001b[0m\u001b[0msum\u001b[0m\u001b[0;34m(\u001b[0m\u001b[0;34m)\u001b[0m\u001b[0;34m\u001b[0m\u001b[0;34m\u001b[0m\u001b[0m\n",
      "\u001b[0;32m/usr/local/lib/python3.8/dist-packages/pandas/core/generic.py\u001b[0m in \u001b[0;36m__getattr__\u001b[0;34m(self, name)\u001b[0m\n\u001b[1;32m   5485\u001b[0m         ):\n\u001b[1;32m   5486\u001b[0m             \u001b[0;32mreturn\u001b[0m \u001b[0mself\u001b[0m\u001b[0;34m[\u001b[0m\u001b[0mname\u001b[0m\u001b[0;34m]\u001b[0m\u001b[0;34m\u001b[0m\u001b[0;34m\u001b[0m\u001b[0m\n\u001b[0;32m-> 5487\u001b[0;31m         \u001b[0;32mreturn\u001b[0m \u001b[0mobject\u001b[0m\u001b[0;34m.\u001b[0m\u001b[0m__getattribute__\u001b[0m\u001b[0;34m(\u001b[0m\u001b[0mself\u001b[0m\u001b[0;34m,\u001b[0m \u001b[0mname\u001b[0m\u001b[0;34m)\u001b[0m\u001b[0;34m\u001b[0m\u001b[0;34m\u001b[0m\u001b[0m\n\u001b[0m\u001b[1;32m   5488\u001b[0m \u001b[0;34m\u001b[0m\u001b[0m\n\u001b[1;32m   5489\u001b[0m     \u001b[0;32mdef\u001b[0m \u001b[0m__setattr__\u001b[0m\u001b[0;34m(\u001b[0m\u001b[0mself\u001b[0m\u001b[0;34m,\u001b[0m \u001b[0mname\u001b[0m\u001b[0;34m:\u001b[0m \u001b[0mstr\u001b[0m\u001b[0;34m,\u001b[0m \u001b[0mvalue\u001b[0m\u001b[0;34m)\u001b[0m \u001b[0;34m->\u001b[0m \u001b[0;32mNone\u001b[0m\u001b[0;34m:\u001b[0m\u001b[0;34m\u001b[0m\u001b[0;34m\u001b[0m\u001b[0m\n",
      "\u001b[0;31mAttributeError\u001b[0m: 'Series' object has no attribute 'weights'"
     ]
    }
   ],
   "source": [
    "#hoover(df)"
   ]
  },
  {
   "cell_type": "code",
   "execution_count": null,
   "id": "bb42f56d",
   "metadata": {},
   "outputs": [],
   "source": [
    "#maybe also add broadband? \n",
    "#we could do both side by side \n",
    "#df[[\"1of3\", \"2of3\", \"3of3\"]] = np.random.randint(10, size=(4,3))"
   ]
  },
  {
   "cell_type": "code",
   "execution_count": null,
   "id": "ca226af3",
   "metadata": {},
   "outputs": [],
   "source": []
  }
 ],
 "metadata": {
  "kernelspec": {
   "display_name": "Python 3 (ipykernel)",
   "language": "python",
   "name": "python3"
  },
  "language_info": {
   "codemirror_mode": {
    "name": "ipython",
    "version": 3
   },
   "file_extension": ".py",
   "mimetype": "text/x-python",
   "name": "python",
   "nbconvert_exporter": "python",
   "pygments_lexer": "ipython3",
   "version": "3.8.10"
  }
 },
 "nbformat": 4,
 "nbformat_minor": 5
}
