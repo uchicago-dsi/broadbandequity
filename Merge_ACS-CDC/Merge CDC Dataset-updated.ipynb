{
 "cells": [
  {
   "cell_type": "code",
   "execution_count": 1,
   "id": "7cfc1f85",
   "metadata": {},
   "outputs": [],
   "source": [
    "import pandas as pd\n",
    "import geopandas as gpd\n",
    "import os"
   ]
  },
  {
   "cell_type": "code",
   "execution_count": 2,
   "id": "735e318d",
   "metadata": {},
   "outputs": [],
   "source": [
    "path_base = r'/Users/sarahlueling/Desktop/DSC/broadbandequity/Merge_ACS-CDC'\n",
    "path1 = os.path.join(path_base, \"PLACES__Local_Data_for_Better_Health__Census_Tract_Data_2022_release.csv\")\n",
    "path2 = os.path.join(path_base, \"standard_acs_censustract_df_2017.csv\")\n",
    "path3 = os.path.join(path_base, \"standard_acs_censustract_df_2021.csv\")"
   ]
  },
  {
   "cell_type": "code",
   "execution_count": 3,
   "id": "858b3178",
   "metadata": {
    "scrolled": true
   },
   "outputs": [
    {
     "name": "stderr",
     "output_type": "stream",
     "text": [
      "/var/folders/4j/kjg2tcz949j86xyl6sgyx_wr0000gn/T/ipykernel_17853/2398676244.py:2: DtypeWarning: Columns (288) have mixed types. Specify dtype option on import or set low_memory=False.\n",
      "  df_standard_2017 = pd.read_csv(path2)\n",
      "/var/folders/4j/kjg2tcz949j86xyl6sgyx_wr0000gn/T/ipykernel_17853/2398676244.py:3: DtypeWarning: Columns (195) have mixed types. Specify dtype option on import or set low_memory=False.\n",
      "  df_standard_2021 = pd.read_csv(path3)\n"
     ]
    }
   ],
   "source": [
    "df_cdc = pd.read_csv(path1)\n",
    "df_standard_2017 = pd.read_csv(path2)\n",
    "df_standard_2021 = pd.read_csv(path3)"
   ]
  },
  {
   "cell_type": "code",
   "execution_count": 4,
   "id": "346d0789",
   "metadata": {},
   "outputs": [],
   "source": [
    "values_to_keep = ['Physical health not good for >=14 days among adults aged >=18 years', 'Visits to dentist or dental clinic among adults aged >=18 years', \n",
    "                    'Cholesterol screening among adults aged >=18 years',  'Fair or poor self-rated health status among adults aged >=18 years',\n",
    "                 'Visits to doctor for routine checkup within the past year among adults aged >=18 years',  'Cervical cancer screening among adult women aged 21-65 years',  \n",
    "                  'Taking medicine for high blood pressure control among adults aged >=18 years with high blood pressure', 'Fecal occult blood test, sigmoidoscopy, or colonoscopy among adults aged 50-75 years',\n",
    "                 'High cholesterol among adults aged >=18 years who have been screened in the past 5 years',  'Older adult women aged >=65 years who are up to date on a core set of clinical preventive services: Flu shot past year, PPV shot ever, Colorectal cancer screening, and Mammogram past 2 years']\n"
   ]
  },
  {
   "cell_type": "code",
   "execution_count": 5,
   "id": "2dc7ce42",
   "metadata": {},
   "outputs": [],
   "source": [
    "final_df_cdc = df_cdc[df_cdc['Measure'].isin(values_to_keep)]"
   ]
  },
  {
   "cell_type": "code",
   "execution_count": 6,
   "id": "051c81ca",
   "metadata": {},
   "outputs": [],
   "source": [
    "final_df_cdc = final_df_cdc.rename(columns={'LocationID': 'GEOID'})"
   ]
  },
  {
   "cell_type": "code",
   "execution_count": 7,
   "id": "087317c4",
   "metadata": {},
   "outputs": [],
   "source": [
    "#Convert 4 digit to 5 digit countyfips by adding a zero at the beginning, same with locationid"
   ]
  },
  {
   "cell_type": "code",
   "execution_count": 8,
   "id": "ded182ab",
   "metadata": {},
   "outputs": [],
   "source": [
    "#Clean ACF dataframes 2017"
   ]
  },
  {
   "cell_type": "code",
   "execution_count": 9,
   "id": "191620aa",
   "metadata": {},
   "outputs": [],
   "source": [
    "threshold = len(df_standard_2017) * 0.5"
   ]
  },
  {
   "cell_type": "code",
   "execution_count": 10,
   "id": "7e490e1e",
   "metadata": {},
   "outputs": [],
   "source": [
    "final_df_standard_2017 = df_standard_2017.dropna(thresh=threshold, axis=1)"
   ]
  },
  {
   "cell_type": "code",
   "execution_count": 11,
   "id": "d73b3030",
   "metadata": {},
   "outputs": [],
   "source": [
    "final_df_standard_2017 = final_df_standard_2017.iloc[:, :-3]"
   ]
  },
  {
   "cell_type": "code",
   "execution_count": 12,
   "id": "e5c0ae3d",
   "metadata": {
    "scrolled": true
   },
   "outputs": [
    {
     "name": "stdout",
     "output_type": "stream",
     "text": [
      "The number of columns in the file is:  280\n"
     ]
    }
   ],
   "source": [
    "num_cols = len(final_df_standard_2017.columns)\n",
    "\n",
    "print(\"The number of columns in the file is: \", num_cols)"
   ]
  },
  {
   "cell_type": "code",
   "execution_count": 13,
   "id": "f65ce091",
   "metadata": {},
   "outputs": [],
   "source": [
    "#Clean ACF dataframes 2020"
   ]
  },
  {
   "cell_type": "code",
   "execution_count": 14,
   "id": "aa70f3cd",
   "metadata": {},
   "outputs": [],
   "source": [
    "threshold = len(df_standard_2021) * 0.5\n",
    "\n",
    "final_df_standard_2021 = df_standard_2021.dropna(thresh=threshold, axis=1)\n",
    "\n",
    "final_df_standard_2021 = final_df_standard_2021.iloc[:, :-3]"
   ]
  },
  {
   "cell_type": "code",
   "execution_count": 15,
   "id": "d4d1753b",
   "metadata": {},
   "outputs": [],
   "source": [
    "#Transpose data to create column showing year of dataframe"
   ]
  },
  {
   "cell_type": "code",
   "execution_count": 16,
   "id": "86235a74",
   "metadata": {},
   "outputs": [],
   "source": [
    "new_column_names = {col: col.replace(\"_tct21\", \"\") for col in final_df_standard_2021.columns}\n",
    "final_df_standard_2021_new = final_df_standard_2021.rename(columns=new_column_names)"
   ]
  },
  {
   "cell_type": "code",
   "execution_count": 17,
   "id": "560b5cc8",
   "metadata": {},
   "outputs": [],
   "source": [
    "new_column_names = {col: col.replace(\"_tct17\", \"\") for col in final_df_standard_2017.columns}\n",
    "final_df_standard_2017_new = final_df_standard_2017.rename(columns=new_column_names)"
   ]
  },
  {
   "cell_type": "code",
   "execution_count": 18,
   "id": "22a16220",
   "metadata": {},
   "outputs": [
    {
     "name": "stdout",
     "output_type": "stream",
     "text": [
      "Columns only in df1: {'PERC Est_Total: Public transportation (excluding taxicab): Light rail, streetcar or trolley (carro público in Puerto Rico) MEANS OF TRANSPORTATION TO WORK', 'PERC Est_Total: Car, truck, or van: Carpooled: In 5- or 6-person carpool MEANS OF TRANSPORTATION TO WORK', 'PERC Est_Total: Female: 10 to 14 years SEX BY AGE', 'PERC Est_Total: Car, truck, or van: Carpooled: In 3-person carpool MEANS OF TRANSPORTATION TO WORK', 'PERC Est_Total: Walked MEANS OF TRANSPORTATION TO WORK', 'PERC Est_Total: Female: HEALTH INSURANCE COVERAGE STATUS BY SEX BY AGE', 'PERC Est_Total: No Internet access: PRESENCE AND TYPES OF INTERNET SUBSCRIPTIONS IN HOUSEHOLD', 'PERC Est_Total: Male: 25 to 29 years SEX BY AGE', 'PERC Est_Total: Male: 5 to 9 years SEX BY AGE', 'PERC Est_Total: Male: 75 to 79 years SEX BY AGE', 'PERC Est_Total: Female: 67 to 69 years SEX BY AGE', 'PERC Est_Total: Male: 30 to 34 years SEX BY AGE', 'PERC Est_Total: Female: 5 to 9 years SEX BY AGE', 'PERC Est_Total: Male: 18 and 19 years SEX BY AGE', 'PERC Est_Total: Allocated ALLOCATION OF SCHOOL ENROLLMENT FOR THE POPULATION 3 YEARS AND OVER', 'PERC Est_Total: With an Internet subscription Dial-up with no other type of Internet subscription: PRESENCE AND TYPES OF INTERNET SUBSCRIPTIONS IN HOUSEHOLD', 'PERC Est_Total: Female: SEX BY AGE', 'PERC Est_Total: Female: 20 years SEX BY AGE', 'PERC Est_Total: Male: 55 to 59 years SEX BY AGE', 'PERC Est_Total: Female: 35 to 39 years SEX BY AGE', 'PERC Est_Total: Male: 62 to 64 years SEX BY AGE', 'PERC Est_Total: Male: 35 to 39 years SEX BY AGE', 'PERC Est_Total: Female: 21 years SEX BY AGE', 'PERC Est_Total: SEX BY AGE', 'PERC Est_Total: With an Internet subscription Broadband of any type: PRESENCE AND TYPES OF INTERNET SUBSCRIPTIONS IN HOUSEHOLD', 'PERC Est_Total: With an Internet subscription Broadband such as cable, fiber optic or DSL Broadband such as cable, fiber optic or DSL with no other type of Internet subscription: PRESENCE AND TYPES OF INTERNET SUBSCRIPTIONS IN HOUSEHOLD', 'PERC Est_Total: Female: 55 to 59 years SEX BY AGE', 'PERC Est_Total: With an Internet subscription Satellite Internet service: PRESENCE AND TYPES OF INTERNET SUBSCRIPTIONS IN HOUSEHOLD', 'PERC Est_Total: With an Internet subscription: PRESENCE AND TYPES OF INTERNET SUBSCRIPTIONS IN HOUSEHOLD', 'PERC Est_Total: Male: 50 to 54 years SEX BY AGE', 'PERC Est_Total: HEALTH INSURANCE COVERAGE STATUS BY SEX BY AGE', 'PERC Est_Total: Public transportation (excluding taxicab): Ferryboat MEANS OF TRANSPORTATION TO WORK', 'PERC Est_Total: Car, truck, or van: Drove alone MEANS OF TRANSPORTATION TO WORK', 'PERC Est_Total: Male: 70 to 74 years SEX BY AGE', 'PERC Est_Total: Motorcycle MEANS OF TRANSPORTATION TO WORK', 'PERC Est_Total: Female: 45 to 49 years SEX BY AGE', 'PERC Est_Total: Female: Under 5 years SEX BY AGE', 'PERC Est_Total: Female: 80 to 84 years SEX BY AGE', 'PERC Est_Total: Male: 22 to 24 years SEX BY AGE', 'PERC Est_Total: Female: 62 to 64 years SEX BY AGE', 'PERC Est_Total: Male: 40 to 44 years SEX BY AGE', 'PERC Est_Total: ALLOCATION OF SCHOOL ENROLLMENT FOR THE POPULATION 3 YEARS AND OVER', 'PERC Est_Total: Male: 45 to 49 years SEX BY AGE', 'PERC Est_Total: Male: 60 and 61 years SEX BY AGE', 'PERC Est_Total: Female: 75 to 79 years SEX BY AGE', 'PERC Est_Total: Car, truck, or van: MEANS OF TRANSPORTATION TO WORK', 'PERC Est_Total: Car, truck, or van: Carpooled: In 7-or-more-person carpool MEANS OF TRANSPORTATION TO WORK', 'PERC Est_Total: PRIVATE HEALTH INSURANCE STATUS BY SEX BY AGE', 'PERC Est_Total: Public transportation (excluding taxicab): Long-distance train or commuter rail MEANS OF TRANSPORTATION TO WORK', 'PERC Est_Total: Female: 70 to 74 years SEX BY AGE', 'PERC Est_Total: With an Internet subscription Broadband such as cable, fiber optic or DSL: PRESENCE AND TYPES OF INTERNET SUBSCRIPTIONS IN HOUSEHOLD', 'PERC Est_Total: Female: 22 to 24 years SEX BY AGE', 'PERC Est_Total: Female: 30 to 34 years SEX BY AGE', 'PERC Est_Total: Female: 60 and 61 years SEX BY AGE', 'PERC Est_Total: Taxicab MEANS OF TRANSPORTATION TO WORK', 'PERC Est_Total: Car, truck, or van: Carpooled: In 2-person carpool MEANS OF TRANSPORTATION TO WORK', 'PERC Est_Total: Car, truck, or van: Carpooled: In 4-person carpool MEANS OF TRANSPORTATION TO WORK', 'PERC Est_Total: Female: 15 to 17 years SEX BY AGE', 'PERC Est_Total: Female: 18 and 19 years SEX BY AGE', 'PERC Est_Total: Male: 10 to 14 years SEX BY AGE', 'PERC Est_Total: Male: 65 and 66 years SEX BY AGE', 'PERC Est_Total: PRESENCE AND TYPES OF INTERNET SUBSCRIPTIONS IN HOUSEHOLD', 'PERC Est_Total: Internet access without a subscription: PRESENCE AND TYPES OF INTERNET SUBSCRIPTIONS IN HOUSEHOLD', 'PERC Est_Total: Public transportation (excluding taxicab): Bus MEANS OF TRANSPORTATION TO WORK', 'PERC Est_Total: Male: 21 years SEX BY AGE', 'PERC Est_Total: Public transportation (excluding taxicab): MEANS OF TRANSPORTATION TO WORK', 'PERC Est_Total: Female: PRIVATE HEALTH INSURANCE STATUS BY SEX BY AGE', 'PERC Est_Total: Male: 15 to 17 years SEX BY AGE', 'PERC Est_Total: Public transportation (excluding taxicab): Subway or elevated rail MEANS OF TRANSPORTATION TO WORK', 'PERC Est_Total: Male: PRIVATE HEALTH INSURANCE STATUS BY SEX BY AGE', 'PERC Est_Total: Not allocated ALLOCATION OF SCHOOL ENROLLMENT FOR THE POPULATION 3 YEARS AND OVER', 'PERC Est_Total: Bicycle MEANS OF TRANSPORTATION TO WORK', 'PERC Est_Total: Male: 67 to 69 years SEX BY AGE', 'PERC Est_Total: Worked from home MEANS OF TRANSPORTATION TO WORK', 'PERC Est_Total: Male: 20 years SEX BY AGE', 'PERC Est_Total: Female: PUBLIC HEALTH INSURANCE STATUS BY SEX BY AGE', 'PERC Est_Total: Male: 85 years and over SEX BY AGE', 'PERC Est_Total: Female: 25 to 29 years SEX BY AGE', 'PERC Est_Total: Car, truck, or van: Carpooled: MEANS OF TRANSPORTATION TO WORK', 'PERC Est_Total: Female: 85 years and over SEX BY AGE', 'PERC Est_Total: With an Internet subscription Satellite Internet service Satellite Internet service with no other type of Internet subscription: PRESENCE AND TYPES OF INTERNET SUBSCRIPTIONS IN HOUSEHOLD', 'PERC Est_Total: Male: SEX BY AGE', 'PERC Est_Total: PUBLIC HEALTH INSURANCE STATUS BY SEX BY AGE', 'PERC Est_Total: Female: 40 to 44 years SEX BY AGE', 'PERC Est_Total: Male: PUBLIC HEALTH INSURANCE STATUS BY SEX BY AGE', 'PERC Est_Total: With an Internet subscription Other service with no other type of Internet subscription: PRESENCE AND TYPES OF INTERNET SUBSCRIPTIONS IN HOUSEHOLD', 'PERC Est_Total: With an Internet subscription Cellular data plan Cellular data plan with no other type of Internet subscription: PRESENCE AND TYPES OF INTERNET SUBSCRIPTIONS IN HOUSEHOLD', 'PERC Est_Total: Male: HEALTH INSURANCE COVERAGE STATUS BY SEX BY AGE', 'PERC Est_Total: Female: 65 and 66 years SEX BY AGE', 'PERC Est_Total: With an Internet subscription Cellular data plan: PRESENCE AND TYPES OF INTERNET SUBSCRIPTIONS IN HOUSEHOLD', 'PERC Est_Total: Other means MEANS OF TRANSPORTATION TO WORK', 'PERC Est_Total: MEANS OF TRANSPORTATION TO WORK', 'PERC Est_Total: Female: 50 to 54 years SEX BY AGE', 'PERC Est_Total: Male: 80 to 84 years SEX BY AGE'}\n",
      "Columns only in df2: {'Est_Total: PLACE OF BIRTH BY YEAR OF ENTRY FOR THE FOREIGN-BORN POPULATION'}\n"
     ]
    }
   ],
   "source": [
    "cols_only_in_df1 = set(final_df_standard_2017_new.columns) - set(final_df_standard_2021_new.columns)\n",
    "cols_only_in_df2 = set(final_df_standard_2021_new.columns) - set(final_df_standard_2017_new.columns)\n",
    "\n",
    "print(\"Columns only in df1:\", cols_only_in_df1)\n",
    "print(\"Columns only in df2:\", cols_only_in_df2)"
   ]
  },
  {
   "cell_type": "code",
   "execution_count": 19,
   "id": "4d24ab1f",
   "metadata": {},
   "outputs": [],
   "source": [
    "final_df_standard_2017_new = final_df_standard_2021_new.drop('Est_Total: PLACE OF BIRTH BY YEAR OF ENTRY FOR THE FOREIGN-BORN POPULATION', axis=1)"
   ]
  },
  {
   "cell_type": "code",
   "execution_count": 20,
   "id": "65415019",
   "metadata": {},
   "outputs": [],
   "source": [
    "final_df_standard_2017_new['Year'] = 2017"
   ]
  },
  {
   "cell_type": "code",
   "execution_count": 21,
   "id": "8fadaf45",
   "metadata": {},
   "outputs": [],
   "source": [
    "final_df_standard_2021_new['Year'] = 2021"
   ]
  },
  {
   "cell_type": "code",
   "execution_count": 22,
   "id": "1663e363",
   "metadata": {},
   "outputs": [],
   "source": [
    "stacked_df = pd.concat([final_df_standard_2017_new, final_df_standard_2021_new], axis=0)"
   ]
  },
  {
   "cell_type": "code",
   "execution_count": 23,
   "id": "07041f1f",
   "metadata": {},
   "outputs": [
    {
     "name": "stdout",
     "output_type": "stream",
     "text": [
      "['Year', 'StateAbbr', 'StateDesc', 'CountyName', 'CountyFIPS', 'LocationName', 'Category', 'Measure', 'Data_Value_Unit', 'Data_Value', 'Low_Confidence_Limit', 'High_Confidence_Limit', 'TotalPopulation', 'Geolocation', 'GEOID', 'CategoryID', 'MeasureId', 'Short_Question_Text']\n"
     ]
    }
   ],
   "source": [
    "column_names = print(final_df_cdc.columns.tolist())"
   ]
  },
  {
   "cell_type": "code",
   "execution_count": 25,
   "id": "3abaf2f2",
   "metadata": {},
   "outputs": [],
   "source": [
    "stacked_df['GEOID'] = stacked_df['GEOID'].astype('object')"
   ]
  },
  {
   "cell_type": "code",
   "execution_count": 26,
   "id": "8d2b265e",
   "metadata": {},
   "outputs": [],
   "source": [
    "final_df_cdc['GEOID'] = final_df_cdc['GEOID'].astype('object')"
   ]
  },
  {
   "cell_type": "code",
   "execution_count": 27,
   "id": "237a4598",
   "metadata": {},
   "outputs": [
    {
     "name": "stdout",
     "output_type": "stream",
     "text": [
      "Year                       int64\n",
      "StateAbbr                 object\n",
      "StateDesc                 object\n",
      "CountyName                object\n",
      "CountyFIPS                 int64\n",
      "LocationName               int64\n",
      "Category                  object\n",
      "Measure                   object\n",
      "Data_Value_Unit           object\n",
      "Data_Value               float64\n",
      "Low_Confidence_Limit     float64\n",
      "High_Confidence_Limit    float64\n",
      "TotalPopulation            int64\n",
      "Geolocation               object\n",
      "GEOID                     object\n",
      "CategoryID                object\n",
      "MeasureId                 object\n",
      "Short_Question_Text       object\n",
      "dtype: object\n"
     ]
    }
   ],
   "source": [
    "print(final_df_cdc.dtypes)"
   ]
  },
  {
   "cell_type": "code",
   "execution_count": 28,
   "id": "a581704a",
   "metadata": {},
   "outputs": [],
   "source": [
    "final_df_standard_2017_new['GEOID'] = final_df_standard_2017_new['GEOID'].astype('object')"
   ]
  },
  {
   "cell_type": "code",
   "execution_count": 29,
   "id": "9cf477d8",
   "metadata": {},
   "outputs": [
    {
     "name": "stdout",
     "output_type": "stream",
     "text": [
      "Year                       int64\n",
      "StateAbbr                 object\n",
      "StateDesc                 object\n",
      "CountyName                object\n",
      "CountyFIPS                 int64\n",
      "LocationName               int64\n",
      "Category                  object\n",
      "Measure                   object\n",
      "Data_Value_Unit           object\n",
      "Data_Value               float64\n",
      "Low_Confidence_Limit     float64\n",
      "High_Confidence_Limit    float64\n",
      "TotalPopulation            int64\n",
      "Geolocation               object\n",
      "GEOID                     object\n",
      "CategoryID                object\n",
      "MeasureId                 object\n",
      "Short_Question_Text       object\n",
      "dtype: object\n"
     ]
    }
   ],
   "source": [
    "print(final_df_cdc.dtypes)"
   ]
  },
  {
   "cell_type": "code",
   "execution_count": 30,
   "id": "ef813873",
   "metadata": {},
   "outputs": [],
   "source": [
    "final_df_standard_2021_new['GEOID'] = final_df_standard_2017_new['GEOID'].astype('object')"
   ]
  },
  {
   "cell_type": "code",
   "execution_count": 31,
   "id": "481f0c8d",
   "metadata": {},
   "outputs": [
    {
     "data": {
      "text/html": [
       "<div>\n",
       "<style scoped>\n",
       "    .dataframe tbody tr th:only-of-type {\n",
       "        vertical-align: middle;\n",
       "    }\n",
       "\n",
       "    .dataframe tbody tr th {\n",
       "        vertical-align: top;\n",
       "    }\n",
       "\n",
       "    .dataframe thead th {\n",
       "        text-align: right;\n",
       "    }\n",
       "</style>\n",
       "<table border=\"1\" class=\"dataframe\">\n",
       "  <thead>\n",
       "    <tr style=\"text-align: right;\">\n",
       "      <th></th>\n",
       "      <th>City</th>\n",
       "      <th>tract</th>\n",
       "      <th>state</th>\n",
       "      <th>county</th>\n",
       "      <th>GEOID</th>\n",
       "      <th>geometry</th>\n",
       "      <th>Est_Total: TOTAL POPULATION</th>\n",
       "      <th>Est_Total: SEX BY AGE</th>\n",
       "      <th>Est_Total: Male: SEX BY AGE</th>\n",
       "      <th>Est_Total: Male: Under 5 years SEX BY AGE</th>\n",
       "      <th>...</th>\n",
       "      <th>PERC Est_Total: GED or alternative credential: EDUCATIONAL ATTAINMENT FOR THE POPULATION 25 YEARS AND OVER</th>\n",
       "      <th>PERC Est_Total: Some college, less than 1 year: EDUCATIONAL ATTAINMENT FOR THE POPULATION 25 YEARS AND OVER</th>\n",
       "      <th>PERC Est_Total: Some college, 1 or more years, no degree: EDUCATIONAL ATTAINMENT FOR THE POPULATION 25 YEARS AND OVER</th>\n",
       "      <th>PERC Est_Total: Associate's degree: EDUCATIONAL ATTAINMENT FOR THE POPULATION 25 YEARS AND OVER</th>\n",
       "      <th>PERC Est_Total: Bachelor's degree: EDUCATIONAL ATTAINMENT FOR THE POPULATION 25 YEARS AND OVER</th>\n",
       "      <th>PERC Est_Total: Master's degree: EDUCATIONAL ATTAINMENT FOR THE POPULATION 25 YEARS AND OVER</th>\n",
       "      <th>PERC Est_Total: Professional school degree: EDUCATIONAL ATTAINMENT FOR THE POPULATION 25 YEARS AND OVER</th>\n",
       "      <th>PERC Est_Total: Doctorate degree: EDUCATIONAL ATTAINMENT FOR THE POPULATION 25 YEARS AND OVER</th>\n",
       "      <th>Year</th>\n",
       "      <th>Est_Total: PLACE OF BIRTH BY YEAR OF ENTRY FOR THE FOREIGN-BORN POPULATION</th>\n",
       "    </tr>\n",
       "  </thead>\n",
       "  <tbody>\n",
       "    <tr>\n",
       "      <th>0</th>\n",
       "      <td>arlington</td>\n",
       "      <td>122802</td>\n",
       "      <td>48</td>\n",
       "      <td>439</td>\n",
       "      <td>48439122802</td>\n",
       "      <td>POLYGON ((-97.11235000000001 32.708433, -97.11...</td>\n",
       "      <td>5908.0</td>\n",
       "      <td>5908.0</td>\n",
       "      <td>2865.0</td>\n",
       "      <td>350.0</td>\n",
       "      <td>...</td>\n",
       "      <td>0.022989</td>\n",
       "      <td>0.105566</td>\n",
       "      <td>0.127344</td>\n",
       "      <td>0.045372</td>\n",
       "      <td>0.100726</td>\n",
       "      <td>0.026618</td>\n",
       "      <td>0.002117</td>\n",
       "      <td>0.008167</td>\n",
       "      <td>2017</td>\n",
       "      <td>NaN</td>\n",
       "    </tr>\n",
       "    <tr>\n",
       "      <th>1</th>\n",
       "      <td>arlington</td>\n",
       "      <td>121905</td>\n",
       "      <td>48</td>\n",
       "      <td>439</td>\n",
       "      <td>48439121905</td>\n",
       "      <td>POLYGON ((-97.08042399999999 32.706192, -97.08...</td>\n",
       "      <td>5334.0</td>\n",
       "      <td>5334.0</td>\n",
       "      <td>2765.0</td>\n",
       "      <td>369.0</td>\n",
       "      <td>...</td>\n",
       "      <td>0.039044</td>\n",
       "      <td>0.020868</td>\n",
       "      <td>0.118815</td>\n",
       "      <td>0.024907</td>\n",
       "      <td>0.111410</td>\n",
       "      <td>0.048805</td>\n",
       "      <td>0.000000</td>\n",
       "      <td>0.000000</td>\n",
       "      <td>2017</td>\n",
       "      <td>NaN</td>\n",
       "    </tr>\n",
       "    <tr>\n",
       "      <th>2</th>\n",
       "      <td>arlington</td>\n",
       "      <td>113116</td>\n",
       "      <td>48</td>\n",
       "      <td>439</td>\n",
       "      <td>48439113116</td>\n",
       "      <td>POLYGON ((-97.072943 32.779226, -97.0726290000...</td>\n",
       "      <td>4396.0</td>\n",
       "      <td>4396.0</td>\n",
       "      <td>2199.0</td>\n",
       "      <td>178.0</td>\n",
       "      <td>...</td>\n",
       "      <td>0.039688</td>\n",
       "      <td>0.058345</td>\n",
       "      <td>0.233039</td>\n",
       "      <td>0.101425</td>\n",
       "      <td>0.147558</td>\n",
       "      <td>0.055631</td>\n",
       "      <td>0.006445</td>\n",
       "      <td>0.016621</td>\n",
       "      <td>2017</td>\n",
       "      <td>NaN</td>\n",
       "    </tr>\n",
       "    <tr>\n",
       "      <th>3</th>\n",
       "      <td>arlington</td>\n",
       "      <td>101302</td>\n",
       "      <td>48</td>\n",
       "      <td>439</td>\n",
       "      <td>48439101302</td>\n",
       "      <td>POLYGON ((-97.23645500000001 32.731951, -97.23...</td>\n",
       "      <td>3372.0</td>\n",
       "      <td>3372.0</td>\n",
       "      <td>1547.0</td>\n",
       "      <td>98.0</td>\n",
       "      <td>...</td>\n",
       "      <td>0.114815</td>\n",
       "      <td>0.122751</td>\n",
       "      <td>0.144444</td>\n",
       "      <td>0.057143</td>\n",
       "      <td>0.113757</td>\n",
       "      <td>0.005291</td>\n",
       "      <td>0.012698</td>\n",
       "      <td>0.000529</td>\n",
       "      <td>2017</td>\n",
       "      <td>NaN</td>\n",
       "    </tr>\n",
       "    <tr>\n",
       "      <th>4</th>\n",
       "      <td>arlington</td>\n",
       "      <td>121606</td>\n",
       "      <td>48</td>\n",
       "      <td>439</td>\n",
       "      <td>48439121606</td>\n",
       "      <td>POLYGON ((-97.21003 32.721601, -97.20997800000...</td>\n",
       "      <td>3685.0</td>\n",
       "      <td>3685.0</td>\n",
       "      <td>1739.0</td>\n",
       "      <td>84.0</td>\n",
       "      <td>...</td>\n",
       "      <td>0.042706</td>\n",
       "      <td>0.034014</td>\n",
       "      <td>0.100907</td>\n",
       "      <td>0.058579</td>\n",
       "      <td>0.252457</td>\n",
       "      <td>0.208995</td>\n",
       "      <td>0.012850</td>\n",
       "      <td>0.019652</td>\n",
       "      <td>2017</td>\n",
       "      <td>NaN</td>\n",
       "    </tr>\n",
       "    <tr>\n",
       "      <th>...</th>\n",
       "      <td>...</td>\n",
       "      <td>...</td>\n",
       "      <td>...</td>\n",
       "      <td>...</td>\n",
       "      <td>...</td>\n",
       "      <td>...</td>\n",
       "      <td>...</td>\n",
       "      <td>...</td>\n",
       "      <td>...</td>\n",
       "      <td>...</td>\n",
       "      <td>...</td>\n",
       "      <td>...</td>\n",
       "      <td>...</td>\n",
       "      <td>...</td>\n",
       "      <td>...</td>\n",
       "      <td>...</td>\n",
       "      <td>...</td>\n",
       "      <td>...</td>\n",
       "      <td>...</td>\n",
       "      <td>...</td>\n",
       "      <td>...</td>\n",
       "    </tr>\n",
       "    <tr>\n",
       "      <th>22205</th>\n",
       "      <td>wichita</td>\n",
       "      <td>7102</td>\n",
       "      <td>20</td>\n",
       "      <td>173</td>\n",
       "      <td>20173007102</td>\n",
       "      <td>POLYGON ((-97.25022 37.664684, -97.24887099999...</td>\n",
       "      <td>5287.0</td>\n",
       "      <td>5287.0</td>\n",
       "      <td>2821.0</td>\n",
       "      <td>216.0</td>\n",
       "      <td>...</td>\n",
       "      <td>0.077829</td>\n",
       "      <td>0.034009</td>\n",
       "      <td>0.199477</td>\n",
       "      <td>0.121975</td>\n",
       "      <td>0.245585</td>\n",
       "      <td>0.083061</td>\n",
       "      <td>0.007521</td>\n",
       "      <td>0.009810</td>\n",
       "      <td>2021</td>\n",
       "      <td>350.0</td>\n",
       "    </tr>\n",
       "    <tr>\n",
       "      <th>22206</th>\n",
       "      <td>wichita</td>\n",
       "      <td>10801</td>\n",
       "      <td>20</td>\n",
       "      <td>173</td>\n",
       "      <td>20173010801</td>\n",
       "      <td>POLYGON ((-97.280646 37.741353, -97.280641 37....</td>\n",
       "      <td>2290.0</td>\n",
       "      <td>2290.0</td>\n",
       "      <td>936.0</td>\n",
       "      <td>62.0</td>\n",
       "      <td>...</td>\n",
       "      <td>0.051609</td>\n",
       "      <td>0.085121</td>\n",
       "      <td>0.131367</td>\n",
       "      <td>0.132708</td>\n",
       "      <td>0.334450</td>\n",
       "      <td>0.069035</td>\n",
       "      <td>0.010724</td>\n",
       "      <td>0.026810</td>\n",
       "      <td>2021</td>\n",
       "      <td>319.0</td>\n",
       "    </tr>\n",
       "    <tr>\n",
       "      <th>22207</th>\n",
       "      <td>wichita</td>\n",
       "      <td>9603</td>\n",
       "      <td>20</td>\n",
       "      <td>173</td>\n",
       "      <td>20173009603</td>\n",
       "      <td>POLYGON ((-97.425883 37.610246, -97.425758 37....</td>\n",
       "      <td>2893.0</td>\n",
       "      <td>2893.0</td>\n",
       "      <td>1360.0</td>\n",
       "      <td>98.0</td>\n",
       "      <td>...</td>\n",
       "      <td>0.022005</td>\n",
       "      <td>0.082152</td>\n",
       "      <td>0.173105</td>\n",
       "      <td>0.084597</td>\n",
       "      <td>0.192665</td>\n",
       "      <td>0.047433</td>\n",
       "      <td>0.003423</td>\n",
       "      <td>0.000000</td>\n",
       "      <td>2021</td>\n",
       "      <td>329.0</td>\n",
       "    </tr>\n",
       "    <tr>\n",
       "      <th>22208</th>\n",
       "      <td>wichita</td>\n",
       "      <td>7101</td>\n",
       "      <td>20</td>\n",
       "      <td>173</td>\n",
       "      <td>20173007101</td>\n",
       "      <td>POLYGON ((-97.253666 37.677585, -97.2536560000...</td>\n",
       "      <td>2104.0</td>\n",
       "      <td>2104.0</td>\n",
       "      <td>1144.0</td>\n",
       "      <td>54.0</td>\n",
       "      <td>...</td>\n",
       "      <td>0.146487</td>\n",
       "      <td>0.095665</td>\n",
       "      <td>0.186846</td>\n",
       "      <td>0.100149</td>\n",
       "      <td>0.139013</td>\n",
       "      <td>0.035874</td>\n",
       "      <td>0.006726</td>\n",
       "      <td>0.005232</td>\n",
       "      <td>2021</td>\n",
       "      <td>161.0</td>\n",
       "    </tr>\n",
       "    <tr>\n",
       "      <th>22209</th>\n",
       "      <td>wichita</td>\n",
       "      <td>10115</td>\n",
       "      <td>20</td>\n",
       "      <td>173</td>\n",
       "      <td>20173010115</td>\n",
       "      <td>POLYGON ((-97.22626 37.722975, -97.22626 37.72...</td>\n",
       "      <td>8727.0</td>\n",
       "      <td>8727.0</td>\n",
       "      <td>4273.0</td>\n",
       "      <td>306.0</td>\n",
       "      <td>...</td>\n",
       "      <td>0.019876</td>\n",
       "      <td>0.044720</td>\n",
       "      <td>0.070985</td>\n",
       "      <td>0.038864</td>\n",
       "      <td>0.384916</td>\n",
       "      <td>0.197161</td>\n",
       "      <td>0.100089</td>\n",
       "      <td>0.048270</td>\n",
       "      <td>2021</td>\n",
       "      <td>1046.0</td>\n",
       "    </tr>\n",
       "  </tbody>\n",
       "</table>\n",
       "<p>44420 rows × 188 columns</p>\n",
       "</div>"
      ],
      "text/plain": [
       "            City   tract  state  county        GEOID  \\\n",
       "0      arlington  122802     48     439  48439122802   \n",
       "1      arlington  121905     48     439  48439121905   \n",
       "2      arlington  113116     48     439  48439113116   \n",
       "3      arlington  101302     48     439  48439101302   \n",
       "4      arlington  121606     48     439  48439121606   \n",
       "...          ...     ...    ...     ...          ...   \n",
       "22205    wichita    7102     20     173  20173007102   \n",
       "22206    wichita   10801     20     173  20173010801   \n",
       "22207    wichita    9603     20     173  20173009603   \n",
       "22208    wichita    7101     20     173  20173007101   \n",
       "22209    wichita   10115     20     173  20173010115   \n",
       "\n",
       "                                                geometry  \\\n",
       "0      POLYGON ((-97.11235000000001 32.708433, -97.11...   \n",
       "1      POLYGON ((-97.08042399999999 32.706192, -97.08...   \n",
       "2      POLYGON ((-97.072943 32.779226, -97.0726290000...   \n",
       "3      POLYGON ((-97.23645500000001 32.731951, -97.23...   \n",
       "4      POLYGON ((-97.21003 32.721601, -97.20997800000...   \n",
       "...                                                  ...   \n",
       "22205  POLYGON ((-97.25022 37.664684, -97.24887099999...   \n",
       "22206  POLYGON ((-97.280646 37.741353, -97.280641 37....   \n",
       "22207  POLYGON ((-97.425883 37.610246, -97.425758 37....   \n",
       "22208  POLYGON ((-97.253666 37.677585, -97.2536560000...   \n",
       "22209  POLYGON ((-97.22626 37.722975, -97.22626 37.72...   \n",
       "\n",
       "       Est_Total: TOTAL POPULATION  Est_Total: SEX BY AGE  \\\n",
       "0                           5908.0                 5908.0   \n",
       "1                           5334.0                 5334.0   \n",
       "2                           4396.0                 4396.0   \n",
       "3                           3372.0                 3372.0   \n",
       "4                           3685.0                 3685.0   \n",
       "...                            ...                    ...   \n",
       "22205                       5287.0                 5287.0   \n",
       "22206                       2290.0                 2290.0   \n",
       "22207                       2893.0                 2893.0   \n",
       "22208                       2104.0                 2104.0   \n",
       "22209                       8727.0                 8727.0   \n",
       "\n",
       "       Est_Total: Male: SEX BY AGE  Est_Total: Male: Under 5 years SEX BY AGE  \\\n",
       "0                           2865.0                                      350.0   \n",
       "1                           2765.0                                      369.0   \n",
       "2                           2199.0                                      178.0   \n",
       "3                           1547.0                                       98.0   \n",
       "4                           1739.0                                       84.0   \n",
       "...                            ...                                        ...   \n",
       "22205                       2821.0                                      216.0   \n",
       "22206                        936.0                                       62.0   \n",
       "22207                       1360.0                                       98.0   \n",
       "22208                       1144.0                                       54.0   \n",
       "22209                       4273.0                                      306.0   \n",
       "\n",
       "       ...  \\\n",
       "0      ...   \n",
       "1      ...   \n",
       "2      ...   \n",
       "3      ...   \n",
       "4      ...   \n",
       "...    ...   \n",
       "22205  ...   \n",
       "22206  ...   \n",
       "22207  ...   \n",
       "22208  ...   \n",
       "22209  ...   \n",
       "\n",
       "       PERC Est_Total: GED or alternative credential: EDUCATIONAL ATTAINMENT FOR THE POPULATION 25 YEARS AND OVER  \\\n",
       "0                                               0.022989                                                            \n",
       "1                                               0.039044                                                            \n",
       "2                                               0.039688                                                            \n",
       "3                                               0.114815                                                            \n",
       "4                                               0.042706                                                            \n",
       "...                                                  ...                                                            \n",
       "22205                                           0.077829                                                            \n",
       "22206                                           0.051609                                                            \n",
       "22207                                           0.022005                                                            \n",
       "22208                                           0.146487                                                            \n",
       "22209                                           0.019876                                                            \n",
       "\n",
       "       PERC Est_Total: Some college, less than 1 year: EDUCATIONAL ATTAINMENT FOR THE POPULATION 25 YEARS AND OVER  \\\n",
       "0                                               0.105566                                                             \n",
       "1                                               0.020868                                                             \n",
       "2                                               0.058345                                                             \n",
       "3                                               0.122751                                                             \n",
       "4                                               0.034014                                                             \n",
       "...                                                  ...                                                             \n",
       "22205                                           0.034009                                                             \n",
       "22206                                           0.085121                                                             \n",
       "22207                                           0.082152                                                             \n",
       "22208                                           0.095665                                                             \n",
       "22209                                           0.044720                                                             \n",
       "\n",
       "       PERC Est_Total: Some college, 1 or more years, no degree: EDUCATIONAL ATTAINMENT FOR THE POPULATION 25 YEARS AND OVER  \\\n",
       "0                                               0.127344                                                                       \n",
       "1                                               0.118815                                                                       \n",
       "2                                               0.233039                                                                       \n",
       "3                                               0.144444                                                                       \n",
       "4                                               0.100907                                                                       \n",
       "...                                                  ...                                                                       \n",
       "22205                                           0.199477                                                                       \n",
       "22206                                           0.131367                                                                       \n",
       "22207                                           0.173105                                                                       \n",
       "22208                                           0.186846                                                                       \n",
       "22209                                           0.070985                                                                       \n",
       "\n",
       "       PERC Est_Total: Associate's degree: EDUCATIONAL ATTAINMENT FOR THE POPULATION 25 YEARS AND OVER  \\\n",
       "0                                               0.045372                                                 \n",
       "1                                               0.024907                                                 \n",
       "2                                               0.101425                                                 \n",
       "3                                               0.057143                                                 \n",
       "4                                               0.058579                                                 \n",
       "...                                                  ...                                                 \n",
       "22205                                           0.121975                                                 \n",
       "22206                                           0.132708                                                 \n",
       "22207                                           0.084597                                                 \n",
       "22208                                           0.100149                                                 \n",
       "22209                                           0.038864                                                 \n",
       "\n",
       "       PERC Est_Total: Bachelor's degree: EDUCATIONAL ATTAINMENT FOR THE POPULATION 25 YEARS AND OVER  \\\n",
       "0                                               0.100726                                                \n",
       "1                                               0.111410                                                \n",
       "2                                               0.147558                                                \n",
       "3                                               0.113757                                                \n",
       "4                                               0.252457                                                \n",
       "...                                                  ...                                                \n",
       "22205                                           0.245585                                                \n",
       "22206                                           0.334450                                                \n",
       "22207                                           0.192665                                                \n",
       "22208                                           0.139013                                                \n",
       "22209                                           0.384916                                                \n",
       "\n",
       "       PERC Est_Total: Master's degree: EDUCATIONAL ATTAINMENT FOR THE POPULATION 25 YEARS AND OVER  \\\n",
       "0                                               0.026618                                              \n",
       "1                                               0.048805                                              \n",
       "2                                               0.055631                                              \n",
       "3                                               0.005291                                              \n",
       "4                                               0.208995                                              \n",
       "...                                                  ...                                              \n",
       "22205                                           0.083061                                              \n",
       "22206                                           0.069035                                              \n",
       "22207                                           0.047433                                              \n",
       "22208                                           0.035874                                              \n",
       "22209                                           0.197161                                              \n",
       "\n",
       "       PERC Est_Total: Professional school degree: EDUCATIONAL ATTAINMENT FOR THE POPULATION 25 YEARS AND OVER  \\\n",
       "0                                               0.002117                                                         \n",
       "1                                               0.000000                                                         \n",
       "2                                               0.006445                                                         \n",
       "3                                               0.012698                                                         \n",
       "4                                               0.012850                                                         \n",
       "...                                                  ...                                                         \n",
       "22205                                           0.007521                                                         \n",
       "22206                                           0.010724                                                         \n",
       "22207                                           0.003423                                                         \n",
       "22208                                           0.006726                                                         \n",
       "22209                                           0.100089                                                         \n",
       "\n",
       "       PERC Est_Total: Doctorate degree: EDUCATIONAL ATTAINMENT FOR THE POPULATION 25 YEARS AND OVER  \\\n",
       "0                                               0.008167                                               \n",
       "1                                               0.000000                                               \n",
       "2                                               0.016621                                               \n",
       "3                                               0.000529                                               \n",
       "4                                               0.019652                                               \n",
       "...                                                  ...                                               \n",
       "22205                                           0.009810                                               \n",
       "22206                                           0.026810                                               \n",
       "22207                                           0.000000                                               \n",
       "22208                                           0.005232                                               \n",
       "22209                                           0.048270                                               \n",
       "\n",
       "       Year  \\\n",
       "0      2017   \n",
       "1      2017   \n",
       "2      2017   \n",
       "3      2017   \n",
       "4      2017   \n",
       "...     ...   \n",
       "22205  2021   \n",
       "22206  2021   \n",
       "22207  2021   \n",
       "22208  2021   \n",
       "22209  2021   \n",
       "\n",
       "       Est_Total: PLACE OF BIRTH BY YEAR OF ENTRY FOR THE FOREIGN-BORN POPULATION  \n",
       "0                                                    NaN                           \n",
       "1                                                    NaN                           \n",
       "2                                                    NaN                           \n",
       "3                                                    NaN                           \n",
       "4                                                    NaN                           \n",
       "...                                                  ...                           \n",
       "22205                                              350.0                           \n",
       "22206                                              319.0                           \n",
       "22207                                              329.0                           \n",
       "22208                                              161.0                           \n",
       "22209                                             1046.0                           \n",
       "\n",
       "[44420 rows x 188 columns]"
      ]
     },
     "execution_count": 31,
     "metadata": {},
     "output_type": "execute_result"
    }
   ],
   "source": [
    "stacked_df"
   ]
  },
  {
   "cell_type": "code",
   "execution_count": 32,
   "id": "1fc56f17",
   "metadata": {},
   "outputs": [
    {
     "name": "stdout",
     "output_type": "stream",
     "text": [
      "City                                                                                                        object\n",
      "tract                                                                                                        int64\n",
      "state                                                                                                        int64\n",
      "county                                                                                                       int64\n",
      "GEOID                                                                                                       object\n",
      "                                                                                                            ...   \n",
      "PERC Est_Total: Master's degree: EDUCATIONAL ATTAINMENT FOR THE POPULATION 25 YEARS AND OVER               float64\n",
      "PERC Est_Total: Professional school degree: EDUCATIONAL ATTAINMENT FOR THE POPULATION 25 YEARS AND OVER    float64\n",
      "PERC Est_Total: Doctorate degree: EDUCATIONAL ATTAINMENT FOR THE POPULATION 25 YEARS AND OVER              float64\n",
      "Year                                                                                                         int64\n",
      "Est_Total: PLACE OF BIRTH BY YEAR OF ENTRY FOR THE FOREIGN-BORN POPULATION                                 float64\n",
      "Length: 188, dtype: object\n"
     ]
    }
   ],
   "source": [
    "print(stacked_df.dtypes)"
   ]
  },
  {
   "cell_type": "code",
   "execution_count": 33,
   "id": "c297fb1d",
   "metadata": {
    "scrolled": true
   },
   "outputs": [],
   "source": [
    "merged_cdc_acs = final_df_cdc.merge(final_df_standard_2021_new, on = \"GEOID\")"
   ]
  },
  {
   "cell_type": "code",
   "execution_count": 34,
   "id": "fc771ac3",
   "metadata": {},
   "outputs": [],
   "source": [
    "merged_cdc_acs_2017 = final_df_cdc.merge(final_df_standard_2017_new, on = \"GEOID\")"
   ]
  },
  {
   "cell_type": "code",
   "execution_count": 35,
   "id": "897f79c8",
   "metadata": {},
   "outputs": [],
   "source": [
    "merged_cdc_acs_2021 = final_df_cdc.merge(stacked_df, on = \"GEOID\")"
   ]
  },
  {
   "cell_type": "code",
   "execution_count": 36,
   "id": "cf8d6ac1",
   "metadata": {},
   "outputs": [],
   "source": [
    "merged_cdc_acs.to_csv('/Users/sarahlueling/Desktop/DSC/broadbandequity/Merge_ACS-CDC/merged_cdc_acs.csv')"
   ]
  },
  {
   "cell_type": "code",
   "execution_count": 37,
   "id": "cc98f1ce",
   "metadata": {},
   "outputs": [],
   "source": [
    "merged_cdc_acs_2017.to_csv('/Users/sarahlueling/Desktop/DSC/broadbandequity/Merge_ACS-CDC/merged_cdc_acs_2017.csv')"
   ]
  },
  {
   "cell_type": "code",
   "execution_count": 38,
   "id": "5dcf0a8e",
   "metadata": {},
   "outputs": [],
   "source": [
    "merged_cdc_acs_2021.to_csv('/Users/sarahlueling/Desktop/DSC/broadbandequity/Merge_ACS-CDC/merged_cdc_acs_2021.csv')"
   ]
  }
 ],
 "metadata": {
  "kernelspec": {
   "display_name": "Python 3 (ipykernel)",
   "language": "python",
   "name": "python3"
  },
  "language_info": {
   "codemirror_mode": {
    "name": "ipython",
    "version": 3
   },
   "file_extension": ".py",
   "mimetype": "text/x-python",
   "name": "python",
   "nbconvert_exporter": "python",
   "pygments_lexer": "ipython3",
   "version": "3.9.13"
  }
 },
 "nbformat": 4,
 "nbformat_minor": 5
}
