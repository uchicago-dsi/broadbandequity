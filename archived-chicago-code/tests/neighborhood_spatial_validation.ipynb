{
 "cells": [
  {
   "cell_type": "markdown",
   "metadata": {},
   "source": [
    "### Validating Areal Interpolation\n",
    "\n",
    "##### Outlier Neighborhood Analysis"
   ]
  },
  {
   "cell_type": "markdown",
   "metadata": {},
   "source": [
    "_Note: This is a notebook previously used to inspect some of the neighborhoods that were producing outlier results via areal interpolation. This problem was resolved (we determined it was due to lake area being included in geographies) but we are leaving this notebook in the repository for documentation purposes._"
   ]
  },
  {
   "cell_type": "markdown",
   "metadata": {},
   "source": [
    "Look at `spatial_operations_validation.ipynb` for a broader overview of areal interpolation results. Here, we are going to look at two of the outlier neighborhoods to see if we can get a better sense of what is going on.\n",
    "\n",
    "Specifically, we are going to look at Edgewater and South Shore. Our areal interpolation methods differed significantly from our validation data for both; the tract-to-neighborhood crosswalk method differed significantly from validation data for South Shore but not at all for Edgewater."
   ]
  },
  {
   "cell_type": "code",
   "execution_count": 1,
   "metadata": {},
   "outputs": [],
   "source": [
    "import os\n",
    "import sys\n",
    "sys.path[0] = os.path.join(os.path.abspath(''),'..')  # make sure we can import from our package"
   ]
  },
  {
   "cell_type": "code",
   "execution_count": 2,
   "metadata": {},
   "outputs": [],
   "source": [
    "import matplotlib.pyplot as plt\n",
    "%matplotlib inline\n",
    "from data_pipeline.fetch_census_data import acs5_aggregate \n",
    "from data_pipeline import spatial_operations as so\n",
    "from data_pipeline import interactive_mapping as im\n",
    "import numpy as np\n",
    "import pandas as pd\n",
    "import geopandas as gpd\n",
    "from IPython.display import display"
   ]
  },
  {
   "cell_type": "code",
   "execution_count": 3,
   "metadata": {},
   "outputs": [],
   "source": [
    "outputs = pd.read_csv('validation_data').set_index('community_area')"
   ]
  },
  {
   "cell_type": "code",
   "execution_count": 4,
   "metadata": {},
   "outputs": [
    {
     "data": {
      "text/plain": [
       "Unnamed: 0                       21.000000\n",
       "known population              57649.000010\n",
       "areal-weighted sum            57639.157977\n",
       "areal-weighted sum error         -9.842033\n",
       "areal-weighted mean           57639.158107\n",
       "areal-weighted mean error        -9.841903\n",
       "pop-weighted mean            115344.242070\n",
       "pop-weighted mean error       57695.242060\n",
       "crosswalk                     57649.000000\n",
       "crosswalk error                  -0.000010\n",
       "Name: EDGEWATER, dtype: float64"
      ]
     },
     "execution_count": 4,
     "metadata": {},
     "output_type": "execute_result"
    }
   ],
   "source": [
    "outputs.loc['EDGEWATER']"
   ]
  },
  {
   "cell_type": "code",
   "execution_count": 5,
   "metadata": {},
   "outputs": [
    {
     "data": {
      "text/plain": [
       "Unnamed: 0                      64.000000\n",
       "known population             52454.000010\n",
       "areal-weighted sum           50565.720663\n",
       "areal-weighted sum error     -1888.279347\n",
       "areal-weighted mean          50565.720989\n",
       "areal-weighted mean error    -1888.279021\n",
       "pop-weighted mean            56288.843817\n",
       "pop-weighted mean error       3834.843807\n",
       "crosswalk                    50265.000000\n",
       "crosswalk error              -2189.000010\n",
       "Name: SOUTH SHORE, dtype: float64"
      ]
     },
     "execution_count": 5,
     "metadata": {},
     "output_type": "execute_result"
    }
   ],
   "source": [
    "outputs.loc['SOUTH SHORE']"
   ]
  },
  {
   "cell_type": "markdown",
   "metadata": {},
   "source": [
    "First, we will compare maps of these neighborhoods with tract maps."
   ]
  },
  {
   "cell_type": "code",
   "execution_count": 6,
   "metadata": {},
   "outputs": [],
   "source": [
    "neighborhoods = pd.DataFrame(columns=['community_area'])\n",
    "neighborhoods['community_area'] = outputs.index\n",
    "neighborhoods = so.geographize(neighborhoods,'community_area').set_index('community_area')\n"
   ]
  },
  {
   "cell_type": "code",
   "execution_count": 7,
   "metadata": {},
   "outputs": [],
   "source": [
    "edgewater = neighborhoods.loc['EDGEWATER']\n",
    "edgewater_area = pd.DataFrame(columns=edgewater.index)\n",
    "edgewater_area.loc[0] = edgewater.values\n",
    "edgewater_area['community_area'] = 'EDGEWATER'\n",
    "south_shore = neighborhoods.loc['SOUTH SHORE']\n",
    "south_shore_area = pd.DataFrame(columns=south_shore.index)\n",
    "south_shore_area.loc[0] = south_shore.values\n",
    "south_shore_area['community_area'] = 'SOUTH SHORE'\n"
   ]
  },
  {
   "cell_type": "code",
   "execution_count": 8,
   "metadata": {},
   "outputs": [
    {
     "data": {
      "image/png": "[encoded data removed]",
      "text/plain": [
       "<Figure size 432x288 with 2 Axes>"
      ]
     },
     "metadata": {
      "needs_background": "light"
     },
     "output_type": "display_data"
    }
   ],
   "source": [
    "so.simple_map(gpd.GeoDataFrame(edgewater_area),'area',target_geography = 'community_area')"
   ]
  },
  {
   "cell_type": "code",
   "execution_count": 9,
   "metadata": {},
   "outputs": [
    {
     "data": {
      "application/vnd.jupyter.widget-view+json": {
       "model_id": "9bdc37b71f004aa58f477840f8dfbaac",
       "version_major": 2,
       "version_minor": 0
      },
      "text/plain": [
       "Map(center=[41.85, -87.6], controls=(ZoomControl(options=['position', 'zoom_in_text', 'zoom_in_title', 'zoom_o…"
      ]
     },
     "metadata": {},
     "output_type": "display_data"
    }
   ],
   "source": [
    "edgewater_map = im.InteractiveMap(gpd.GeoDataFrame(edgewater_area),target_geography='community_area')\n",
    "edgewater_map.map"
   ]
  },
  {
   "cell_type": "code",
   "execution_count": 10,
   "metadata": {},
   "outputs": [
    {
     "data": {
      "text/html": [
       "<div>\n",
       "<style scoped>\n",
       "    .dataframe tbody tr th:only-of-type {\n",
       "        vertical-align: middle;\n",
       "    }\n",
       "\n",
       "    .dataframe tbody tr th {\n",
       "        vertical-align: top;\n",
       "    }\n",
       "\n",
       "    .dataframe thead th {\n",
       "        text-align: right;\n",
       "    }\n",
       "</style>\n",
       "<table border=\"1\" class=\"dataframe\">\n",
       "  <thead>\n",
       "    <tr style=\"text-align: right;\">\n",
       "      <th></th>\n",
       "      <th>comm_num</th>\n",
       "      <th>tract</th>\n",
       "    </tr>\n",
       "  </thead>\n",
       "  <tbody>\n",
       "    <tr>\n",
       "      <th>0</th>\n",
       "      <td>35</td>\n",
       "      <td>842000</td>\n",
       "    </tr>\n",
       "    <tr>\n",
       "      <th>1</th>\n",
       "      <td>35</td>\n",
       "      <td>351500</td>\n",
       "    </tr>\n",
       "    <tr>\n",
       "      <th>2</th>\n",
       "      <td>35</td>\n",
       "      <td>839500</td>\n",
       "    </tr>\n",
       "    <tr>\n",
       "      <th>3</th>\n",
       "      <td>35</td>\n",
       "      <td>839200</td>\n",
       "    </tr>\n",
       "    <tr>\n",
       "      <th>4</th>\n",
       "      <td>35</td>\n",
       "      <td>839600</td>\n",
       "    </tr>\n",
       "  </tbody>\n",
       "</table>\n",
       "</div>"
      ],
      "text/plain": [
       "   comm_num   tract\n",
       "0        35  842000\n",
       "1        35  351500\n",
       "2        35  839500\n",
       "3        35  839200\n",
       "4        35  839600"
      ]
     },
     "execution_count": 10,
     "metadata": {},
     "output_type": "execute_result"
    }
   ],
   "source": [
    "# importing Census tracts mapped to community area number \n",
    "# renaming columns\n",
    "\n",
    "tracts = pd.read_csv(\"../data/tracts_comm_areas.csv\",\n",
    "                        index_col=0,\n",
    "                        parse_dates=[0]).rename(columns={\n",
    "                        \"COMMAREA\": \"comm_num\",          \n",
    "                        \"TRACTCE10\": \"tract\"})\n",
    "\n",
    "# importing community area numbers and names\n",
    "# renaming columns\n",
    "\n",
    "comm_area = pd.read_csv(\"../data/comm_areas.csv\",\n",
    "                        index_col=0,\n",
    "                        parse_dates=[0]).rename(columns={\n",
    "                        \"AREA_NUMBE\": \"comm_num\"})\n",
    "\n",
    "# merging both dataframes above to map tract wirh community area name\n",
    "\n",
    "tract_area= comm_area.merge(tracts, on='comm_num')\n",
    "\n",
    "# selecting columns we need and renaming them\n",
    "\n",
    "tract_area=tract_area[['comm_num', 'tract']]\n",
    "\n",
    "# 801 rows x 3 columns\n",
    "# final dataframe\n",
    "\n",
    "tract_area.head()"
   ]
  },
  {
   "cell_type": "code",
   "execution_count": 11,
   "metadata": {},
   "outputs": [
    {
     "data": {
      "text/html": [
       "<div>\n",
       "<style scoped>\n",
       "    .dataframe tbody tr th:only-of-type {\n",
       "        vertical-align: middle;\n",
       "    }\n",
       "\n",
       "    .dataframe tbody tr th {\n",
       "        vertical-align: top;\n",
       "    }\n",
       "\n",
       "    .dataframe thead th {\n",
       "        text-align: right;\n",
       "    }\n",
       "</style>\n",
       "<table border=\"1\" class=\"dataframe\">\n",
       "  <thead>\n",
       "    <tr style=\"text-align: right;\">\n",
       "      <th></th>\n",
       "      <th>comm_num</th>\n",
       "      <th>tract</th>\n",
       "      <th>community_area</th>\n",
       "      <th>area</th>\n",
       "      <th>area_num_1</th>\n",
       "      <th>comarea</th>\n",
       "      <th>comarea_id</th>\n",
       "      <th>perimeter</th>\n",
       "      <th>shape_area</th>\n",
       "      <th>shape_len</th>\n",
       "      <th>geometry</th>\n",
       "    </tr>\n",
       "  </thead>\n",
       "  <tbody>\n",
       "    <tr>\n",
       "      <th>0</th>\n",
       "      <td>35</td>\n",
       "      <td>842000</td>\n",
       "      <td>DOUGLAS</td>\n",
       "      <td>0.000463</td>\n",
       "      <td>35</td>\n",
       "      <td>0.0</td>\n",
       "      <td>0.0</td>\n",
       "      <td>0.0</td>\n",
       "      <td>4.600462e+07</td>\n",
       "      <td>31027.05451</td>\n",
       "      <td>POLYGON ((-87.60914 41.84469, -87.60915 41.844...</td>\n",
       "    </tr>\n",
       "    <tr>\n",
       "      <th>1</th>\n",
       "      <td>35</td>\n",
       "      <td>351500</td>\n",
       "      <td>DOUGLAS</td>\n",
       "      <td>0.000463</td>\n",
       "      <td>35</td>\n",
       "      <td>0.0</td>\n",
       "      <td>0.0</td>\n",
       "      <td>0.0</td>\n",
       "      <td>4.600462e+07</td>\n",
       "      <td>31027.05451</td>\n",
       "      <td>POLYGON ((-87.60914 41.84469, -87.60915 41.844...</td>\n",
       "    </tr>\n",
       "    <tr>\n",
       "      <th>2</th>\n",
       "      <td>35</td>\n",
       "      <td>839500</td>\n",
       "      <td>DOUGLAS</td>\n",
       "      <td>0.000463</td>\n",
       "      <td>35</td>\n",
       "      <td>0.0</td>\n",
       "      <td>0.0</td>\n",
       "      <td>0.0</td>\n",
       "      <td>4.600462e+07</td>\n",
       "      <td>31027.05451</td>\n",
       "      <td>POLYGON ((-87.60914 41.84469, -87.60915 41.844...</td>\n",
       "    </tr>\n",
       "    <tr>\n",
       "      <th>3</th>\n",
       "      <td>35</td>\n",
       "      <td>839200</td>\n",
       "      <td>DOUGLAS</td>\n",
       "      <td>0.000463</td>\n",
       "      <td>35</td>\n",
       "      <td>0.0</td>\n",
       "      <td>0.0</td>\n",
       "      <td>0.0</td>\n",
       "      <td>4.600462e+07</td>\n",
       "      <td>31027.05451</td>\n",
       "      <td>POLYGON ((-87.60914 41.84469, -87.60915 41.844...</td>\n",
       "    </tr>\n",
       "    <tr>\n",
       "      <th>4</th>\n",
       "      <td>35</td>\n",
       "      <td>839600</td>\n",
       "      <td>DOUGLAS</td>\n",
       "      <td>0.000463</td>\n",
       "      <td>35</td>\n",
       "      <td>0.0</td>\n",
       "      <td>0.0</td>\n",
       "      <td>0.0</td>\n",
       "      <td>4.600462e+07</td>\n",
       "      <td>31027.05451</td>\n",
       "      <td>POLYGON ((-87.60914 41.84469, -87.60915 41.844...</td>\n",
       "    </tr>\n",
       "  </tbody>\n",
       "</table>\n",
       "</div>"
      ],
      "text/plain": [
       "   comm_num   tract community_area      area area_num_1  comarea  comarea_id  \\\n",
       "0        35  842000        DOUGLAS  0.000463         35      0.0         0.0   \n",
       "1        35  351500        DOUGLAS  0.000463         35      0.0         0.0   \n",
       "2        35  839500        DOUGLAS  0.000463         35      0.0         0.0   \n",
       "3        35  839200        DOUGLAS  0.000463         35      0.0         0.0   \n",
       "4        35  839600        DOUGLAS  0.000463         35      0.0         0.0   \n",
       "\n",
       "   perimeter    shape_area    shape_len  \\\n",
       "0        0.0  4.600462e+07  31027.05451   \n",
       "1        0.0  4.600462e+07  31027.05451   \n",
       "2        0.0  4.600462e+07  31027.05451   \n",
       "3        0.0  4.600462e+07  31027.05451   \n",
       "4        0.0  4.600462e+07  31027.05451   \n",
       "\n",
       "                                            geometry  \n",
       "0  POLYGON ((-87.60914 41.84469, -87.60915 41.844...  \n",
       "1  POLYGON ((-87.60914 41.84469, -87.60915 41.844...  \n",
       "2  POLYGON ((-87.60914 41.84469, -87.60915 41.844...  \n",
       "3  POLYGON ((-87.60914 41.84469, -87.60915 41.844...  \n",
       "4  POLYGON ((-87.60914 41.84469, -87.60915 41.844...  "
      ]
     },
     "execution_count": 11,
     "metadata": {},
     "output_type": "execute_result"
    }
   ],
   "source": [
    "neighborhoods = neighborhoods.rename(columns={'area_numbe':'comm_num'}).reset_index()\n",
    "neighborhoods['comm_num'] = neighborhoods['comm_num'].astype(np.int64)\n",
    "crosswalk = tract_area.merge(neighborhoods,on='comm_num')\n",
    "crosswalk.head()"
   ]
  },
  {
   "cell_type": "code",
   "execution_count": 12,
   "metadata": {},
   "outputs": [
    {
     "data": {
      "text/plain": [
       "775    30601\n",
       "776    30604\n",
       "777    30103\n",
       "778    30102\n",
       "779    30706\n",
       "780    30702\n",
       "781    30603\n",
       "782    30701\n",
       "783    30703\n",
       "784    30104\n",
       "785    30101\n",
       "786    30200\n",
       "787    30300\n",
       "788    30400\n",
       "789    30500\n",
       "790    30800\n",
       "791    30900\n",
       "Name: tract, dtype: int64"
      ]
     },
     "execution_count": 12,
     "metadata": {},
     "output_type": "execute_result"
    }
   ],
   "source": [
    "crosswalk.groupby('community_area').get_group('EDGEWATER').tract"
   ]
  },
  {
   "cell_type": "markdown",
   "metadata": {},
   "source": [
    "This does exactly match the visually-found census tracts for the area. None of the census tracts seem to overlap any other neighborhood areas."
   ]
  }
 ],
 "metadata": {
  "interpreter": {
   "hash": "fbb3f0efde723712f7660d349a24e831b5cb632791db0e0eb0cecf21d8451381"
  },
  "kernelspec": {
   "display_name": "Python 3.8.2 ('broadbandequity')",
   "language": "python",
   "name": "python3"
  },
  "language_info": {
   "codemirror_mode": {
    "name": "ipython",
    "version": 3
   },
   "file_extension": ".py",
   "mimetype": "text/x-python",
   "name": "python",
   "nbconvert_exporter": "python",
   "pygments_lexer": "ipython3",
   "version": "3.8.2"
  },
  "orig_nbformat": 4
 },
 "nbformat": 4,
 "nbformat_minor": 2
}
