{
 "cells": [
  {
   "cell_type": "markdown",
   "metadata": {},
   "source": [
    "This is a working notebook that was used to modify the Chicago Data Portal's [community area shapefiles](https://data.cityofchicago.org/Facilities-Geographic-Boundaries/Boundaries-Community-Areas-current-/cauq-8yn6) so that the O'Hare shapefile does not contain the single tract that it has in DuPage County (this tract is almost entirely part of O'Hare International Airport). This was done by intersecting the O'Hare geography with tract geographies and deleting the part that does not overlap. \n",
    "\n",
    "Because we saved the output of this notebook to `community_areas.shp`, note that this notebook cannot be run again without re-downloading the origin block shapefiles. We are retaining it in the repository for reproducibility purposes."
   ]
  },
  {
   "cell_type": "code",
   "execution_count": 1,
   "metadata": {},
   "outputs": [],
   "source": [
    "import os\n",
    "import sys\n",
    "sys.path[0] = os.path.join(os.path.abspath(''),'..')  # make sure we can import from our package"
   ]
  },
  {
   "cell_type": "code",
   "execution_count": 2,
   "metadata": {},
   "outputs": [],
   "source": [
    "import matplotlib.pyplot as plt\n",
    "%matplotlib inline\n",
    "from data_pipeline import spatial_operations as so\n",
    "import numpy as np\n",
    "import pandas as pd\n",
    "import geopandas as gpd"
   ]
  },
  {
   "cell_type": "code",
   "execution_count": 3,
   "metadata": {},
   "outputs": [
    {
     "data": {
      "text/html": [
       "<div>\n",
       "<style scoped>\n",
       "    .dataframe tbody tr th:only-of-type {\n",
       "        vertical-align: middle;\n",
       "    }\n",
       "\n",
       "    .dataframe tbody tr th {\n",
       "        vertical-align: top;\n",
       "    }\n",
       "\n",
       "    .dataframe thead th {\n",
       "        text-align: right;\n",
       "    }\n",
       "</style>\n",
       "<table border=\"1\" class=\"dataframe\">\n",
       "  <thead>\n",
       "    <tr style=\"text-align: right;\">\n",
       "      <th></th>\n",
       "      <th>community_area</th>\n",
       "      <th>area</th>\n",
       "      <th>area_num_1</th>\n",
       "      <th>area_numbe</th>\n",
       "      <th>comarea</th>\n",
       "      <th>comarea_id</th>\n",
       "      <th>perimeter</th>\n",
       "      <th>shape_area</th>\n",
       "      <th>shape_len</th>\n",
       "      <th>geometry</th>\n",
       "    </tr>\n",
       "  </thead>\n",
       "  <tbody>\n",
       "    <tr>\n",
       "      <th>0</th>\n",
       "      <td>ALBANY PARK</td>\n",
       "      <td>0.0</td>\n",
       "      <td>14</td>\n",
       "      <td>14</td>\n",
       "      <td>0.0</td>\n",
       "      <td>0.0</td>\n",
       "      <td>0.0</td>\n",
       "      <td>5.354223e+07</td>\n",
       "      <td>39339.016439</td>\n",
       "      <td>POLYGON ((-87.70404 41.97355, -87.70403 41.973...</td>\n",
       "    </tr>\n",
       "    <tr>\n",
       "      <th>1</th>\n",
       "      <td>ARCHER HEIGHTS</td>\n",
       "      <td>0.0</td>\n",
       "      <td>57</td>\n",
       "      <td>57</td>\n",
       "      <td>0.0</td>\n",
       "      <td>0.0</td>\n",
       "      <td>0.0</td>\n",
       "      <td>5.592251e+07</td>\n",
       "      <td>31880.021029</td>\n",
       "      <td>POLYGON ((-87.71437 41.82604, -87.71436 41.825...</td>\n",
       "    </tr>\n",
       "    <tr>\n",
       "      <th>2</th>\n",
       "      <td>ARMOUR SQUARE</td>\n",
       "      <td>0.0</td>\n",
       "      <td>34</td>\n",
       "      <td>34</td>\n",
       "      <td>0.0</td>\n",
       "      <td>0.0</td>\n",
       "      <td>0.0</td>\n",
       "      <td>2.776620e+07</td>\n",
       "      <td>31948.598840</td>\n",
       "      <td>POLYGON ((-87.62917 41.84556, -87.62947 41.845...</td>\n",
       "    </tr>\n",
       "    <tr>\n",
       "      <th>3</th>\n",
       "      <td>ASHBURN</td>\n",
       "      <td>0.0</td>\n",
       "      <td>70</td>\n",
       "      <td>70</td>\n",
       "      <td>0.0</td>\n",
       "      <td>0.0</td>\n",
       "      <td>0.0</td>\n",
       "      <td>1.354603e+08</td>\n",
       "      <td>54818.154632</td>\n",
       "      <td>POLYGON ((-87.71255 41.75734, -87.71252 41.757...</td>\n",
       "    </tr>\n",
       "    <tr>\n",
       "      <th>4</th>\n",
       "      <td>AUBURN GRESHAM</td>\n",
       "      <td>0.0</td>\n",
       "      <td>71</td>\n",
       "      <td>71</td>\n",
       "      <td>0.0</td>\n",
       "      <td>0.0</td>\n",
       "      <td>0.0</td>\n",
       "      <td>1.050654e+08</td>\n",
       "      <td>46757.721716</td>\n",
       "      <td>POLYGON ((-87.63990 41.75615, -87.63990 41.755...</td>\n",
       "    </tr>\n",
       "    <tr>\n",
       "      <th>...</th>\n",
       "      <td>...</td>\n",
       "      <td>...</td>\n",
       "      <td>...</td>\n",
       "      <td>...</td>\n",
       "      <td>...</td>\n",
       "      <td>...</td>\n",
       "      <td>...</td>\n",
       "      <td>...</td>\n",
       "      <td>...</td>\n",
       "      <td>...</td>\n",
       "    </tr>\n",
       "    <tr>\n",
       "      <th>72</th>\n",
       "      <td>WEST LAWN</td>\n",
       "      <td>0.0</td>\n",
       "      <td>65</td>\n",
       "      <td>65</td>\n",
       "      <td>0.0</td>\n",
       "      <td>0.0</td>\n",
       "      <td>0.0</td>\n",
       "      <td>8.231530e+07</td>\n",
       "      <td>41934.490131</td>\n",
       "      <td>POLYGON ((-87.71255 41.75734, -87.71278 41.757...</td>\n",
       "    </tr>\n",
       "    <tr>\n",
       "      <th>73</th>\n",
       "      <td>WEST PULLMAN</td>\n",
       "      <td>0.0</td>\n",
       "      <td>53</td>\n",
       "      <td>53</td>\n",
       "      <td>0.0</td>\n",
       "      <td>0.0</td>\n",
       "      <td>0.0</td>\n",
       "      <td>9.936520e+07</td>\n",
       "      <td>50023.843001</td>\n",
       "      <td>POLYGON ((-87.61828 41.65911, -87.61829 41.659...</td>\n",
       "    </tr>\n",
       "    <tr>\n",
       "      <th>74</th>\n",
       "      <td>WEST RIDGE</td>\n",
       "      <td>0.0</td>\n",
       "      <td>2</td>\n",
       "      <td>2</td>\n",
       "      <td>0.0</td>\n",
       "      <td>0.0</td>\n",
       "      <td>0.0</td>\n",
       "      <td>9.842909e+07</td>\n",
       "      <td>43020.689458</td>\n",
       "      <td>POLYGON ((-87.68465 42.01948, -87.68464 42.019...</td>\n",
       "    </tr>\n",
       "    <tr>\n",
       "      <th>75</th>\n",
       "      <td>WEST TOWN</td>\n",
       "      <td>0.0</td>\n",
       "      <td>24</td>\n",
       "      <td>24</td>\n",
       "      <td>0.0</td>\n",
       "      <td>0.0</td>\n",
       "      <td>0.0</td>\n",
       "      <td>1.275629e+08</td>\n",
       "      <td>55203.718696</td>\n",
       "      <td>POLYGON ((-87.65686 41.91078, -87.65685 41.910...</td>\n",
       "    </tr>\n",
       "    <tr>\n",
       "      <th>76</th>\n",
       "      <td>WOODLAWN</td>\n",
       "      <td>0.0</td>\n",
       "      <td>42</td>\n",
       "      <td>42</td>\n",
       "      <td>0.0</td>\n",
       "      <td>0.0</td>\n",
       "      <td>0.0</td>\n",
       "      <td>5.781518e+07</td>\n",
       "      <td>46936.959244</td>\n",
       "      <td>POLYGON ((-87.57714 41.78615, -87.57714 41.786...</td>\n",
       "    </tr>\n",
       "  </tbody>\n",
       "</table>\n",
       "<p>77 rows × 10 columns</p>\n",
       "</div>"
      ],
      "text/plain": [
       "    community_area  area area_num_1 area_numbe  comarea  comarea_id  \\\n",
       "0      ALBANY PARK   0.0         14         14      0.0         0.0   \n",
       "1   ARCHER HEIGHTS   0.0         57         57      0.0         0.0   \n",
       "2    ARMOUR SQUARE   0.0         34         34      0.0         0.0   \n",
       "3          ASHBURN   0.0         70         70      0.0         0.0   \n",
       "4   AUBURN GRESHAM   0.0         71         71      0.0         0.0   \n",
       "..             ...   ...        ...        ...      ...         ...   \n",
       "72       WEST LAWN   0.0         65         65      0.0         0.0   \n",
       "73    WEST PULLMAN   0.0         53         53      0.0         0.0   \n",
       "74      WEST RIDGE   0.0          2          2      0.0         0.0   \n",
       "75       WEST TOWN   0.0         24         24      0.0         0.0   \n",
       "76        WOODLAWN   0.0         42         42      0.0         0.0   \n",
       "\n",
       "    perimeter    shape_area     shape_len  \\\n",
       "0         0.0  5.354223e+07  39339.016439   \n",
       "1         0.0  5.592251e+07  31880.021029   \n",
       "2         0.0  2.776620e+07  31948.598840   \n",
       "3         0.0  1.354603e+08  54818.154632   \n",
       "4         0.0  1.050654e+08  46757.721716   \n",
       "..        ...           ...           ...   \n",
       "72        0.0  8.231530e+07  41934.490131   \n",
       "73        0.0  9.936520e+07  50023.843001   \n",
       "74        0.0  9.842909e+07  43020.689458   \n",
       "75        0.0  1.275629e+08  55203.718696   \n",
       "76        0.0  5.781518e+07  46936.959244   \n",
       "\n",
       "                                             geometry  \n",
       "0   POLYGON ((-87.70404 41.97355, -87.70403 41.973...  \n",
       "1   POLYGON ((-87.71437 41.82604, -87.71436 41.825...  \n",
       "2   POLYGON ((-87.62917 41.84556, -87.62947 41.845...  \n",
       "3   POLYGON ((-87.71255 41.75734, -87.71252 41.757...  \n",
       "4   POLYGON ((-87.63990 41.75615, -87.63990 41.755...  \n",
       "..                                                ...  \n",
       "72  POLYGON ((-87.71255 41.75734, -87.71278 41.757...  \n",
       "73  POLYGON ((-87.61828 41.65911, -87.61829 41.659...  \n",
       "74  POLYGON ((-87.68465 42.01948, -87.68464 42.019...  \n",
       "75  POLYGON ((-87.65686 41.91078, -87.65685 41.910...  \n",
       "76  POLYGON ((-87.57714 41.78615, -87.57714 41.786...  \n",
       "\n",
       "[77 rows x 10 columns]"
      ]
     },
     "execution_count": 3,
     "metadata": {},
     "output_type": "execute_result"
    }
   ],
   "source": [
    "community_areas = so.get_shapefile('community_area').set_index(\"community_area\").sort_index().reset_index()\n",
    "community_areas"
   ]
  },
  {
   "cell_type": "code",
   "execution_count": null,
   "metadata": {},
   "outputs": [],
   "source": [
    "community_areas[56:57]"
   ]
  },
  {
   "cell_type": "code",
   "execution_count": 4,
   "metadata": {},
   "outputs": [
    {
     "name": "stderr",
     "output_type": "stream",
     "text": [
      "/Users/drewkeller/opt/anaconda3/envs/broadbandequity/lib/python3.8/site-packages/geopandas/plotting.py:38: ShapelyDeprecationWarning: Iteration over multi-part geometries is deprecated and will be removed in Shapely 2.0. Use the `geoms` property to access the constituent parts of a multi-part geometry.\n",
      "  for poly in geom:\n",
      "/Users/drewkeller/opt/anaconda3/envs/broadbandequity/lib/python3.8/site-packages/descartes/patch.py:62: ShapelyDeprecationWarning: The array interface is deprecated and will no longer work in Shapely 2.0. Convert the '.coords' to a numpy array instead.\n",
      "  vertices = concatenate([\n",
      "/Users/drewkeller/opt/anaconda3/envs/broadbandequity/lib/python3.8/site-packages/descartes/patch.py:64: ShapelyDeprecationWarning: The array interface is deprecated and will no longer work in Shapely 2.0. Convert the '.coords' to a numpy array instead.\n",
      "  [asarray(r)[:, :2] for r in t.interiors])\n"
     ]
    },
    {
     "data": {
      "text/plain": [
       "<AxesSubplot:>"
      ]
     },
     "execution_count": 4,
     "metadata": {},
     "output_type": "execute_result"
    },
    {
     "data": {
      "image/png": "[encoded data removed]",
      "text/plain": [
       "<Figure size 432x288 with 1 Axes>"
      ]
     },
     "metadata": {
      "needs_background": "light"
     },
     "output_type": "display_data"
    }
   ],
   "source": [
    "community_areas.plot()"
   ]
  },
  {
   "cell_type": "code",
   "execution_count": null,
   "metadata": {},
   "outputs": [],
   "source": [
    "tracts = so.get_shapefile('tract')\n",
    "tracts.plot()"
   ]
  },
  {
   "cell_type": "markdown",
   "metadata": {},
   "source": [
    "We want to remove the part of the O'Hare community area that is not in tracts (that is, the tract that's not in Cook County)."
   ]
  },
  {
   "cell_type": "code",
   "execution_count": null,
   "metadata": {},
   "outputs": [],
   "source": [
    "intersect = gpd.overlay(community_areas,tracts,how=\"intersection\")\n",
    "intersect.plot()"
   ]
  },
  {
   "cell_type": "code",
   "execution_count": null,
   "metadata": {},
   "outputs": [],
   "source": [
    "intersect[intersect['community_area']==\"OHARE\"]"
   ]
  },
  {
   "cell_type": "code",
   "execution_count": null,
   "metadata": {},
   "outputs": [],
   "source": [
    "intersect[intersect['community_area']==\"OHARE\"].dissolve(by=\"community_area\").plot()"
   ]
  },
  {
   "cell_type": "code",
   "execution_count": null,
   "metadata": {},
   "outputs": [],
   "source": [
    "community_areas[56:57]"
   ]
  },
  {
   "cell_type": "code",
   "execution_count": null,
   "metadata": {},
   "outputs": [],
   "source": [
    "intersect[intersect['community_area']==\"OHARE\"].dissolve(by=\"community_area\")[\"geometry\"][0]"
   ]
  },
  {
   "cell_type": "code",
   "execution_count": null,
   "metadata": {},
   "outputs": [],
   "source": [
    "community_areas[\"geometry\"][56:57] = intersect[intersect['community_area']==\"OHARE\"].dissolve(by=\"community_area\")[\"geometry\"][0:1]"
   ]
  },
  {
   "cell_type": "code",
   "execution_count": null,
   "metadata": {},
   "outputs": [],
   "source": [
    "community_areas.plot()"
   ]
  },
  {
   "cell_type": "markdown",
   "metadata": {},
   "source": [
    "Nice. "
   ]
  },
  {
   "cell_type": "code",
   "execution_count": 5,
   "metadata": {},
   "outputs": [],
   "source": [
    "community_areas.to_file('/Users/drewkeller/Desktop/CS/broadbandequity/geo/community_areas.shp')"
   ]
  }
 ],
 "metadata": {
  "interpreter": {
   "hash": "fbb3f0efde723712f7660d349a24e831b5cb632791db0e0eb0cecf21d8451381"
  },
  "kernelspec": {
   "display_name": "Python 3.8.2 ('broadbandequity')",
   "language": "python",
   "name": "python3"
  },
  "language_info": {
   "codemirror_mode": {
    "name": "ipython",
    "version": 3
   },
   "file_extension": ".py",
   "mimetype": "text/x-python",
   "name": "python",
   "nbconvert_exporter": "python",
   "pygments_lexer": "ipython3",
   "version": "3.8.2"
  },
  "orig_nbformat": 4
 },
 "nbformat": 4,
 "nbformat_minor": 2
}
