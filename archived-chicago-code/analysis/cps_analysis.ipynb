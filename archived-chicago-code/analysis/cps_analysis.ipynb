{
 "cells": [
  {
   "cell_type": "markdown",
   "id": "22e549a6",
   "metadata": {},
   "source": [
    "## Analyzing 2019 CPS Data "
   ]
  },
  {
   "cell_type": "markdown",
   "id": "f58dd9c9",
   "metadata": {},
   "source": [
    "This notebook contains the code used to wrangle, join, and analyze the November 2019 CURRENT POPULATION SURVEY (CPS) [Computer and Internet Use Supplement](https://www.census.gov/data/datasets/time-series/demo/cps/cps-supp_cps-repwgt/cps-computer.html).\n",
    "\n",
    "All csv files can be found in the \"data\" folder of the [working](https://github.com/danielgrzenda/broadbandequity/tree/working) branch of our Broadband Equity Github repo."
   ]
  },
  {
   "cell_type": "markdown",
   "id": "0f0271b1",
   "metadata": {},
   "source": [
    "##### Importing Libraries"
   ]
  },
  {
   "cell_type": "code",
   "execution_count": 1,
   "id": "00fa4913",
   "metadata": {},
   "outputs": [],
   "source": [
    "import os\n",
    "import sys\n",
    "sys.path[0] = os.path.join(os.path.abspath(''),'..')  # make sure we can import from our package"
   ]
  },
  {
   "cell_type": "code",
   "execution_count": 2,
   "id": "73302abd",
   "metadata": {},
   "outputs": [],
   "source": [
    "import pandas as pd\n",
    "import numpy as np\n",
    "import matplotlib.pyplot as plt\n",
    "from data_pipeline import fetch_census_data"
   ]
  },
  {
   "cell_type": "markdown",
   "id": "2aae7703",
   "metadata": {},
   "source": [
    "##### Fetching API data"
   ]
  },
  {
   "cell_type": "code",
   "execution_count": 3,
   "id": "9ab2752b",
   "metadata": {},
   "outputs": [],
   "source": [
    "# If you updated variables in config.ini, rerun the next line to fetch the latest changes \n",
    "# fetch_census_data.cps_individual(force_api_call=True)"
   ]
  },
  {
   "cell_type": "markdown",
   "id": "9f5381d9",
   "metadata": {},
   "source": [
    "##### Loading dataset"
   ]
  },
  {
   "cell_type": "code",
   "execution_count": 4,
   "id": "6eade4e4",
   "metadata": {},
   "outputs": [],
   "source": [
    "# loading cps data\n",
    "\n",
    "census_df=fetch_census_data.cps_individual()"
   ]
  },
  {
   "cell_type": "code",
   "execution_count": 5,
   "id": "baf16ff3",
   "metadata": {},
   "outputs": [
    {
     "data": {
      "text/html": [
       "<div>\n",
       "<style scoped>\n",
       "    .dataframe tbody tr th:only-of-type {\n",
       "        vertical-align: middle;\n",
       "    }\n",
       "\n",
       "    .dataframe tbody tr th {\n",
       "        vertical-align: top;\n",
       "    }\n",
       "\n",
       "    .dataframe thead th {\n",
       "        text-align: right;\n",
       "    }\n",
       "</style>\n",
       "<table border=\"1\" class=\"dataframe\">\n",
       "  <thead>\n",
       "    <tr style=\"text-align: right;\">\n",
       "      <th></th>\n",
       "      <th>area</th>\n",
       "      <th>city</th>\n",
       "      <th>use_internet</th>\n",
       "      <th>hh_id</th>\n",
       "      <th>hh_size</th>\n",
       "      <th>employment</th>\n",
       "      <th>education</th>\n",
       "      <th>hispanic</th>\n",
       "      <th>race</th>\n",
       "      <th>internet_provider</th>\n",
       "      <th>...</th>\n",
       "      <th>no_device_internet</th>\n",
       "      <th>other_no_internet</th>\n",
       "      <th>doctor_internet</th>\n",
       "      <th>health_research_online</th>\n",
       "      <th>health_monitor_online</th>\n",
       "      <th>health_records_online</th>\n",
       "      <th>buy_internet_lower_price</th>\n",
       "      <th>online_classes</th>\n",
       "      <th>state</th>\n",
       "      <th>county</th>\n",
       "    </tr>\n",
       "  </thead>\n",
       "  <tbody>\n",
       "    <tr>\n",
       "      <th>31</th>\n",
       "      <td>16980</td>\n",
       "      <td>1</td>\n",
       "      <td>1</td>\n",
       "      <td>310604531644537</td>\n",
       "      <td>3</td>\n",
       "      <td>7.0</td>\n",
       "      <td>43.0</td>\n",
       "      <td>2</td>\n",
       "      <td>4</td>\n",
       "      <td>1.0</td>\n",
       "      <td>...</td>\n",
       "      <td>NaN</td>\n",
       "      <td>NaN</td>\n",
       "      <td>2.0</td>\n",
       "      <td>2.0</td>\n",
       "      <td>2.0</td>\n",
       "      <td>2.0</td>\n",
       "      <td>NaN</td>\n",
       "      <td>1.0</td>\n",
       "      <td>17</td>\n",
       "      <td>0</td>\n",
       "    </tr>\n",
       "    <tr>\n",
       "      <th>32</th>\n",
       "      <td>16980</td>\n",
       "      <td>1</td>\n",
       "      <td>1</td>\n",
       "      <td>310604531644537</td>\n",
       "      <td>3</td>\n",
       "      <td>7.0</td>\n",
       "      <td>43.0</td>\n",
       "      <td>2</td>\n",
       "      <td>4</td>\n",
       "      <td>1.0</td>\n",
       "      <td>...</td>\n",
       "      <td>NaN</td>\n",
       "      <td>NaN</td>\n",
       "      <td>2.0</td>\n",
       "      <td>2.0</td>\n",
       "      <td>2.0</td>\n",
       "      <td>2.0</td>\n",
       "      <td>NaN</td>\n",
       "      <td>NaN</td>\n",
       "      <td>17</td>\n",
       "      <td>0</td>\n",
       "    </tr>\n",
       "    <tr>\n",
       "      <th>33</th>\n",
       "      <td>16980</td>\n",
       "      <td>1</td>\n",
       "      <td>1</td>\n",
       "      <td>310604531644537</td>\n",
       "      <td>3</td>\n",
       "      <td>1.0</td>\n",
       "      <td>44.0</td>\n",
       "      <td>2</td>\n",
       "      <td>4</td>\n",
       "      <td>1.0</td>\n",
       "      <td>...</td>\n",
       "      <td>NaN</td>\n",
       "      <td>NaN</td>\n",
       "      <td>2.0</td>\n",
       "      <td>2.0</td>\n",
       "      <td>2.0</td>\n",
       "      <td>2.0</td>\n",
       "      <td>NaN</td>\n",
       "      <td>NaN</td>\n",
       "      <td>17</td>\n",
       "      <td>0</td>\n",
       "    </tr>\n",
       "    <tr>\n",
       "      <th>34</th>\n",
       "      <td>16980</td>\n",
       "      <td>1</td>\n",
       "      <td>1</td>\n",
       "      <td>107163554710898</td>\n",
       "      <td>2</td>\n",
       "      <td>2.0</td>\n",
       "      <td>43.0</td>\n",
       "      <td>2</td>\n",
       "      <td>1</td>\n",
       "      <td>1.0</td>\n",
       "      <td>...</td>\n",
       "      <td>NaN</td>\n",
       "      <td>NaN</td>\n",
       "      <td>2.0</td>\n",
       "      <td>1.0</td>\n",
       "      <td>2.0</td>\n",
       "      <td>2.0</td>\n",
       "      <td>NaN</td>\n",
       "      <td>NaN</td>\n",
       "      <td>17</td>\n",
       "      <td>0</td>\n",
       "    </tr>\n",
       "    <tr>\n",
       "      <th>35</th>\n",
       "      <td>16980</td>\n",
       "      <td>1</td>\n",
       "      <td>1</td>\n",
       "      <td>107163554710898</td>\n",
       "      <td>2</td>\n",
       "      <td>3.0</td>\n",
       "      <td>44.0</td>\n",
       "      <td>2</td>\n",
       "      <td>1</td>\n",
       "      <td>1.0</td>\n",
       "      <td>...</td>\n",
       "      <td>NaN</td>\n",
       "      <td>NaN</td>\n",
       "      <td>2.0</td>\n",
       "      <td>1.0</td>\n",
       "      <td>2.0</td>\n",
       "      <td>2.0</td>\n",
       "      <td>NaN</td>\n",
       "      <td>1.0</td>\n",
       "      <td>17</td>\n",
       "      <td>0</td>\n",
       "    </tr>\n",
       "  </tbody>\n",
       "</table>\n",
       "<p>5 rows × 28 columns</p>\n",
       "</div>"
      ],
      "text/plain": [
       "     area  city  use_internet            hh_id  hh_size  employment  \\\n",
       "31  16980     1             1  310604531644537        3         7.0   \n",
       "32  16980     1             1  310604531644537        3         7.0   \n",
       "33  16980     1             1  310604531644537        3         1.0   \n",
       "34  16980     1             1  107163554710898        2         2.0   \n",
       "35  16980     1             1  107163554710898        2         3.0   \n",
       "\n",
       "    education  hispanic  race  internet_provider  ...  no_device_internet  \\\n",
       "31       43.0         2     4                1.0  ...                 NaN   \n",
       "32       43.0         2     4                1.0  ...                 NaN   \n",
       "33       44.0         2     4                1.0  ...                 NaN   \n",
       "34       43.0         2     1                1.0  ...                 NaN   \n",
       "35       44.0         2     1                1.0  ...                 NaN   \n",
       "\n",
       "    other_no_internet  doctor_internet  health_research_online  \\\n",
       "31                NaN              2.0                     2.0   \n",
       "32                NaN              2.0                     2.0   \n",
       "33                NaN              2.0                     2.0   \n",
       "34                NaN              2.0                     1.0   \n",
       "35                NaN              2.0                     1.0   \n",
       "\n",
       "    health_monitor_online  health_records_online  buy_internet_lower_price  \\\n",
       "31                    2.0                    2.0                       NaN   \n",
       "32                    2.0                    2.0                       NaN   \n",
       "33                    2.0                    2.0                       NaN   \n",
       "34                    2.0                    2.0                       NaN   \n",
       "35                    2.0                    2.0                       NaN   \n",
       "\n",
       "    online_classes  state  county  \n",
       "31             1.0     17       0  \n",
       "32             NaN     17       0  \n",
       "33             NaN     17       0  \n",
       "34             NaN     17       0  \n",
       "35             1.0     17       0  \n",
       "\n",
       "[5 rows x 28 columns]"
      ]
     },
     "execution_count": 5,
     "metadata": {},
     "output_type": "execute_result"
    }
   ],
   "source": [
    "# filtering for Chicago\n",
    "# 562 rows x 26 columns\n",
    "# replace -1 with NA\n",
    "\n",
    "census_df = census_df[(census_df['area'] == 16980) & \n",
    "                      (census_df['city'] == 1)].replace(-1, np.NaN)\n",
    "\n",
    "census_df.head(5)"
   ]
  },
  {
   "cell_type": "markdown",
   "id": "7be35f65",
   "metadata": {},
   "source": [
    "##### Demographics"
   ]
  },
  {
   "cell_type": "code",
   "execution_count": 6,
   "id": "ccf3a2ed",
   "metadata": {},
   "outputs": [],
   "source": [
    "# first we look at the overall demographics of the sample size\n",
    "\n",
    "demo_df = census_df[[\n",
    "                'hh_id',\n",
    "                'hh_size',\n",
    "                'employment',\n",
    "                'education',\n",
    "                'hispanic',\n",
    "                'race']]"
   ]
  },
  {
   "cell_type": "code",
   "execution_count": 7,
   "id": "01ce9931",
   "metadata": {},
   "outputs": [
    {
     "name": "stderr",
     "output_type": "stream",
     "text": [
      "/var/folders/h2/1dptmntx7cqcbm48dz37csk00000gn/T/ipykernel_66899/1563469339.py:3: SettingWithCopyWarning: \n",
      "A value is trying to be set on a copy of a slice from a DataFrame.\n",
      "Try using .loc[row_indexer,col_indexer] = value instead\n",
      "\n",
      "See the caveats in the documentation: https://pandas.pydata.org/pandas-docs/stable/user_guide/indexing.html#returning-a-view-versus-a-copy\n",
      "  demo_df['employment']=demo_df[['employment']].replace(2,1).replace(3,2).replace(4,2).replace(5,3).replace(6,3).replace(7,3)\n"
     ]
    }
   ],
   "source": [
    "# collapse employment to 1,2,3 (employed, unemployed, other)\n",
    "\n",
    "demo_df['employment']=demo_df[['employment']].replace(2,1).replace(3,2).replace(4,2).replace(5,3).replace(6,3).replace(7,3)\n",
    "\n"
   ]
  },
  {
   "cell_type": "code",
   "execution_count": 8,
   "id": "897587af",
   "metadata": {},
   "outputs": [
    {
     "name": "stderr",
     "output_type": "stream",
     "text": [
      "/Users/drewkeller/opt/anaconda3/envs/broadbandequity/lib/python3.8/site-packages/pandas/core/indexing.py:1817: SettingWithCopyWarning: \n",
      "A value is trying to be set on a copy of a slice from a DataFrame.\n",
      "Try using .loc[row_indexer,col_indexer] = value instead\n",
      "\n",
      "See the caveats in the documentation: https://pandas.pydata.org/pandas-docs/stable/user_guide/indexing.html#returning-a-view-versus-a-copy\n",
      "  self._setitem_single_column(loc, value, pi)\n"
     ]
    }
   ],
   "source": [
    "# collapse education to 1,2,3 (<=high school, some college, >=bachelors)\n",
    "\n",
    "demo_df.loc[(demo_df.education <= 39),'education']=1\n",
    "demo_df.loc[(demo_df.education == 40),'education']=2\n",
    "demo_df.loc[(demo_df.education == 41),'education']=2\n",
    "demo_df.loc[(demo_df.education == 42),'education']=2\n",
    "demo_df.loc[(demo_df.education >= 43),'education']=3"
   ]
  },
  {
   "cell_type": "code",
   "execution_count": 9,
   "id": "2e9c5950",
   "metadata": {},
   "outputs": [
    {
     "data": {
      "text/html": [
       "<div>\n",
       "<style scoped>\n",
       "    .dataframe tbody tr th:only-of-type {\n",
       "        vertical-align: middle;\n",
       "    }\n",
       "\n",
       "    .dataframe tbody tr th {\n",
       "        vertical-align: top;\n",
       "    }\n",
       "\n",
       "    .dataframe thead th {\n",
       "        text-align: right;\n",
       "    }\n",
       "</style>\n",
       "<table border=\"1\" class=\"dataframe\">\n",
       "  <thead>\n",
       "    <tr style=\"text-align: right;\">\n",
       "      <th></th>\n",
       "      <th>hh_id</th>\n",
       "      <th>hh_size</th>\n",
       "      <th>employment</th>\n",
       "      <th>education</th>\n",
       "      <th>hispanic</th>\n",
       "      <th>race</th>\n",
       "    </tr>\n",
       "  </thead>\n",
       "  <tbody>\n",
       "    <tr>\n",
       "      <th>31</th>\n",
       "      <td>310604531644537</td>\n",
       "      <td>3</td>\n",
       "      <td>3.0</td>\n",
       "      <td>3.0</td>\n",
       "      <td>2</td>\n",
       "      <td>4</td>\n",
       "    </tr>\n",
       "    <tr>\n",
       "      <th>32</th>\n",
       "      <td>310604531644537</td>\n",
       "      <td>3</td>\n",
       "      <td>3.0</td>\n",
       "      <td>3.0</td>\n",
       "      <td>2</td>\n",
       "      <td>4</td>\n",
       "    </tr>\n",
       "    <tr>\n",
       "      <th>33</th>\n",
       "      <td>310604531644537</td>\n",
       "      <td>3</td>\n",
       "      <td>1.0</td>\n",
       "      <td>3.0</td>\n",
       "      <td>2</td>\n",
       "      <td>4</td>\n",
       "    </tr>\n",
       "    <tr>\n",
       "      <th>34</th>\n",
       "      <td>107163554710898</td>\n",
       "      <td>2</td>\n",
       "      <td>1.0</td>\n",
       "      <td>3.0</td>\n",
       "      <td>2</td>\n",
       "      <td>1</td>\n",
       "    </tr>\n",
       "    <tr>\n",
       "      <th>35</th>\n",
       "      <td>107163554710898</td>\n",
       "      <td>2</td>\n",
       "      <td>2.0</td>\n",
       "      <td>3.0</td>\n",
       "      <td>2</td>\n",
       "      <td>1</td>\n",
       "    </tr>\n",
       "  </tbody>\n",
       "</table>\n",
       "</div>"
      ],
      "text/plain": [
       "              hh_id  hh_size  employment  education  hispanic  race\n",
       "31  310604531644537        3         3.0        3.0         2     4\n",
       "32  310604531644537        3         3.0        3.0         2     4\n",
       "33  310604531644537        3         1.0        3.0         2     4\n",
       "34  107163554710898        2         1.0        3.0         2     1\n",
       "35  107163554710898        2         2.0        3.0         2     1"
      ]
     },
     "execution_count": 9,
     "metadata": {},
     "output_type": "execute_result"
    }
   ],
   "source": [
    "# resulting dataframe\n",
    "\n",
    "demo_df.head(5)"
   ]
  },
  {
   "cell_type": "markdown",
   "id": "09cbe057",
   "metadata": {},
   "source": [
    "Let's look at the distribution of each column's variables."
   ]
  },
  {
   "cell_type": "code",
   "execution_count": 10,
   "id": "2ca594a2",
   "metadata": {},
   "outputs": [
    {
     "data": {
      "text/plain": [
       "1.0    52.135231\n",
       "3.0    32.206406\n",
       "2.0     1.779359\n",
       "Name: employment, dtype: float64"
      ]
     },
     "execution_count": 10,
     "metadata": {},
     "output_type": "execute_result"
    }
   ],
   "source": [
    "# employment\n",
    "demo_df.employment.value_counts() / len(demo_df)*100"
   ]
  },
  {
   "cell_type": "code",
   "execution_count": 11,
   "id": "de35e676",
   "metadata": {},
   "outputs": [
    {
     "data": {
      "text/plain": [
       "3.0    35.409253\n",
       "1.0    33.096085\n",
       "2.0    17.615658\n",
       "Name: education, dtype: float64"
      ]
     },
     "execution_count": 11,
     "metadata": {},
     "output_type": "execute_result"
    }
   ],
   "source": [
    "# education\n",
    "demo_df.education.value_counts() / len(demo_df)*100"
   ]
  },
  {
   "cell_type": "code",
   "execution_count": 12,
   "id": "24e41d68",
   "metadata": {},
   "outputs": [
    {
     "data": {
      "text/plain": [
       "2    71.886121\n",
       "1    28.113879\n",
       "Name: hispanic, dtype: float64"
      ]
     },
     "execution_count": 12,
     "metadata": {},
     "output_type": "execute_result"
    }
   ],
   "source": [
    "# hispanic\n",
    "\n",
    "demo_df.hispanic.value_counts() / len(demo_df)*100"
   ]
  },
  {
   "cell_type": "code",
   "execution_count": 13,
   "id": "79496ef3",
   "metadata": {},
   "outputs": [
    {
     "data": {
      "text/plain": [
       "1    59.964413\n",
       "2    29.003559\n",
       "4     8.896797\n",
       "8     1.067616\n",
       "6     0.711744\n",
       "3     0.177936\n",
       "5     0.177936\n",
       "Name: race, dtype: float64"
      ]
     },
     "execution_count": 13,
     "metadata": {},
     "output_type": "execute_result"
    }
   ],
   "source": [
    "# race\n",
    "\n",
    "demo_df.race.value_counts() / len(demo_df)*100"
   ]
  },
  {
   "cell_type": "code",
   "execution_count": 14,
   "id": "df3e4ca9",
   "metadata": {},
   "outputs": [
    {
     "data": {
      "text/plain": [
       "3.0854092526690393"
      ]
     },
     "execution_count": 14,
     "metadata": {},
     "output_type": "execute_result"
    }
   ],
   "source": [
    "# household size average\n",
    "\n",
    "demo_df.hh_size.mean()"
   ]
  },
  {
   "cell_type": "code",
   "execution_count": 15,
   "id": "4a0e83ff",
   "metadata": {},
   "outputs": [
    {
     "data": {
      "text/plain": [
       "4    24.021352\n",
       "2    22.953737\n",
       "1    20.462633\n",
       "3    15.836299\n",
       "6     7.473310\n",
       "5     6.761566\n",
       "9     1.245552\n",
       "7     1.245552\n",
       "Name: hh_size, dtype: float64"
      ]
     },
     "execution_count": 15,
     "metadata": {},
     "output_type": "execute_result"
    }
   ],
   "source": [
    "# household size distribution \n",
    "\n",
    "demo_df.hh_size.value_counts() / len(demo_df)*100"
   ]
  },
  {
   "cell_type": "markdown",
   "id": "2faa1cb1",
   "metadata": {},
   "source": [
    "**Demographics Summary**\n",
    "\n",
    "- 52% of the sample is employed, 32% of the sampled is disabled, retired, or other. <2% of the sample is unemployed.\n",
    "- 35% of the sample has achieved at least a bachelor's degree. 33% has achieved a high school diploma/GED or less. 18% finished some college.\n",
    "- 71% of the sample is non-Hispanic. 28% identify as Hispanic. \n",
    "- 60% of the sample identifies as White Only, 29% identify as Black Only, 9% identify as Asian only. \n",
    "- The average household size in the sample was 3 people. 83% of the population have households of less than or equal to 4 people. "
   ]
  },
  {
   "cell_type": "markdown",
   "id": "c9a4efee",
   "metadata": {},
   "source": [
    "##### Internet Access"
   ]
  },
  {
   "cell_type": "code",
   "execution_count": 16,
   "id": "a6645346",
   "metadata": {},
   "outputs": [],
   "source": [
    "# 0 = no\n",
    "# 1 = yes\n",
    "\n",
    "access_df = census_df[[\n",
    "                'hh_id',\n",
    "                'high_speed_service',\n",
    "                'mobile_plan',\n",
    "                'dont_need_internet',\n",
    "                'cant_afford_internet',\n",
    "                'internet_NA',\n",
    "                'no_device_internet',\n",
    "                'other_no_internet']].replace(2,0)"
   ]
  },
  {
   "cell_type": "code",
   "execution_count": 17,
   "id": "61489e48",
   "metadata": {},
   "outputs": [
    {
     "data": {
      "text/html": [
       "<div>\n",
       "<style scoped>\n",
       "    .dataframe tbody tr th:only-of-type {\n",
       "        vertical-align: middle;\n",
       "    }\n",
       "\n",
       "    .dataframe tbody tr th {\n",
       "        vertical-align: top;\n",
       "    }\n",
       "\n",
       "    .dataframe thead th {\n",
       "        text-align: right;\n",
       "    }\n",
       "</style>\n",
       "<table border=\"1\" class=\"dataframe\">\n",
       "  <thead>\n",
       "    <tr style=\"text-align: right;\">\n",
       "      <th></th>\n",
       "      <th>hh_id</th>\n",
       "      <th>high_speed_service</th>\n",
       "      <th>mobile_plan</th>\n",
       "      <th>dont_need_internet</th>\n",
       "      <th>cant_afford_internet</th>\n",
       "      <th>internet_NA</th>\n",
       "      <th>no_device_internet</th>\n",
       "      <th>other_no_internet</th>\n",
       "    </tr>\n",
       "  </thead>\n",
       "  <tbody>\n",
       "    <tr>\n",
       "      <th>31</th>\n",
       "      <td>310604531644537</td>\n",
       "      <td>1.0</td>\n",
       "      <td>1.0</td>\n",
       "      <td>NaN</td>\n",
       "      <td>NaN</td>\n",
       "      <td>NaN</td>\n",
       "      <td>NaN</td>\n",
       "      <td>NaN</td>\n",
       "    </tr>\n",
       "    <tr>\n",
       "      <th>32</th>\n",
       "      <td>310604531644537</td>\n",
       "      <td>1.0</td>\n",
       "      <td>1.0</td>\n",
       "      <td>NaN</td>\n",
       "      <td>NaN</td>\n",
       "      <td>NaN</td>\n",
       "      <td>NaN</td>\n",
       "      <td>NaN</td>\n",
       "    </tr>\n",
       "    <tr>\n",
       "      <th>33</th>\n",
       "      <td>310604531644537</td>\n",
       "      <td>1.0</td>\n",
       "      <td>1.0</td>\n",
       "      <td>NaN</td>\n",
       "      <td>NaN</td>\n",
       "      <td>NaN</td>\n",
       "      <td>NaN</td>\n",
       "      <td>NaN</td>\n",
       "    </tr>\n",
       "    <tr>\n",
       "      <th>34</th>\n",
       "      <td>107163554710898</td>\n",
       "      <td>1.0</td>\n",
       "      <td>1.0</td>\n",
       "      <td>NaN</td>\n",
       "      <td>NaN</td>\n",
       "      <td>NaN</td>\n",
       "      <td>NaN</td>\n",
       "      <td>NaN</td>\n",
       "    </tr>\n",
       "    <tr>\n",
       "      <th>35</th>\n",
       "      <td>107163554710898</td>\n",
       "      <td>1.0</td>\n",
       "      <td>1.0</td>\n",
       "      <td>NaN</td>\n",
       "      <td>NaN</td>\n",
       "      <td>NaN</td>\n",
       "      <td>NaN</td>\n",
       "      <td>NaN</td>\n",
       "    </tr>\n",
       "  </tbody>\n",
       "</table>\n",
       "</div>"
      ],
      "text/plain": [
       "              hh_id  high_speed_service  mobile_plan  dont_need_internet  \\\n",
       "31  310604531644537                 1.0          1.0                 NaN   \n",
       "32  310604531644537                 1.0          1.0                 NaN   \n",
       "33  310604531644537                 1.0          1.0                 NaN   \n",
       "34  107163554710898                 1.0          1.0                 NaN   \n",
       "35  107163554710898                 1.0          1.0                 NaN   \n",
       "\n",
       "    cant_afford_internet  internet_NA  no_device_internet  other_no_internet  \n",
       "31                   NaN          NaN                 NaN                NaN  \n",
       "32                   NaN          NaN                 NaN                NaN  \n",
       "33                   NaN          NaN                 NaN                NaN  \n",
       "34                   NaN          NaN                 NaN                NaN  \n",
       "35                   NaN          NaN                 NaN                NaN  "
      ]
     },
     "execution_count": 17,
     "metadata": {},
     "output_type": "execute_result"
    }
   ],
   "source": [
    "access_df.head(5)"
   ]
  },
  {
   "cell_type": "markdown",
   "id": "d4c3d1c7",
   "metadata": {},
   "source": [
    "Let's look at the distribution of each column's variables."
   ]
  },
  {
   "cell_type": "code",
   "execution_count": 18,
   "id": "983b3b06",
   "metadata": {},
   "outputs": [
    {
     "data": {
      "text/plain": [
       "1.0    59.252669\n",
       "0.0    15.124555\n",
       "Name: high_speed_service, dtype: float64"
      ]
     },
     "execution_count": 18,
     "metadata": {},
     "output_type": "execute_result"
    }
   ],
   "source": [
    "# high speed service \n",
    "\n",
    "access_df.high_speed_service.value_counts() / len(access_df)*100"
   ]
  },
  {
   "cell_type": "code",
   "execution_count": 19,
   "id": "414a296f",
   "metadata": {},
   "outputs": [
    {
     "data": {
      "text/plain": [
       "1.0    64.056940\n",
       "0.0    14.946619\n",
       "Name: mobile_plan, dtype: float64"
      ]
     },
     "execution_count": 19,
     "metadata": {},
     "output_type": "execute_result"
    }
   ],
   "source": [
    "# mobile plan\n",
    "\n",
    "access_df.mobile_plan.value_counts() / len(access_df)*100"
   ]
  },
  {
   "cell_type": "code",
   "execution_count": 20,
   "id": "99a42765",
   "metadata": {},
   "outputs": [
    {
     "data": {
      "text/plain": [
       "1.0    15.302491\n",
       "0.0    10.320285\n",
       "Name: dont_need_internet, dtype: float64"
      ]
     },
     "execution_count": 20,
     "metadata": {},
     "output_type": "execute_result"
    }
   ],
   "source": [
    "# dont need internet\n",
    "\n",
    "access_df.dont_need_internet.value_counts() / len(access_df)*100"
   ]
  },
  {
   "cell_type": "code",
   "execution_count": 21,
   "id": "c1c27438",
   "metadata": {},
   "outputs": [
    {
     "data": {
      "text/plain": [
       "0.0    17.615658\n",
       "1.0     8.007117\n",
       "Name: cant_afford_internet, dtype: float64"
      ]
     },
     "execution_count": 21,
     "metadata": {},
     "output_type": "execute_result"
    }
   ],
   "source": [
    "# cant afford internet\n",
    "\n",
    "access_df.cant_afford_internet.value_counts() / len(access_df)*100"
   ]
  },
  {
   "cell_type": "code",
   "execution_count": 22,
   "id": "41609ecb",
   "metadata": {},
   "outputs": [
    {
     "data": {
      "text/plain": [
       "0.0    25.266904\n",
       "1.0     0.355872\n",
       "Name: internet_NA, dtype: float64"
      ]
     },
     "execution_count": 22,
     "metadata": {},
     "output_type": "execute_result"
    }
   ],
   "source": [
    "# internet not available\n",
    "\n",
    "access_df.internet_NA.value_counts() / len(access_df)*100"
   ]
  },
  {
   "cell_type": "code",
   "execution_count": 23,
   "id": "2c8cfb95",
   "metadata": {},
   "outputs": [
    {
     "data": {
      "text/plain": [
       "0.0    23.309609\n",
       "1.0     2.313167\n",
       "Name: no_device_internet, dtype: float64"
      ]
     },
     "execution_count": 23,
     "metadata": {},
     "output_type": "execute_result"
    }
   ],
   "source": [
    "# no device for internet\n",
    "\n",
    "access_df.no_device_internet.value_counts() / len(access_df)*100"
   ]
  },
  {
   "cell_type": "code",
   "execution_count": 24,
   "id": "9692e8d9",
   "metadata": {},
   "outputs": [
    {
     "data": {
      "text/plain": [
       "0.0    23.843416\n",
       "1.0     1.779359\n",
       "Name: other_no_internet, dtype: float64"
      ]
     },
     "execution_count": 24,
     "metadata": {},
     "output_type": "execute_result"
    }
   ],
   "source": [
    "# other reason for no internet access\n",
    "\n",
    "access_df.other_no_internet.value_counts() / len(access_df)*100"
   ]
  },
  {
   "cell_type": "markdown",
   "id": "8a4b0f9f",
   "metadata": {},
   "source": [
    "**Internet Access Summary**\n",
    "- 59% of the sample have access to the Internet using a high-speed internet service installed such as cable, DSL, or fiber optic service. 15% said they did not. \n",
    "- 64% of the sample said they access the Internet using a data plan for a cell phone/any smart device. This type of Internet service is provided by a wireless carrier, and may be part of a package that also includes voice calls from a cell phone or smartphone. 15% said no.\n",
    "- 15% said they do not have internet access because they do not need it or are not interested. 10% answered no to this.\n",
    "- 8% said they cannot afford internet access, while 18% said this was not the case.\n",
    "- Less than 1% said there was no internet access in the area. 25% said this was not the case.\n",
    "- 2% said they did not have a device to use the internet. 23% said this was not the case for them.\n",
    "- Less than 2% said there was another reason for no internet access. 24% said this was not the case for them. \n",
    "\n",
    "\n",
    "Overall, these variables had extremely low response rates (in between 20-30% for the last 4 variables and 80% for the first two variables). "
   ]
  },
  {
   "cell_type": "markdown",
   "id": "7493e3ee",
   "metadata": {},
   "source": [
    "     "
   ]
  },
  {
   "cell_type": "markdown",
   "id": "5ec8b370",
   "metadata": {},
   "source": [
    "##### Internet Usage"
   ]
  },
  {
   "cell_type": "code",
   "execution_count": 25,
   "id": "08e0b36f",
   "metadata": {},
   "outputs": [],
   "source": [
    "# 0 = no\n",
    "# 1 = yes\n",
    "\n",
    "use_df = census_df[[\n",
    "                'hh_id',\n",
    "                'use_internet',\n",
    "                'doctor_internet',\n",
    "                'health_research_online',\n",
    "                'health_monitor_online',\n",
    "                'health_records_online',\n",
    "                'buy_internet_lower_price',\n",
    "                'online_classes']].replace(2,0)"
   ]
  },
  {
   "cell_type": "code",
   "execution_count": 26,
   "id": "877eef94",
   "metadata": {},
   "outputs": [
    {
     "data": {
      "text/html": [
       "<div>\n",
       "<style scoped>\n",
       "    .dataframe tbody tr th:only-of-type {\n",
       "        vertical-align: middle;\n",
       "    }\n",
       "\n",
       "    .dataframe tbody tr th {\n",
       "        vertical-align: top;\n",
       "    }\n",
       "\n",
       "    .dataframe thead th {\n",
       "        text-align: right;\n",
       "    }\n",
       "</style>\n",
       "<table border=\"1\" class=\"dataframe\">\n",
       "  <thead>\n",
       "    <tr style=\"text-align: right;\">\n",
       "      <th></th>\n",
       "      <th>hh_id</th>\n",
       "      <th>use_internet</th>\n",
       "      <th>doctor_internet</th>\n",
       "      <th>health_research_online</th>\n",
       "      <th>health_monitor_online</th>\n",
       "      <th>health_records_online</th>\n",
       "      <th>buy_internet_lower_price</th>\n",
       "      <th>online_classes</th>\n",
       "    </tr>\n",
       "  </thead>\n",
       "  <tbody>\n",
       "    <tr>\n",
       "      <th>31</th>\n",
       "      <td>310604531644537</td>\n",
       "      <td>1</td>\n",
       "      <td>0.0</td>\n",
       "      <td>0.0</td>\n",
       "      <td>0.0</td>\n",
       "      <td>0.0</td>\n",
       "      <td>NaN</td>\n",
       "      <td>1.0</td>\n",
       "    </tr>\n",
       "    <tr>\n",
       "      <th>32</th>\n",
       "      <td>310604531644537</td>\n",
       "      <td>1</td>\n",
       "      <td>0.0</td>\n",
       "      <td>0.0</td>\n",
       "      <td>0.0</td>\n",
       "      <td>0.0</td>\n",
       "      <td>NaN</td>\n",
       "      <td>NaN</td>\n",
       "    </tr>\n",
       "    <tr>\n",
       "      <th>33</th>\n",
       "      <td>310604531644537</td>\n",
       "      <td>1</td>\n",
       "      <td>0.0</td>\n",
       "      <td>0.0</td>\n",
       "      <td>0.0</td>\n",
       "      <td>0.0</td>\n",
       "      <td>NaN</td>\n",
       "      <td>NaN</td>\n",
       "    </tr>\n",
       "    <tr>\n",
       "      <th>34</th>\n",
       "      <td>107163554710898</td>\n",
       "      <td>1</td>\n",
       "      <td>0.0</td>\n",
       "      <td>1.0</td>\n",
       "      <td>0.0</td>\n",
       "      <td>0.0</td>\n",
       "      <td>NaN</td>\n",
       "      <td>NaN</td>\n",
       "    </tr>\n",
       "    <tr>\n",
       "      <th>35</th>\n",
       "      <td>107163554710898</td>\n",
       "      <td>1</td>\n",
       "      <td>0.0</td>\n",
       "      <td>1.0</td>\n",
       "      <td>0.0</td>\n",
       "      <td>0.0</td>\n",
       "      <td>NaN</td>\n",
       "      <td>1.0</td>\n",
       "    </tr>\n",
       "  </tbody>\n",
       "</table>\n",
       "</div>"
      ],
      "text/plain": [
       "              hh_id  use_internet  doctor_internet  health_research_online  \\\n",
       "31  310604531644537             1              0.0                     0.0   \n",
       "32  310604531644537             1              0.0                     0.0   \n",
       "33  310604531644537             1              0.0                     0.0   \n",
       "34  107163554710898             1              0.0                     1.0   \n",
       "35  107163554710898             1              0.0                     1.0   \n",
       "\n",
       "    health_monitor_online  health_records_online  buy_internet_lower_price  \\\n",
       "31                    0.0                    0.0                       NaN   \n",
       "32                    0.0                    0.0                       NaN   \n",
       "33                    0.0                    0.0                       NaN   \n",
       "34                    0.0                    0.0                       NaN   \n",
       "35                    0.0                    0.0                       NaN   \n",
       "\n",
       "    online_classes  \n",
       "31             1.0  \n",
       "32             NaN  \n",
       "33             NaN  \n",
       "34             NaN  \n",
       "35             1.0  "
      ]
     },
     "execution_count": 26,
     "metadata": {},
     "output_type": "execute_result"
    }
   ],
   "source": [
    "use_df.head(5)"
   ]
  },
  {
   "cell_type": "markdown",
   "id": "300013da",
   "metadata": {},
   "source": [
    "Let's look at the distribution of each column's variables."
   ]
  },
  {
   "cell_type": "code",
   "execution_count": 27,
   "id": "8834954e",
   "metadata": {},
   "outputs": [
    {
     "data": {
      "text/plain": [
       "1    74.377224\n",
       "0    25.622776\n",
       "Name: use_internet, dtype: float64"
      ]
     },
     "execution_count": 27,
     "metadata": {},
     "output_type": "execute_result"
    }
   ],
   "source": [
    "# use internet\n",
    "\n",
    "use_df.use_internet.value_counts() / len(use_df)*100"
   ]
  },
  {
   "cell_type": "code",
   "execution_count": 28,
   "id": "5986700a",
   "metadata": {},
   "outputs": [
    {
     "data": {
      "text/plain": [
       "0.0    52.135231\n",
       "1.0    26.868327\n",
       "Name: doctor_internet, dtype: float64"
      ]
     },
     "execution_count": 28,
     "metadata": {},
     "output_type": "execute_result"
    }
   ],
   "source": [
    "# doctor internet\n",
    "\n",
    "use_df.doctor_internet.value_counts() / len(use_df)*100"
   ]
  },
  {
   "cell_type": "code",
   "execution_count": 29,
   "id": "ee33debf",
   "metadata": {},
   "outputs": [
    {
     "data": {
      "text/plain": [
       "0.0    52.135231\n",
       "1.0    26.868327\n",
       "Name: health_research_online, dtype: float64"
      ]
     },
     "execution_count": 29,
     "metadata": {},
     "output_type": "execute_result"
    }
   ],
   "source": [
    "# health_research_online\n",
    "\n",
    "use_df.health_research_online.value_counts() / len(use_df)*100"
   ]
  },
  {
   "cell_type": "code",
   "execution_count": 30,
   "id": "ca95d3c6",
   "metadata": {},
   "outputs": [
    {
     "data": {
      "text/plain": [
       "0.0    75.088968\n",
       "1.0     3.914591\n",
       "Name: health_monitor_online, dtype: float64"
      ]
     },
     "execution_count": 30,
     "metadata": {},
     "output_type": "execute_result"
    }
   ],
   "source": [
    "# health_monitor_online\n",
    "\n",
    "use_df.health_monitor_online.value_counts() / len(use_df)*100"
   ]
  },
  {
   "cell_type": "code",
   "execution_count": 31,
   "id": "db121e25",
   "metadata": {},
   "outputs": [
    {
     "data": {
      "text/plain": [
       "0.0    49.466192\n",
       "1.0    29.537367\n",
       "Name: health_records_online, dtype: float64"
      ]
     },
     "execution_count": 31,
     "metadata": {},
     "output_type": "execute_result"
    }
   ],
   "source": [
    "# health_records_online\n",
    "\n",
    "use_df.health_records_online.value_counts() / len(use_df)*100"
   ]
  },
  {
   "cell_type": "code",
   "execution_count": 32,
   "id": "b4ea24eb",
   "metadata": {},
   "outputs": [
    {
     "data": {
      "text/plain": [
       "0.0    28.113879\n",
       "1.0     8.007117\n",
       "Name: online_classes, dtype: float64"
      ]
     },
     "execution_count": 32,
     "metadata": {},
     "output_type": "execute_result"
    }
   ],
   "source": [
    "# online_classes\n",
    "\n",
    "use_df.online_classes.value_counts() / len(use_df)*100"
   ]
  },
  {
   "cell_type": "code",
   "execution_count": 33,
   "id": "5b5e95ff",
   "metadata": {},
   "outputs": [
    {
     "data": {
      "text/plain": [
       "0.0    20.640569\n",
       "1.0     4.982206\n",
       "Name: buy_internet_lower_price, dtype: float64"
      ]
     },
     "execution_count": 33,
     "metadata": {},
     "output_type": "execute_result"
    }
   ],
   "source": [
    "# buy internet lower price\n",
    "\n",
    "use_df.buy_internet_lower_price.value_counts() / len(use_df)*100"
   ]
  },
  {
   "cell_type": "markdown",
   "id": "c38531be",
   "metadata": {},
   "source": [
    "**Internet Usage Summary**\n",
    "- 74% of the sample said there is someone in the household who uses the Internet at home. 26% said there was no one.\n",
    "- 27% said they communicate with a doctor / health professional via the internet. 52% said they don't. \n",
    "- The same numbers say they do and dont research health information online such as WebMD or similar services.\n",
    "- Only 4% of the sample uses monitoring devices that collect their information and send to doctors via the internet. 75% said they do not use this.\n",
    "- 30% say they access their health records online. 50% said they don't.\n",
    "- 8% said they do online classes. 28% said they dont.\n",
    "- 5% said they would buy an internet service if it was cheaper. 21% said no this question. \n",
    "\n",
    "These variables had better response rates than the internet access variables, but some were still very low. The first five variables were in the 80-100% range, the last two were in the 20-30% range. "
   ]
  },
  {
   "cell_type": "markdown",
   "id": "8ae1a989",
   "metadata": {},
   "source": [
    "##### Summary"
   ]
  },
  {
   "cell_type": "markdown",
   "id": "8210d851",
   "metadata": {},
   "source": [
    "**Overall Summary (highlights)**\n",
    "- This dataset contained a very small sample size of 562 households out of 1,066,829 in Chicago. (About 0.05% of the population) \n",
    "- There were very low response rates for the variables asking why people did not have access to the internet, and for a couple specific uses of the internet. (see below for specifics)\n",
    "- 60% of the population identified as White only, 29% identified as Black only, and 28% identified as Hispanic (All races). \n",
    "- Very small unemployment rate in the sample (less than 2%)\n",
    "- The average household size in the sample was 3 people. \n",
    "- 59% of the sample said they access the Internet using a high-speed internet service.\n",
    "- 64% said they access the internet using a mobile data plan. \n",
    "\n",
    "\n",
    "\n",
    "**Demographics Summary**\n",
    "\n",
    "- 52% of the sample is employed, 32% of the sampled is disabled, retired, or other. <2% of the sample is unemployed.\n",
    "- 35% of the sample has achieved at least a bachelor's degree. 33% has achieved a high school diploma/GED or less. 18% finished some college.\n",
    "- 71% of the sample is non-Hispanic. 28% identify as Hispanic. \n",
    "- 60% of the sample identifies as White Only, 29% identify as Black Only, 9% identify as Asian only. \n",
    "- The average household size in the sample was 3 people. 83% of the population have households of less than or equal to 4 people. \n",
    "\n",
    "**Internet Access Summary**\n",
    "- 59% of the sample have access to the Internet using a high-speed internet service installed such as cable, DSL, or fiber optic service. 15% said they did not. \n",
    "- 64% of the sample said they access the Internet using a data plan for a cell phone/any smart device. This type of Internet service is provided by a wireless carrier, and may be part of a package that also includes voice calls from a cell phone or smartphone. 15% said no.\n",
    "- 15% said they do not have internet access because they do not need it or are not interested. 10% answered no to this.\n",
    "- 8% said they cannot afford internet access, while 18% said this was not the case.\n",
    "- Less than 1% said there was no internet access in the area. 25% said this was not the case.\n",
    "- 2% said they did not have a device to use the internet. 23% said this was not the case for them.\n",
    "- Less than 2% said there was another reason for no internet access. 24% said this was not the case for them. \n",
    "\n",
    "\n",
    "Overall, these variables had extremely low response rates (in between 20-30% for the last 4 variables and 80% for the first two variables). \n",
    "\n",
    "\n",
    "**Internet Usage Summary**\n",
    "- 74% of the sample said there is someone in the household who uses the Internet at home. 26% said there was no one.\n",
    "- 27% said they communicate with a doctor / health professional via the internet. 52% said they don't. \n",
    "- The same numbers say they do and dont research health information online such as WebMD or similar services.\n",
    "- Only 4% of the sample uses monitoring devices that collect their information and send to doctors via the internet. 75% said they do not use this.\n",
    "- 30% say they access their health records online. 50% said they don't.\n",
    "- 8% said they do online classes. 28% said they dont.\n",
    "- 5% said they would buy an internet service if it was cheaper. 21% said no this question. \n",
    "\n",
    "These variables had better response rates than the internet access variables, but some were still very low. The first five variables were in the 80-100% range, the last two were in the 20-30% range. "
   ]
  }
 ],
 "metadata": {
  "interpreter": {
   "hash": "fbb3f0efde723712f7660d349a24e831b5cb632791db0e0eb0cecf21d8451381"
  },
  "kernelspec": {
   "display_name": "Python 3.8.5 64-bit ('anaconda3': virtualenv)",
   "language": "python",
   "name": "python3"
  },
  "language_info": {
   "codemirror_mode": {
    "name": "ipython",
    "version": 3
   },
   "file_extension": ".py",
   "mimetype": "text/x-python",
   "name": "python",
   "nbconvert_exporter": "python",
   "pygments_lexer": "ipython3",
   "version": "3.8.2"
  }
 },
 "nbformat": 4,
 "nbformat_minor": 5
}
