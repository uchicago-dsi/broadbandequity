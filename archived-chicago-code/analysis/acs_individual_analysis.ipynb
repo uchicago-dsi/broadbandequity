{
 "cells": [
  {
   "cell_type": "markdown",
   "id": "1d53be40",
   "metadata": {},
   "source": [
    "### Individual ACS Data"
   ]
  },
  {
   "cell_type": "markdown",
   "id": "45b28f40",
   "metadata": {},
   "source": [
    "[Documentation](https://www2.census.gov/programs-surveys/acs/tech_docs/pums/data_dict/PUMS_Data_Dictionary_2015-2019.pdf)"
   ]
  },
  {
   "cell_type": "markdown",
   "id": "11837e08",
   "metadata": {},
   "source": [
    "##### Importing Libraries"
   ]
  },
  {
   "cell_type": "code",
   "execution_count": 1,
   "id": "6d0c5053",
   "metadata": {},
   "outputs": [],
   "source": [
    "import os\n",
    "import sys\n",
    "sys.path[0] = os.path.join(os.path.abspath(''),'..')  # make sure we can import from our package"
   ]
  },
  {
   "cell_type": "code",
   "execution_count": 2,
   "id": "850d1e4a",
   "metadata": {},
   "outputs": [],
   "source": [
    "import numpy as np\n",
    "import pandas as pd\n",
    "import matplotlib.pyplot as plt\n",
    "import seaborn as sns\n",
    "from data_pipeline import fetch_census_data"
   ]
  },
  {
   "cell_type": "code",
   "execution_count": 3,
   "id": "41aed584",
   "metadata": {},
   "outputs": [],
   "source": [
    "# If you updated variables in config.ini, rerun the next line to fetch the latest changes \n",
    "# fetch_census_data.acs5_individual(force_api_call=True)"
   ]
  },
  {
   "cell_type": "markdown",
   "id": "41bb878c",
   "metadata": {},
   "source": [
    "##### Importing Data"
   ]
  },
  {
   "cell_type": "code",
   "execution_count": 6,
   "id": "d3601680",
   "metadata": {},
   "outputs": [
    {
     "data": {
      "text/html": [
       "<div>\n",
       "<style scoped>\n",
       "    .dataframe tbody tr th:only-of-type {\n",
       "        vertical-align: middle;\n",
       "    }\n",
       "\n",
       "    .dataframe tbody tr th {\n",
       "        vertical-align: top;\n",
       "    }\n",
       "\n",
       "    .dataframe thead th {\n",
       "        text-align: right;\n",
       "    }\n",
       "</style>\n",
       "<table border=\"1\" class=\"dataframe\">\n",
       "  <thead>\n",
       "    <tr style=\"text-align: right;\">\n",
       "      <th></th>\n",
       "      <th>Unnamed: 0</th>\n",
       "      <th>internet_access</th>\n",
       "      <th>broadband</th>\n",
       "      <th>family_income</th>\n",
       "      <th>hh_income</th>\n",
       "      <th>poverty</th>\n",
       "      <th>race</th>\n",
       "      <th>hispanic</th>\n",
       "      <th>pop_65</th>\n",
       "      <th>weight</th>\n",
       "      <th>employment</th>\n",
       "      <th>work_available</th>\n",
       "      <th>education</th>\n",
       "      <th>citizenship</th>\n",
       "      <th>public use microdata area</th>\n",
       "    </tr>\n",
       "  </thead>\n",
       "  <tbody>\n",
       "    <tr>\n",
       "      <th>0</th>\n",
       "      <td>0</td>\n",
       "      <td>1</td>\n",
       "      <td>1</td>\n",
       "      <td>-60000</td>\n",
       "      <td>1000</td>\n",
       "      <td>8</td>\n",
       "      <td>1</td>\n",
       "      <td>1</td>\n",
       "      <td>0</td>\n",
       "      <td>47</td>\n",
       "      <td>1</td>\n",
       "      <td>5</td>\n",
       "      <td>16</td>\n",
       "      <td>4</td>\n",
       "      <td>3520</td>\n",
       "    </tr>\n",
       "    <tr>\n",
       "      <th>1</th>\n",
       "      <td>1</td>\n",
       "      <td>1</td>\n",
       "      <td>1</td>\n",
       "      <td>-60000</td>\n",
       "      <td>96000</td>\n",
       "      <td>501</td>\n",
       "      <td>2</td>\n",
       "      <td>1</td>\n",
       "      <td>0</td>\n",
       "      <td>29</td>\n",
       "      <td>1</td>\n",
       "      <td>5</td>\n",
       "      <td>22</td>\n",
       "      <td>1</td>\n",
       "      <td>3501</td>\n",
       "    </tr>\n",
       "    <tr>\n",
       "      <th>2</th>\n",
       "      <td>2</td>\n",
       "      <td>1</td>\n",
       "      <td>1</td>\n",
       "      <td>366000</td>\n",
       "      <td>366000</td>\n",
       "      <td>501</td>\n",
       "      <td>1</td>\n",
       "      <td>1</td>\n",
       "      <td>0</td>\n",
       "      <td>15</td>\n",
       "      <td>1</td>\n",
       "      <td>5</td>\n",
       "      <td>21</td>\n",
       "      <td>1</td>\n",
       "      <td>3420</td>\n",
       "    </tr>\n",
       "    <tr>\n",
       "      <th>3</th>\n",
       "      <td>3</td>\n",
       "      <td>1</td>\n",
       "      <td>1</td>\n",
       "      <td>366000</td>\n",
       "      <td>366000</td>\n",
       "      <td>501</td>\n",
       "      <td>6</td>\n",
       "      <td>1</td>\n",
       "      <td>0</td>\n",
       "      <td>13</td>\n",
       "      <td>1</td>\n",
       "      <td>5</td>\n",
       "      <td>21</td>\n",
       "      <td>1</td>\n",
       "      <td>3420</td>\n",
       "    </tr>\n",
       "    <tr>\n",
       "      <th>4</th>\n",
       "      <td>4</td>\n",
       "      <td>1</td>\n",
       "      <td>1</td>\n",
       "      <td>366000</td>\n",
       "      <td>366000</td>\n",
       "      <td>501</td>\n",
       "      <td>9</td>\n",
       "      <td>1</td>\n",
       "      <td>0</td>\n",
       "      <td>14</td>\n",
       "      <td>0</td>\n",
       "      <td>0</td>\n",
       "      <td>8</td>\n",
       "      <td>1</td>\n",
       "      <td>3420</td>\n",
       "    </tr>\n",
       "  </tbody>\n",
       "</table>\n",
       "</div>"
      ],
      "text/plain": [
       "   Unnamed: 0  internet_access  broadband  family_income  hh_income  poverty  \\\n",
       "0           0                1          1         -60000       1000        8   \n",
       "1           1                1          1         -60000      96000      501   \n",
       "2           2                1          1         366000     366000      501   \n",
       "3           3                1          1         366000     366000      501   \n",
       "4           4                1          1         366000     366000      501   \n",
       "\n",
       "   race  hispanic  pop_65  weight  employment  work_available  education  \\\n",
       "0     1         1       0      47           1               5         16   \n",
       "1     2         1       0      29           1               5         22   \n",
       "2     1         1       0      15           1               5         21   \n",
       "3     6         1       0      13           1               5         21   \n",
       "4     9         1       0      14           0               0          8   \n",
       "\n",
       "   citizenship  public use microdata area  \n",
       "0            4                       3520  \n",
       "1            1                       3501  \n",
       "2            1                       3420  \n",
       "3            1                       3420  \n",
       "4            1                       3420  "
      ]
     },
     "execution_count": 6,
     "metadata": {},
     "output_type": "execute_result"
    }
   ],
   "source": [
    "# loading individual acs data\n",
    "\n",
    "acs_ind = fetch_census_data.acs5_individual()\n",
    "acs_ind.head(5)"
   ]
  },
  {
   "cell_type": "markdown",
   "id": "c8735771",
   "metadata": {},
   "source": [
    "##### Recoding Variables"
   ]
  },
  {
   "cell_type": "markdown",
   "id": "0bce887d",
   "metadata": {},
   "source": [
    "Education"
   ]
  },
  {
   "cell_type": "code",
   "execution_count": 7,
   "id": "cc006719",
   "metadata": {},
   "outputs": [
    {
     "data": {
      "text/plain": [
       "array([16, 22, 21,  8,  3,  0, 13, 19, 14, 10, 20, 23,  6, 11,  9, 18, 15,\n",
       "       12,  7,  5, 17,  1,  2,  4, 24])"
      ]
     },
     "execution_count": 7,
     "metadata": {},
     "output_type": "execute_result"
    }
   ],
   "source": [
    "#checking for all outcomes of the education variable\n",
    "\n",
    "acs_ind.education.unique()"
   ]
  },
  {
   "cell_type": "code",
   "execution_count": 8,
   "id": "48410fc6",
   "metadata": {},
   "outputs": [],
   "source": [
    "# collapse education to 1,2,3 (<=high school, some college, >=bachelors) for easier regression\n",
    "\n",
    "acs_ind.loc[(acs_ind.education <= 17),'education']=1\n",
    "acs_ind.loc[(acs_ind.education == 18),'education']=2\n",
    "acs_ind.loc[(acs_ind.education == 19),'education']=2\n",
    "acs_ind.loc[(acs_ind.education == 20),'education']=2\n",
    "acs_ind.loc[(acs_ind.education >= 21),'education']=3"
   ]
  },
  {
   "cell_type": "code",
   "execution_count": 9,
   "id": "df318e4a",
   "metadata": {},
   "outputs": [
    {
     "data": {
      "text/plain": [
       "array([1, 3, 2])"
      ]
     },
     "execution_count": 9,
     "metadata": {},
     "output_type": "execute_result"
    }
   ],
   "source": [
    "# checking to make sure the previous cell worked \n",
    "\n",
    "acs_ind.education.unique()"
   ]
  },
  {
   "cell_type": "markdown",
   "id": "568ab045",
   "metadata": {},
   "source": [
    "Citizenship/Foreign-born"
   ]
  },
  {
   "cell_type": "code",
   "execution_count": 10,
   "id": "6fba350a",
   "metadata": {},
   "outputs": [
    {
     "data": {
      "text/plain": [
       "array([4, 1, 5, 2, 3])"
      ]
     },
     "execution_count": 10,
     "metadata": {},
     "output_type": "execute_result"
    }
   ],
   "source": [
    "# 1. Born in the U.S.\n",
    "# 2. Born in Puerto Rico, Guam, the U.S. Virgin Islands, or the Northern Marianas\n",
    "# 3. Born abroad of American parent(s)\n",
    "# 4. U.S. citizen by naturalization\n",
    "# 5. Not a citizen of the U.S.\n",
    "\n",
    "acs_ind.citizenship.unique()"
   ]
  },
  {
   "cell_type": "code",
   "execution_count": 11,
   "id": "630c59c7",
   "metadata": {},
   "outputs": [],
   "source": [
    "# 1\n",
    "\n",
    "born_citizen_df = acs_ind[[\"Unnamed: 0\",\"citizenship\"]].rename(columns={\n",
    "                        \"citizenship\": \"born_citizen\"})"
   ]
  },
  {
   "cell_type": "code",
   "execution_count": 12,
   "id": "5ae87b57",
   "metadata": {},
   "outputs": [],
   "source": [
    "born_citizen_df.loc[(born_citizen_df.born_citizen != 1),'born_citizen']=0\n",
    "born_citizen_df.loc[(born_citizen_df.born_citizen == 1),'born_citizen']=1"
   ]
  },
  {
   "cell_type": "code",
   "execution_count": 13,
   "id": "7c4b75dd",
   "metadata": {},
   "outputs": [],
   "source": [
    "# 5\n",
    "\n",
    "non_citizen_df = acs_ind[[\"Unnamed: 0\",\"citizenship\"]].rename(columns={\n",
    "                        \"citizenship\": \"non_citizen\"})"
   ]
  },
  {
   "cell_type": "code",
   "execution_count": 14,
   "id": "b6dd738a",
   "metadata": {},
   "outputs": [],
   "source": [
    "non_citizen_df.loc[(non_citizen_df.non_citizen != 5),'non_citizen']=0\n",
    "non_citizen_df.loc[(non_citizen_df.non_citizen == 5),'non_citizen']=1"
   ]
  },
  {
   "cell_type": "code",
   "execution_count": 15,
   "id": "0425dd4d",
   "metadata": {},
   "outputs": [],
   "source": [
    "# 2,3,4\n",
    "\n",
    "foreign_citizen_df = acs_ind[[\"Unnamed: 0\",\"citizenship\"]].rename(columns={\n",
    "                        \"citizenship\": \"foreign_citizen\"})"
   ]
  },
  {
   "cell_type": "code",
   "execution_count": 16,
   "id": "7e0142d6",
   "metadata": {},
   "outputs": [],
   "source": [
    "foreign_citizen_df.loc[(foreign_citizen_df.foreign_citizen == 1),'foreign_citizen']=0\n",
    "foreign_citizen_df.loc[(foreign_citizen_df.foreign_citizen == 2),'foreign_citizen']=1\n",
    "foreign_citizen_df.loc[(foreign_citizen_df.foreign_citizen == 3),'foreign_citizen']=1\n",
    "foreign_citizen_df.loc[(foreign_citizen_df.foreign_citizen == 4),'foreign_citizen']=1\n",
    "foreign_citizen_df.loc[(foreign_citizen_df.foreign_citizen == 5),'foreign_citizen']=0"
   ]
  },
  {
   "cell_type": "code",
   "execution_count": 17,
   "id": "624eb1a4",
   "metadata": {},
   "outputs": [],
   "source": [
    "# joining all citizen outcomes back into the main df\n",
    "\n",
    "acs_ind=acs_ind.merge(born_citizen_df, on='Unnamed: 0'\n",
    "                           ).merge(non_citizen_df, on='Unnamed: 0').merge(foreign_citizen_df, on='Unnamed: 0')"
   ]
  },
  {
   "cell_type": "markdown",
   "id": "60e85d73",
   "metadata": {},
   "source": [
    "Population 65+"
   ]
  },
  {
   "cell_type": "code",
   "execution_count": 18,
   "id": "a0568b01",
   "metadata": {},
   "outputs": [
    {
     "data": {
      "text/plain": [
       "array([ 0,  1, -1,  2])"
      ]
     },
     "execution_count": 18,
     "metadata": {},
     "output_type": "execute_result"
    }
   ],
   "source": [
    "# we see there's a -1 in the responses, which means no response \n",
    "\n",
    "acs_ind.pop_65.unique()"
   ]
  },
  {
   "cell_type": "code",
   "execution_count": 19,
   "id": "02b6ac0a",
   "metadata": {},
   "outputs": [],
   "source": [
    "# getting rid of all -1 rows\n",
    "\n",
    "acs_ind = acs_ind[acs_ind['pop_65'] >= 0]"
   ]
  },
  {
   "cell_type": "code",
   "execution_count": 20,
   "id": "81b81da2",
   "metadata": {},
   "outputs": [],
   "source": [
    "# 0 No person 65 and over\n",
    "# 1 person 65 and over\n",
    "# 2 or more persons 65 and over\n",
    "\n",
    "acs_ind.loc[(acs_ind.pop_65 >= 1),'pop_65']=1"
   ]
  },
  {
   "cell_type": "code",
   "execution_count": 21,
   "id": "edc17e64",
   "metadata": {},
   "outputs": [
    {
     "data": {
      "text/plain": [
       "array([0, 1])"
      ]
     },
     "execution_count": 21,
     "metadata": {},
     "output_type": "execute_result"
    }
   ],
   "source": [
    "acs_ind.pop_65.unique()"
   ]
  },
  {
   "cell_type": "markdown",
   "id": "5cffe3db",
   "metadata": {},
   "source": [
    "Internet Access"
   ]
  },
  {
   "cell_type": "code",
   "execution_count": 22,
   "id": "61376179",
   "metadata": {},
   "outputs": [
    {
     "data": {
      "text/plain": [
       "array([1, 3, 2])"
      ]
     },
     "execution_count": 22,
     "metadata": {},
     "output_type": "execute_result"
    }
   ],
   "source": [
    "acs_ind.internet_access.unique()"
   ]
  },
  {
   "cell_type": "code",
   "execution_count": 23,
   "id": "02cac8e5",
   "metadata": {},
   "outputs": [],
   "source": [
    "# need to remove the responses with \"0\" because it means no response\n",
    "\n",
    "acs_ind = acs_ind[acs_ind['internet_access'] >0]"
   ]
  },
  {
   "cell_type": "code",
   "execution_count": 24,
   "id": "0371bb77",
   "metadata": {},
   "outputs": [],
   "source": [
    "# recoding internet access\n",
    "# 0 = no access\n",
    "# 1 = access \n",
    "\n",
    "acs_ind.loc[(acs_ind.internet_access == 2),'internet_access']=1\n",
    "acs_ind.loc[(acs_ind.internet_access == 3),'internet_access']=0"
   ]
  },
  {
   "cell_type": "markdown",
   "id": "dfa572dd",
   "metadata": {},
   "source": [
    "Hispanic"
   ]
  },
  {
   "cell_type": "code",
   "execution_count": 25,
   "id": "e5d8697f",
   "metadata": {},
   "outputs": [],
   "source": [
    "# recoding hispanic\n",
    "# 0 = not hispanic\n",
    "# 1 = hispanic\n",
    "\n",
    "acs_ind.loc[(acs_ind.hispanic == 1),'hispanic']=0\n",
    "acs_ind.loc[(acs_ind.hispanic > 1),'hispanic']=1"
   ]
  },
  {
   "cell_type": "code",
   "execution_count": 26,
   "id": "d00d0e33",
   "metadata": {},
   "outputs": [
    {
     "data": {
      "text/plain": [
       "array([0, 1])"
      ]
     },
     "execution_count": 26,
     "metadata": {},
     "output_type": "execute_result"
    }
   ],
   "source": [
    "acs_ind.hispanic.unique()"
   ]
  },
  {
   "cell_type": "markdown",
   "id": "43c7f19a",
   "metadata": {},
   "source": [
    "non-Hispanic White, Black, Asian Races"
   ]
  },
  {
   "cell_type": "code",
   "execution_count": 27,
   "id": "ab14522e",
   "metadata": {},
   "outputs": [],
   "source": [
    "# selecting race, hispanic, and the Unnamed column to join it back into the main df after recoding\n",
    "\n",
    "black_df = acs_ind[[\"Unnamed: 0\",\"race\",\"hispanic\"]].rename(columns={\n",
    "                        \"race\": \"black\"})"
   ]
  },
  {
   "cell_type": "code",
   "execution_count": 28,
   "id": "14f00276",
   "metadata": {},
   "outputs": [],
   "source": [
    "# recoding black to dummy variables\n",
    "\n",
    "black_df.loc[(black_df.black != 2),'black']=0\n",
    "black_df.loc[(black_df.black == 2),'black']=1"
   ]
  },
  {
   "cell_type": "code",
   "execution_count": 29,
   "id": "2963ccc2",
   "metadata": {},
   "outputs": [
    {
     "data": {
      "text/plain": [
       "array([0, 1])"
      ]
     },
     "execution_count": 29,
     "metadata": {},
     "output_type": "execute_result"
    }
   ],
   "source": [
    "# making sure previous cell worked \n",
    "\n",
    "black_df.black.unique()"
   ]
  },
  {
   "cell_type": "code",
   "execution_count": 30,
   "id": "4683d710",
   "metadata": {},
   "outputs": [],
   "source": [
    "# setting up columns to extract non-Hispanic black\n",
    "\n",
    "black_df[\"nh_black\"]=black_df['hispanic']+black_df['black']"
   ]
  },
  {
   "cell_type": "code",
   "execution_count": 31,
   "id": "f26f3543",
   "metadata": {},
   "outputs": [],
   "source": [
    "# recoding non-Hispanic black\n",
    "\n",
    "black_df.loc[(black_df.nh_black != 1),'nh_black']=0\n",
    "black_df.loc[(black_df.nh_black == 1),'nh_black']=1"
   ]
  },
  {
   "cell_type": "code",
   "execution_count": 32,
   "id": "6c19170c",
   "metadata": {},
   "outputs": [
    {
     "data": {
      "text/plain": [
       "array([0, 1])"
      ]
     },
     "execution_count": 32,
     "metadata": {},
     "output_type": "execute_result"
    }
   ],
   "source": [
    "# making sure previous\n",
    "black_df.nh_black.unique()"
   ]
  },
  {
   "cell_type": "code",
   "execution_count": 33,
   "id": "39a7d287",
   "metadata": {},
   "outputs": [],
   "source": [
    "black_df=black_df.drop(['hispanic'], axis=1)"
   ]
  },
  {
   "cell_type": "code",
   "execution_count": 34,
   "id": "538e64fc",
   "metadata": {},
   "outputs": [],
   "source": [
    "white_df = acs_ind[[\"Unnamed: 0\",\"race\", \"hispanic\"]].rename(columns={\n",
    "                        \"race\": \"white\"})"
   ]
  },
  {
   "cell_type": "code",
   "execution_count": 35,
   "id": "8c4944b4",
   "metadata": {},
   "outputs": [],
   "source": [
    "white_df.loc[(white_df.white != 1),'white']=1\n",
    "white_df.loc[(white_df.white == 1),'white']=1"
   ]
  },
  {
   "cell_type": "code",
   "execution_count": 36,
   "id": "0670fad9",
   "metadata": {},
   "outputs": [
    {
     "data": {
      "text/plain": [
       "array([1])"
      ]
     },
     "execution_count": 36,
     "metadata": {},
     "output_type": "execute_result"
    }
   ],
   "source": [
    "white_df.white.unique()"
   ]
  },
  {
   "cell_type": "code",
   "execution_count": 37,
   "id": "8d33ee82",
   "metadata": {},
   "outputs": [],
   "source": [
    "white_df[\"nh_white\"]=white_df['hispanic']+white_df['white']"
   ]
  },
  {
   "cell_type": "code",
   "execution_count": 38,
   "id": "a919da1e",
   "metadata": {},
   "outputs": [],
   "source": [
    "white_df.loc[(white_df.nh_white != 1),'nh_white']=0\n",
    "white_df.loc[(white_df.nh_white == 1),'nh_white']=1"
   ]
  },
  {
   "cell_type": "code",
   "execution_count": 39,
   "id": "e285f03b",
   "metadata": {},
   "outputs": [],
   "source": [
    "white_df=white_df.drop(['hispanic'], axis=1)"
   ]
  },
  {
   "cell_type": "code",
   "execution_count": 40,
   "id": "11f9df63",
   "metadata": {},
   "outputs": [],
   "source": [
    "asian_df = acs_ind[[\"Unnamed: 0\",\"race\", \"hispanic\"]].rename(columns={\n",
    "                        \"race\": \"asian\"})"
   ]
  },
  {
   "cell_type": "code",
   "execution_count": 41,
   "id": "e037904b",
   "metadata": {},
   "outputs": [],
   "source": [
    "asian_df.loc[(asian_df.asian != 6),'asian']=0\n",
    "asian_df.loc[(asian_df.asian == 6),'asian']=1"
   ]
  },
  {
   "cell_type": "code",
   "execution_count": 42,
   "id": "b3ccac52",
   "metadata": {},
   "outputs": [
    {
     "data": {
      "text/plain": [
       "array([0, 1])"
      ]
     },
     "execution_count": 42,
     "metadata": {},
     "output_type": "execute_result"
    }
   ],
   "source": [
    "asian_df.asian.unique()"
   ]
  },
  {
   "cell_type": "code",
   "execution_count": 43,
   "id": "e050542d",
   "metadata": {},
   "outputs": [],
   "source": [
    "asian_df[\"nh_asian\"]=asian_df['hispanic']+asian_df['asian']"
   ]
  },
  {
   "cell_type": "code",
   "execution_count": 44,
   "id": "525618eb",
   "metadata": {},
   "outputs": [],
   "source": [
    "asian_df.loc[(asian_df.nh_asian != 1),'nh_asian']=0\n",
    "asian_df.loc[(asian_df.nh_asian == 1),'nh_asian']=1"
   ]
  },
  {
   "cell_type": "code",
   "execution_count": 45,
   "id": "69f4528c",
   "metadata": {},
   "outputs": [],
   "source": [
    "asian_df=asian_df.drop(['hispanic'], axis=1)"
   ]
  },
  {
   "cell_type": "code",
   "execution_count": 46,
   "id": "069391ff",
   "metadata": {},
   "outputs": [],
   "source": [
    "acs_ind=acs_ind.merge(white_df, on='Unnamed: 0'\n",
    "                           ).merge(black_df, on='Unnamed: 0').merge(asian_df, on='Unnamed: 0')"
   ]
  },
  {
   "cell_type": "markdown",
   "id": "cbfd4565",
   "metadata": {},
   "source": [
    "Household & Family Income"
   ]
  },
  {
   "cell_type": "code",
   "execution_count": 47,
   "id": "18fa7645",
   "metadata": {},
   "outputs": [
    {
     "data": {
      "text/plain": [
       "array([ -60000,  366000,  385000, ...,  211900, 1033000,  315300])"
      ]
     },
     "execution_count": 47,
     "metadata": {},
     "output_type": "execute_result"
    }
   ],
   "source": [
    "# looking at all family income responses\n",
    "\n",
    "acs_ind.family_income.unique()"
   ]
  },
  {
   "cell_type": "code",
   "execution_count": 48,
   "id": "add01ac6",
   "metadata": {},
   "outputs": [
    {
     "data": {
      "text/plain": [
       "array([   1000,   96000,  366000, ..., 1033000,  315300,   68380])"
      ]
     },
     "execution_count": 48,
     "metadata": {},
     "output_type": "execute_result"
    }
   ],
   "source": [
    "# looking at all household income responses\n",
    "\n",
    "acs_ind.hh_income.unique()"
   ]
  },
  {
   "cell_type": "code",
   "execution_count": 49,
   "id": "03f4be15",
   "metadata": {},
   "outputs": [],
   "source": [
    "# keeping incomes above 0 \n",
    "\n",
    "acs_ind = acs_ind[acs_ind['hh_income'] >0]\n",
    "acs_ind = acs_ind[acs_ind['family_income'] >0]"
   ]
  },
  {
   "cell_type": "code",
   "execution_count": 50,
   "id": "79945c8b",
   "metadata": {},
   "outputs": [],
   "source": [
    "# log household and family incomes\n",
    "\n",
    "acs_ind[\"log_family_income\"]=acs_ind[\"family_income\"].apply(lambda x: np.log(x))\n",
    "acs_ind[\"log_hh_income\"]=acs_ind[\"hh_income\"].apply(lambda x: np.log(x))"
   ]
  },
  {
   "cell_type": "code",
   "execution_count": 51,
   "id": "fd7fa0a4",
   "metadata": {},
   "outputs": [
    {
     "data": {
      "text/plain": [
       "array([12.81038861, 12.86099861, 11.17759258, ..., 12.26386974,\n",
       "       13.84797775, 12.66127985])"
      ]
     },
     "execution_count": 51,
     "metadata": {},
     "output_type": "execute_result"
    }
   ],
   "source": [
    "acs_ind.log_family_income.unique()"
   ]
  },
  {
   "cell_type": "code",
   "execution_count": 52,
   "id": "8c8fa898",
   "metadata": {},
   "outputs": [
    {
     "data": {
      "text/plain": [
       "array([12.81038861, 12.86099861, 11.17759258, ..., 12.26386974,\n",
       "       13.84797775, 12.66127985])"
      ]
     },
     "execution_count": 52,
     "metadata": {},
     "output_type": "execute_result"
    }
   ],
   "source": [
    "acs_ind.log_hh_income.unique()"
   ]
  },
  {
   "cell_type": "markdown",
   "id": "91590f11",
   "metadata": {},
   "source": [
    "#### Visualizations"
   ]
  },
  {
   "cell_type": "code",
   "execution_count": 53,
   "id": "c3b109f9",
   "metadata": {},
   "outputs": [
    {
     "data": {
      "text/plain": [
       "<AxesSubplot:xlabel='internet_access', ylabel='log_hh_income'>"
      ]
     },
     "execution_count": 53,
     "metadata": {},
     "output_type": "execute_result"
    },
    {
     "data": {
      "image/png": "[encoded data removed]",
      "text/plain": [
       "<Figure size 432x288 with 1 Axes>"
      ]
     },
     "metadata": {
      "needs_background": "light"
     },
     "output_type": "display_data"
    }
   ],
   "source": [
    "# boxplot of household income and internet access\n",
    "\n",
    "sns.boxplot(x=\"internet_access\", y=\"log_hh_income\", data=acs_ind)"
   ]
  },
  {
   "cell_type": "code",
   "execution_count": 54,
   "id": "3a4807fe",
   "metadata": {},
   "outputs": [
    {
     "data": {
      "text/plain": [
       "<AxesSubplot:xlabel='internet_access', ylabel='log_family_income'>"
      ]
     },
     "execution_count": 54,
     "metadata": {},
     "output_type": "execute_result"
    },
    {
     "data": {
      "image/png": "[encoded data removed]",
      "text/plain": [
       "<Figure size 432x288 with 1 Axes>"
      ]
     },
     "metadata": {
      "needs_background": "light"
     },
     "output_type": "display_data"
    }
   ],
   "source": [
    "# boxplot of family income and internet access\n",
    "\n",
    "sns.boxplot(x=\"internet_access\", y=\"log_family_income\", data=acs_ind)"
   ]
  },
  {
   "cell_type": "code",
   "execution_count": 55,
   "id": "d293c771",
   "metadata": {},
   "outputs": [
    {
     "name": "stdout",
     "output_type": "stream",
     "text": [
      "percentage with internet access is 91.8771715654052\n",
      "percentage with no internet access 8.122828434594798\n"
     ]
    }
   ],
   "source": [
    "# getting internet access counts \n",
    "\n",
    "count_no_int = len(acs_ind[acs_ind['internet_access']==0])\n",
    "count_int = len(acs_ind[acs_ind['internet_access']==1])\n",
    "pct_of_int = count_int/(count_no_int+count_int)\n",
    "print(\"percentage with internet access is\", pct_of_int*100)\n",
    "pct_of_no_int = count_no_int/(count_no_int+count_int)\n",
    "print(\"percentage with no internet access\", pct_of_no_int*100)"
   ]
  },
  {
   "cell_type": "markdown",
   "id": "a91ec30f",
   "metadata": {},
   "source": [
    "##### List of variables that may impact internet access"
   ]
  },
  {
   "cell_type": "markdown",
   "id": "4f9ff8c1",
   "metadata": {},
   "source": [
    "- household income\n",
    "- family income\n",
    "- race\n",
    "- hispanic\n",
    "- poverty to income ratio "
   ]
  },
  {
   "cell_type": "markdown",
   "id": "85b00cce",
   "metadata": {},
   "source": [
    "### Correlation "
   ]
  },
  {
   "cell_type": "code",
   "execution_count": 56,
   "id": "3ff92a87",
   "metadata": {},
   "outputs": [
    {
     "data": {
      "text/plain": [
       "<AxesSubplot:>"
      ]
     },
     "execution_count": 56,
     "metadata": {},
     "output_type": "execute_result"
    },
    {
     "data": {
      "image/png": "[encoded data removed]",
      "text/plain": [
       "<Figure size 432x288 with 2 Axes>"
      ]
     },
     "metadata": {
      "needs_background": "light"
     },
     "output_type": "display_data"
    }
   ],
   "source": [
    "# internet access correlation with family/household income and poverty rate\n",
    "\n",
    "sns.heatmap(\n",
    "    acs_ind[['internet_access','log_family_income','log_hh_income','poverty']]\n",
    "    .corr())"
   ]
  },
  {
   "cell_type": "code",
   "execution_count": 57,
   "id": "f075d8c3",
   "metadata": {},
   "outputs": [
    {
     "data": {
      "text/plain": [
       "<AxesSubplot:>"
      ]
     },
     "execution_count": 57,
     "metadata": {},
     "output_type": "execute_result"
    },
    {
     "data": {
      "image/png": "[encoded data removed]",
      "text/plain": [
       "<Figure size 432x288 with 2 Axes>"
      ]
     },
     "metadata": {
      "needs_background": "light"
     },
     "output_type": "display_data"
    }
   ],
   "source": [
    "# internet access correlation with white, black, asian, hispanic\n",
    "\n",
    "sns.heatmap(\n",
    "    acs_ind[['internet_access','nh_white','nh_black','nh_asian','hispanic']]\n",
    "    .corr())"
   ]
  },
  {
   "cell_type": "code",
   "execution_count": 58,
   "id": "6e90f62d",
   "metadata": {},
   "outputs": [
    {
     "data": {
      "text/plain": [
       "<AxesSubplot:>"
      ]
     },
     "execution_count": 58,
     "metadata": {},
     "output_type": "execute_result"
    },
    {
     "data": {
      "image/png": "[encoded data removed]",
      "text/plain": [
       "<Figure size 432x288 with 2 Axes>"
      ]
     },
     "metadata": {
      "needs_background": "light"
     },
     "output_type": "display_data"
    }
   ],
   "source": [
    "# internet access correlation with us born citizens, foreign citizens, and non citizens\n",
    "\n",
    "sns.heatmap(\n",
    "    acs_ind[['internet_access','born_citizen','foreign_citizen','non_citizen']]\n",
    "    .corr())"
   ]
  },
  {
   "cell_type": "code",
   "execution_count": 59,
   "id": "49af865a",
   "metadata": {},
   "outputs": [
    {
     "data": {
      "text/plain": [
       "<AxesSubplot:>"
      ]
     },
     "execution_count": 59,
     "metadata": {},
     "output_type": "execute_result"
    },
    {
     "data": {
      "image/png": "[encoded data removed]",
      "text/plain": [
       "<Figure size 432x288 with 2 Axes>"
      ]
     },
     "metadata": {
      "needs_background": "light"
     },
     "output_type": "display_data"
    }
   ],
   "source": [
    "# internet access correlation with education and elderly population\n",
    "\n",
    "sns.heatmap(\n",
    "    acs_ind[['internet_access','education','pop_65']]\n",
    "    .corr())"
   ]
  },
  {
   "cell_type": "markdown",
   "id": "e6c51f77",
   "metadata": {},
   "source": [
    "### Logistic Regression"
   ]
  },
  {
   "cell_type": "code",
   "execution_count": 60,
   "id": "280dca5d",
   "metadata": {},
   "outputs": [],
   "source": [
    "# importing libraries for logistic regression\n",
    "\n",
    "from sklearn.model_selection import train_test_split\n",
    "from statsmodels.formula.api import logit"
   ]
  },
  {
   "cell_type": "code",
   "execution_count": 61,
   "id": "50df2ac5",
   "metadata": {},
   "outputs": [],
   "source": [
    "# setting up columns for normalization \n",
    "cols_to_norm = ['log_hh_income','education']"
   ]
  },
  {
   "cell_type": "code",
   "execution_count": 62,
   "id": "918ac16e",
   "metadata": {},
   "outputs": [],
   "source": [
    "# normalizing columns \n",
    "\n",
    "acs_ind[cols_to_norm] = acs_ind[cols_to_norm].apply(lambda x: (x - x.min()) / (x.max() - x.min()))"
   ]
  },
  {
   "cell_type": "code",
   "execution_count": 63,
   "id": "4b8318c3",
   "metadata": {},
   "outputs": [
    {
     "data": {
      "text/plain": [
       "2         1.0\n",
       "3         1.0\n",
       "4         0.0\n",
       "5         0.0\n",
       "6         1.0\n",
       "         ... \n",
       "114613    0.0\n",
       "114614    0.0\n",
       "114615    0.0\n",
       "114616    0.5\n",
       "114617    0.0\n",
       "Name: education, Length: 85192, dtype: float64"
      ]
     },
     "execution_count": 63,
     "metadata": {},
     "output_type": "execute_result"
    }
   ],
   "source": [
    "acs_ind.education"
   ]
  },
  {
   "cell_type": "code",
   "execution_count": 64,
   "id": "8df768da",
   "metadata": {},
   "outputs": [
    {
     "data": {
      "text/plain": [
       "2         0.894135\n",
       "3         0.894135\n",
       "4         0.894135\n",
       "5         0.894135\n",
       "6         0.897667\n",
       "            ...   \n",
       "114613    0.787122\n",
       "114614    0.787122\n",
       "114615    0.787122\n",
       "114616    0.556459\n",
       "114617    0.556459\n",
       "Name: log_hh_income, Length: 85192, dtype: float64"
      ]
     },
     "execution_count": 64,
     "metadata": {},
     "output_type": "execute_result"
    }
   ],
   "source": [
    "acs_ind.log_hh_income"
   ]
  },
  {
   "cell_type": "markdown",
   "id": "4dd652b0",
   "metadata": {},
   "source": [
    "#### Full Model with All Variables"
   ]
  },
  {
   "cell_type": "code",
   "execution_count": 65,
   "id": "08f57bbf",
   "metadata": {},
   "outputs": [
    {
     "name": "stdout",
     "output_type": "stream",
     "text": [
      "Optimization terminated successfully.\n",
      "         Current function value: 0.240627\n",
      "         Iterations 8\n"
     ]
    }
   ],
   "source": [
    "# using all variables in full logit model\n",
    "\n",
    "formula=(\"internet_access ~ log_hh_income + hispanic + nh_asian + nh_black + education + pop_65 + born_citizen + non_citizen\")\n",
    "\n",
    "model=logit(formula=formula, data=acs_ind).fit()"
   ]
  },
  {
   "cell_type": "code",
   "execution_count": 66,
   "id": "e7826700",
   "metadata": {},
   "outputs": [
    {
     "data": {
      "text/html": [
       "<table class=\"simpletable\">\n",
       "<caption>Logit Regression Results</caption>\n",
       "<tr>\n",
       "  <th>Dep. Variable:</th>    <td>internet_access</td> <th>  No. Observations:  </th>  <td> 85192</td> \n",
       "</tr>\n",
       "<tr>\n",
       "  <th>Model:</th>                 <td>Logit</td>      <th>  Df Residuals:      </th>  <td> 85183</td> \n",
       "</tr>\n",
       "<tr>\n",
       "  <th>Method:</th>                 <td>MLE</td>       <th>  Df Model:          </th>  <td>     8</td> \n",
       "</tr>\n",
       "<tr>\n",
       "  <th>Date:</th>            <td>Wed, 16 Mar 2022</td> <th>  Pseudo R-squ.:     </th>  <td>0.1460</td> \n",
       "</tr>\n",
       "<tr>\n",
       "  <th>Time:</th>                <td>11:33:02</td>     <th>  Log-Likelihood:    </th> <td> -20499.</td>\n",
       "</tr>\n",
       "<tr>\n",
       "  <th>converged:</th>             <td>True</td>       <th>  LL-Null:           </th> <td> -24004.</td>\n",
       "</tr>\n",
       "<tr>\n",
       "  <th>Covariance Type:</th>     <td>nonrobust</td>    <th>  LLR p-value:       </th>  <td> 0.000</td> \n",
       "</tr>\n",
       "</table>\n",
       "<table class=\"simpletable\">\n",
       "<tr>\n",
       "        <td></td>           <th>coef</th>     <th>std err</th>      <th>z</th>      <th>P>|z|</th>  <th>[0.025</th>    <th>0.975]</th>  \n",
       "</tr>\n",
       "<tr>\n",
       "  <th>Intercept</th>     <td>   -3.4797</td> <td>    0.141</td> <td>  -24.635</td> <td> 0.000</td> <td>   -3.757</td> <td>   -3.203</td>\n",
       "</tr>\n",
       "<tr>\n",
       "  <th>log_hh_income</th> <td>    7.9771</td> <td>    0.179</td> <td>   44.615</td> <td> 0.000</td> <td>    7.627</td> <td>    8.327</td>\n",
       "</tr>\n",
       "<tr>\n",
       "  <th>hispanic</th>      <td>   -0.3620</td> <td>    0.080</td> <td>   -4.530</td> <td> 0.000</td> <td>   -0.519</td> <td>   -0.205</td>\n",
       "</tr>\n",
       "<tr>\n",
       "  <th>nh_asian</th>      <td>    0.7494</td> <td>    0.076</td> <td>    9.923</td> <td> 0.000</td> <td>    0.601</td> <td>    0.897</td>\n",
       "</tr>\n",
       "<tr>\n",
       "  <th>nh_black</th>      <td>   -0.6081</td> <td>    0.037</td> <td>  -16.443</td> <td> 0.000</td> <td>   -0.681</td> <td>   -0.536</td>\n",
       "</tr>\n",
       "<tr>\n",
       "  <th>education</th>     <td>    1.1144</td> <td>    0.044</td> <td>   25.125</td> <td> 0.000</td> <td>    1.028</td> <td>    1.201</td>\n",
       "</tr>\n",
       "<tr>\n",
       "  <th>pop_65</th>        <td>   -1.1429</td> <td>    0.028</td> <td>  -41.246</td> <td> 0.000</td> <td>   -1.197</td> <td>   -1.089</td>\n",
       "</tr>\n",
       "<tr>\n",
       "  <th>born_citizen</th>  <td>    0.3390</td> <td>    0.042</td> <td>    8.152</td> <td> 0.000</td> <td>    0.257</td> <td>    0.420</td>\n",
       "</tr>\n",
       "<tr>\n",
       "  <th>non_citizen</th>   <td>   -0.3282</td> <td>    0.049</td> <td>   -6.634</td> <td> 0.000</td> <td>   -0.425</td> <td>   -0.231</td>\n",
       "</tr>\n",
       "</table>"
      ],
      "text/plain": [
       "<class 'statsmodels.iolib.summary.Summary'>\n",
       "\"\"\"\n",
       "                           Logit Regression Results                           \n",
       "==============================================================================\n",
       "Dep. Variable:        internet_access   No. Observations:                85192\n",
       "Model:                          Logit   Df Residuals:                    85183\n",
       "Method:                           MLE   Df Model:                            8\n",
       "Date:                Wed, 16 Mar 2022   Pseudo R-squ.:                  0.1460\n",
       "Time:                        11:33:02   Log-Likelihood:                -20499.\n",
       "converged:                       True   LL-Null:                       -24004.\n",
       "Covariance Type:            nonrobust   LLR p-value:                     0.000\n",
       "=================================================================================\n",
       "                    coef    std err          z      P>|z|      [0.025      0.975]\n",
       "---------------------------------------------------------------------------------\n",
       "Intercept        -3.4797      0.141    -24.635      0.000      -3.757      -3.203\n",
       "log_hh_income     7.9771      0.179     44.615      0.000       7.627       8.327\n",
       "hispanic         -0.3620      0.080     -4.530      0.000      -0.519      -0.205\n",
       "nh_asian          0.7494      0.076      9.923      0.000       0.601       0.897\n",
       "nh_black         -0.6081      0.037    -16.443      0.000      -0.681      -0.536\n",
       "education         1.1144      0.044     25.125      0.000       1.028       1.201\n",
       "pop_65           -1.1429      0.028    -41.246      0.000      -1.197      -1.089\n",
       "born_citizen      0.3390      0.042      8.152      0.000       0.257       0.420\n",
       "non_citizen      -0.3282      0.049     -6.634      0.000      -0.425      -0.231\n",
       "=================================================================================\n",
       "\"\"\""
      ]
     },
     "execution_count": 66,
     "metadata": {},
     "output_type": "execute_result"
    }
   ],
   "source": [
    "#normalize all the features (0,1) income + education \n",
    "model.summary()"
   ]
  },
  {
   "cell_type": "markdown",
   "id": "03252683",
   "metadata": {},
   "source": [
    "#### Group Models"
   ]
  },
  {
   "cell_type": "markdown",
   "id": "e19cbcbc",
   "metadata": {},
   "source": [
    "Citizenship"
   ]
  },
  {
   "cell_type": "code",
   "execution_count": 67,
   "id": "ee902f05",
   "metadata": {},
   "outputs": [],
   "source": [
    "formula1=(\"internet_access ~ non_citizen + born_citizen\")"
   ]
  },
  {
   "cell_type": "code",
   "execution_count": 68,
   "id": "fb1f1397",
   "metadata": {},
   "outputs": [
    {
     "name": "stdout",
     "output_type": "stream",
     "text": [
      "Optimization terminated successfully.\n",
      "         Current function value: 0.280584\n",
      "         Iterations 6\n"
     ]
    }
   ],
   "source": [
    "model1=logit(formula=formula1, data=acs_ind).fit()"
   ]
  },
  {
   "cell_type": "code",
   "execution_count": 69,
   "id": "5ba47f36",
   "metadata": {},
   "outputs": [
    {
     "data": {
      "text/html": [
       "<table class=\"simpletable\">\n",
       "<caption>Logit Regression Results</caption>\n",
       "<tr>\n",
       "  <th>Dep. Variable:</th>    <td>internet_access</td> <th>  No. Observations:  </th>  <td> 85192</td>  \n",
       "</tr>\n",
       "<tr>\n",
       "  <th>Model:</th>                 <td>Logit</td>      <th>  Df Residuals:      </th>  <td> 85189</td>  \n",
       "</tr>\n",
       "<tr>\n",
       "  <th>Method:</th>                 <td>MLE</td>       <th>  Df Model:          </th>  <td>     2</td>  \n",
       "</tr>\n",
       "<tr>\n",
       "  <th>Date:</th>            <td>Wed, 16 Mar 2022</td> <th>  Pseudo R-squ.:     </th> <td>0.004171</td> \n",
       "</tr>\n",
       "<tr>\n",
       "  <th>Time:</th>                <td>11:33:02</td>     <th>  Log-Likelihood:    </th> <td> -23904.</td> \n",
       "</tr>\n",
       "<tr>\n",
       "  <th>converged:</th>             <td>True</td>       <th>  LL-Null:           </th> <td> -24004.</td> \n",
       "</tr>\n",
       "<tr>\n",
       "  <th>Covariance Type:</th>     <td>nonrobust</td>    <th>  LLR p-value:       </th> <td>3.315e-44</td>\n",
       "</tr>\n",
       "</table>\n",
       "<table class=\"simpletable\">\n",
       "<tr>\n",
       "        <td></td>          <th>coef</th>     <th>std err</th>      <th>z</th>      <th>P>|z|</th>  <th>[0.025</th>    <th>0.975]</th>  \n",
       "</tr>\n",
       "<tr>\n",
       "  <th>Intercept</th>    <td>    2.3247</td> <td>    0.032</td> <td>   71.620</td> <td> 0.000</td> <td>    2.261</td> <td>    2.388</td>\n",
       "</tr>\n",
       "<tr>\n",
       "  <th>non_citizen</th>  <td>   -0.3274</td> <td>    0.046</td> <td>   -7.082</td> <td> 0.000</td> <td>   -0.418</td> <td>   -0.237</td>\n",
       "</tr>\n",
       "<tr>\n",
       "  <th>born_citizen</th> <td>    0.1931</td> <td>    0.036</td> <td>    5.402</td> <td> 0.000</td> <td>    0.123</td> <td>    0.263</td>\n",
       "</tr>\n",
       "</table>"
      ],
      "text/plain": [
       "<class 'statsmodels.iolib.summary.Summary'>\n",
       "\"\"\"\n",
       "                           Logit Regression Results                           \n",
       "==============================================================================\n",
       "Dep. Variable:        internet_access   No. Observations:                85192\n",
       "Model:                          Logit   Df Residuals:                    85189\n",
       "Method:                           MLE   Df Model:                            2\n",
       "Date:                Wed, 16 Mar 2022   Pseudo R-squ.:                0.004171\n",
       "Time:                        11:33:02   Log-Likelihood:                -23904.\n",
       "converged:                       True   LL-Null:                       -24004.\n",
       "Covariance Type:            nonrobust   LLR p-value:                 3.315e-44\n",
       "================================================================================\n",
       "                   coef    std err          z      P>|z|      [0.025      0.975]\n",
       "--------------------------------------------------------------------------------\n",
       "Intercept        2.3247      0.032     71.620      0.000       2.261       2.388\n",
       "non_citizen     -0.3274      0.046     -7.082      0.000      -0.418      -0.237\n",
       "born_citizen     0.1931      0.036      5.402      0.000       0.123       0.263\n",
       "================================================================================\n",
       "\"\"\""
      ]
     },
     "execution_count": 69,
     "metadata": {},
     "output_type": "execute_result"
    }
   ],
   "source": [
    "model1.summary()"
   ]
  },
  {
   "cell_type": "markdown",
   "id": "d40357b5",
   "metadata": {},
   "source": [
    "Race"
   ]
  },
  {
   "cell_type": "code",
   "execution_count": 70,
   "id": "b069fb05",
   "metadata": {},
   "outputs": [],
   "source": [
    "formula2=(\"internet_access ~ hispanic + nh_black + nh_asian\")"
   ]
  },
  {
   "cell_type": "code",
   "execution_count": 71,
   "id": "b1b7fe1e",
   "metadata": {},
   "outputs": [
    {
     "name": "stdout",
     "output_type": "stream",
     "text": [
      "Optimization terminated successfully.\n",
      "         Current function value: 0.271131\n",
      "         Iterations 7\n"
     ]
    }
   ],
   "source": [
    "model2=logit(formula=formula2, data=acs_ind).fit()"
   ]
  },
  {
   "cell_type": "code",
   "execution_count": 72,
   "id": "a986cb2f",
   "metadata": {},
   "outputs": [
    {
     "data": {
      "text/html": [
       "<table class=\"simpletable\">\n",
       "<caption>Logit Regression Results</caption>\n",
       "<tr>\n",
       "  <th>Dep. Variable:</th>    <td>internet_access</td> <th>  No. Observations:  </th>  <td> 85192</td> \n",
       "</tr>\n",
       "<tr>\n",
       "  <th>Model:</th>                 <td>Logit</td>      <th>  Df Residuals:      </th>  <td> 85188</td> \n",
       "</tr>\n",
       "<tr>\n",
       "  <th>Method:</th>                 <td>MLE</td>       <th>  Df Model:          </th>  <td>     3</td> \n",
       "</tr>\n",
       "<tr>\n",
       "  <th>Date:</th>            <td>Wed, 16 Mar 2022</td> <th>  Pseudo R-squ.:     </th>  <td>0.03772</td>\n",
       "</tr>\n",
       "<tr>\n",
       "  <th>Time:</th>                <td>11:33:03</td>     <th>  Log-Likelihood:    </th> <td> -23098.</td>\n",
       "</tr>\n",
       "<tr>\n",
       "  <th>converged:</th>             <td>True</td>       <th>  LL-Null:           </th> <td> -24004.</td>\n",
       "</tr>\n",
       "<tr>\n",
       "  <th>Covariance Type:</th>     <td>nonrobust</td>    <th>  LLR p-value:       </th>  <td> 0.000</td> \n",
       "</tr>\n",
       "</table>\n",
       "<table class=\"simpletable\">\n",
       "<tr>\n",
       "      <td></td>         <th>coef</th>     <th>std err</th>      <th>z</th>      <th>P>|z|</th>  <th>[0.025</th>    <th>0.975]</th>  \n",
       "</tr>\n",
       "<tr>\n",
       "  <th>Intercept</th> <td>    3.0840</td> <td>    0.027</td> <td>  115.920</td> <td> 0.000</td> <td>    3.032</td> <td>    3.136</td>\n",
       "</tr>\n",
       "<tr>\n",
       "  <th>hispanic</th>  <td>    0.2112</td> <td>    0.077</td> <td>    2.742</td> <td> 0.006</td> <td>    0.060</td> <td>    0.362</td>\n",
       "</tr>\n",
       "<tr>\n",
       "  <th>nh_black</th>  <td>   -1.2644</td> <td>    0.033</td> <td>  -37.895</td> <td> 0.000</td> <td>   -1.330</td> <td>   -1.199</td>\n",
       "</tr>\n",
       "<tr>\n",
       "  <th>nh_asian</th>  <td>    0.2110</td> <td>    0.072</td> <td>    2.945</td> <td> 0.003</td> <td>    0.071</td> <td>    0.351</td>\n",
       "</tr>\n",
       "</table>"
      ],
      "text/plain": [
       "<class 'statsmodels.iolib.summary.Summary'>\n",
       "\"\"\"\n",
       "                           Logit Regression Results                           \n",
       "==============================================================================\n",
       "Dep. Variable:        internet_access   No. Observations:                85192\n",
       "Model:                          Logit   Df Residuals:                    85188\n",
       "Method:                           MLE   Df Model:                            3\n",
       "Date:                Wed, 16 Mar 2022   Pseudo R-squ.:                 0.03772\n",
       "Time:                        11:33:03   Log-Likelihood:                -23098.\n",
       "converged:                       True   LL-Null:                       -24004.\n",
       "Covariance Type:            nonrobust   LLR p-value:                     0.000\n",
       "==============================================================================\n",
       "                 coef    std err          z      P>|z|      [0.025      0.975]\n",
       "------------------------------------------------------------------------------\n",
       "Intercept      3.0840      0.027    115.920      0.000       3.032       3.136\n",
       "hispanic       0.2112      0.077      2.742      0.006       0.060       0.362\n",
       "nh_black      -1.2644      0.033    -37.895      0.000      -1.330      -1.199\n",
       "nh_asian       0.2110      0.072      2.945      0.003       0.071       0.351\n",
       "==============================================================================\n",
       "\"\"\""
      ]
     },
     "execution_count": 72,
     "metadata": {},
     "output_type": "execute_result"
    }
   ],
   "source": [
    "model2.summary()"
   ]
  },
  {
   "cell_type": "markdown",
   "id": "3691982f",
   "metadata": {},
   "source": [
    "#### Income Individual Models"
   ]
  },
  {
   "cell_type": "code",
   "execution_count": 73,
   "id": "1ee7e329",
   "metadata": {},
   "outputs": [
    {
     "name": "stdout",
     "output_type": "stream",
     "text": [
      "Optimization terminated successfully.\n",
      "         Current function value: 0.260726\n",
      "         Iterations 7\n"
     ]
    }
   ],
   "source": [
    "formula_hh_income=(\"internet_access ~ log_hh_income\")\n",
    "\n",
    "model_hh_income=logit(formula=formula_hh_income, data=acs_ind).fit()"
   ]
  },
  {
   "cell_type": "code",
   "execution_count": 74,
   "id": "aa15c192",
   "metadata": {},
   "outputs": [
    {
     "data": {
      "text/html": [
       "<table class=\"simpletable\">\n",
       "<caption>Logit Regression Results</caption>\n",
       "<tr>\n",
       "  <th>Dep. Variable:</th>    <td>internet_access</td> <th>  No. Observations:  </th>  <td> 85192</td> \n",
       "</tr>\n",
       "<tr>\n",
       "  <th>Model:</th>                 <td>Logit</td>      <th>  Df Residuals:      </th>  <td> 85190</td> \n",
       "</tr>\n",
       "<tr>\n",
       "  <th>Method:</th>                 <td>MLE</td>       <th>  Df Model:          </th>  <td>     1</td> \n",
       "</tr>\n",
       "<tr>\n",
       "  <th>Date:</th>            <td>Wed, 16 Mar 2022</td> <th>  Pseudo R-squ.:     </th>  <td>0.07465</td>\n",
       "</tr>\n",
       "<tr>\n",
       "  <th>Time:</th>                <td>11:33:03</td>     <th>  Log-Likelihood:    </th> <td> -22212.</td>\n",
       "</tr>\n",
       "<tr>\n",
       "  <th>converged:</th>             <td>True</td>       <th>  LL-Null:           </th> <td> -24004.</td>\n",
       "</tr>\n",
       "<tr>\n",
       "  <th>Covariance Type:</th>     <td>nonrobust</td>    <th>  LLR p-value:       </th>  <td> 0.000</td> \n",
       "</tr>\n",
       "</table>\n",
       "<table class=\"simpletable\">\n",
       "<tr>\n",
       "        <td></td>           <th>coef</th>     <th>std err</th>      <th>z</th>      <th>P>|z|</th>  <th>[0.025</th>    <th>0.975]</th>  \n",
       "</tr>\n",
       "<tr>\n",
       "  <th>Intercept</th>     <td>   -4.6931</td> <td>    0.119</td> <td>  -39.354</td> <td> 0.000</td> <td>   -4.927</td> <td>   -4.459</td>\n",
       "</tr>\n",
       "<tr>\n",
       "  <th>log_hh_income</th> <td>    9.3469</td> <td>    0.159</td> <td>   58.603</td> <td> 0.000</td> <td>    9.034</td> <td>    9.660</td>\n",
       "</tr>\n",
       "</table>"
      ],
      "text/plain": [
       "<class 'statsmodels.iolib.summary.Summary'>\n",
       "\"\"\"\n",
       "                           Logit Regression Results                           \n",
       "==============================================================================\n",
       "Dep. Variable:        internet_access   No. Observations:                85192\n",
       "Model:                          Logit   Df Residuals:                    85190\n",
       "Method:                           MLE   Df Model:                            1\n",
       "Date:                Wed, 16 Mar 2022   Pseudo R-squ.:                 0.07465\n",
       "Time:                        11:33:03   Log-Likelihood:                -22212.\n",
       "converged:                       True   LL-Null:                       -24004.\n",
       "Covariance Type:            nonrobust   LLR p-value:                     0.000\n",
       "=================================================================================\n",
       "                    coef    std err          z      P>|z|      [0.025      0.975]\n",
       "---------------------------------------------------------------------------------\n",
       "Intercept        -4.6931      0.119    -39.354      0.000      -4.927      -4.459\n",
       "log_hh_income     9.3469      0.159     58.603      0.000       9.034       9.660\n",
       "=================================================================================\n",
       "\"\"\""
      ]
     },
     "execution_count": 74,
     "metadata": {},
     "output_type": "execute_result"
    }
   ],
   "source": [
    "model_hh_income.summary()"
   ]
  },
  {
   "cell_type": "code",
   "execution_count": 75,
   "id": "0dfc36be",
   "metadata": {},
   "outputs": [
    {
     "name": "stdout",
     "output_type": "stream",
     "text": [
      "Optimization terminated successfully.\n",
      "         Current function value: 0.261588\n",
      "         Iterations 7\n"
     ]
    }
   ],
   "source": [
    "formula_family_income=(\"internet_access ~ log_family_income\")\n",
    "\n",
    "model_family_income=logit(formula=formula_family_income, data=acs_ind).fit()"
   ]
  },
  {
   "cell_type": "code",
   "execution_count": 76,
   "id": "0ca55458",
   "metadata": {},
   "outputs": [
    {
     "data": {
      "text/html": [
       "<table class=\"simpletable\">\n",
       "<caption>Logit Regression Results</caption>\n",
       "<tr>\n",
       "  <th>Dep. Variable:</th>    <td>internet_access</td> <th>  No. Observations:  </th>  <td> 85192</td> \n",
       "</tr>\n",
       "<tr>\n",
       "  <th>Model:</th>                 <td>Logit</td>      <th>  Df Residuals:      </th>  <td> 85190</td> \n",
       "</tr>\n",
       "<tr>\n",
       "  <th>Method:</th>                 <td>MLE</td>       <th>  Df Model:          </th>  <td>     1</td> \n",
       "</tr>\n",
       "<tr>\n",
       "  <th>Date:</th>            <td>Wed, 16 Mar 2022</td> <th>  Pseudo R-squ.:     </th>  <td>0.07159</td>\n",
       "</tr>\n",
       "<tr>\n",
       "  <th>Time:</th>                <td>11:33:03</td>     <th>  Log-Likelihood:    </th> <td> -22285.</td>\n",
       "</tr>\n",
       "<tr>\n",
       "  <th>converged:</th>             <td>True</td>       <th>  LL-Null:           </th> <td> -24004.</td>\n",
       "</tr>\n",
       "<tr>\n",
       "  <th>Covariance Type:</th>     <td>nonrobust</td>    <th>  LLR p-value:       </th>  <td> 0.000</td> \n",
       "</tr>\n",
       "</table>\n",
       "<table class=\"simpletable\">\n",
       "<tr>\n",
       "          <td></td>             <th>coef</th>     <th>std err</th>      <th>z</th>      <th>P>|z|</th>  <th>[0.025</th>    <th>0.975]</th>  \n",
       "</tr>\n",
       "<tr>\n",
       "  <th>Intercept</th>         <td>   -4.3837</td> <td>    0.116</td> <td>  -37.777</td> <td> 0.000</td> <td>   -4.611</td> <td>   -4.156</td>\n",
       "</tr>\n",
       "<tr>\n",
       "  <th>log_family_income</th> <td>    0.6265</td> <td>    0.011</td> <td>   57.608</td> <td> 0.000</td> <td>    0.605</td> <td>    0.648</td>\n",
       "</tr>\n",
       "</table>"
      ],
      "text/plain": [
       "<class 'statsmodels.iolib.summary.Summary'>\n",
       "\"\"\"\n",
       "                           Logit Regression Results                           \n",
       "==============================================================================\n",
       "Dep. Variable:        internet_access   No. Observations:                85192\n",
       "Model:                          Logit   Df Residuals:                    85190\n",
       "Method:                           MLE   Df Model:                            1\n",
       "Date:                Wed, 16 Mar 2022   Pseudo R-squ.:                 0.07159\n",
       "Time:                        11:33:03   Log-Likelihood:                -22285.\n",
       "converged:                       True   LL-Null:                       -24004.\n",
       "Covariance Type:            nonrobust   LLR p-value:                     0.000\n",
       "=====================================================================================\n",
       "                        coef    std err          z      P>|z|      [0.025      0.975]\n",
       "-------------------------------------------------------------------------------------\n",
       "Intercept            -4.3837      0.116    -37.777      0.000      -4.611      -4.156\n",
       "log_family_income     0.6265      0.011     57.608      0.000       0.605       0.648\n",
       "=====================================================================================\n",
       "\"\"\""
      ]
     },
     "execution_count": 76,
     "metadata": {},
     "output_type": "execute_result"
    }
   ],
   "source": [
    "model_family_income.summary()"
   ]
  },
  {
   "cell_type": "code",
   "execution_count": 77,
   "id": "1b0cc3a9",
   "metadata": {},
   "outputs": [
    {
     "name": "stdout",
     "output_type": "stream",
     "text": [
      "Optimization terminated successfully.\n",
      "         Current function value: 0.263059\n",
      "         Iterations 7\n"
     ]
    }
   ],
   "source": [
    "formula_poverty=(\"internet_access ~ poverty\")\n",
    "\n",
    "model_poverty=logit(formula=formula_poverty, data=acs_ind).fit()"
   ]
  },
  {
   "cell_type": "code",
   "execution_count": 78,
   "id": "ef9ed12a",
   "metadata": {},
   "outputs": [
    {
     "data": {
      "text/html": [
       "<table class=\"simpletable\">\n",
       "<caption>Logit Regression Results</caption>\n",
       "<tr>\n",
       "  <th>Dep. Variable:</th>    <td>internet_access</td> <th>  No. Observations:  </th>  <td> 85192</td> \n",
       "</tr>\n",
       "<tr>\n",
       "  <th>Model:</th>                 <td>Logit</td>      <th>  Df Residuals:      </th>  <td> 85190</td> \n",
       "</tr>\n",
       "<tr>\n",
       "  <th>Method:</th>                 <td>MLE</td>       <th>  Df Model:          </th>  <td>     1</td> \n",
       "</tr>\n",
       "<tr>\n",
       "  <th>Date:</th>            <td>Wed, 16 Mar 2022</td> <th>  Pseudo R-squ.:     </th>  <td>0.06637</td>\n",
       "</tr>\n",
       "<tr>\n",
       "  <th>Time:</th>                <td>11:33:03</td>     <th>  Log-Likelihood:    </th> <td> -22411.</td>\n",
       "</tr>\n",
       "<tr>\n",
       "  <th>converged:</th>             <td>True</td>       <th>  LL-Null:           </th> <td> -24004.</td>\n",
       "</tr>\n",
       "<tr>\n",
       "  <th>Covariance Type:</th>     <td>nonrobust</td>    <th>  LLR p-value:       </th>  <td> 0.000</td> \n",
       "</tr>\n",
       "</table>\n",
       "<table class=\"simpletable\">\n",
       "<tr>\n",
       "      <td></td>         <th>coef</th>     <th>std err</th>      <th>z</th>      <th>P>|z|</th>  <th>[0.025</th>    <th>0.975]</th>  \n",
       "</tr>\n",
       "<tr>\n",
       "  <th>Intercept</th> <td>    1.2529</td> <td>    0.022</td> <td>   56.753</td> <td> 0.000</td> <td>    1.210</td> <td>    1.296</td>\n",
       "</tr>\n",
       "<tr>\n",
       "  <th>poverty</th>   <td>    0.0043</td> <td> 8.08e-05</td> <td>   53.523</td> <td> 0.000</td> <td>    0.004</td> <td>    0.004</td>\n",
       "</tr>\n",
       "</table>"
      ],
      "text/plain": [
       "<class 'statsmodels.iolib.summary.Summary'>\n",
       "\"\"\"\n",
       "                           Logit Regression Results                           \n",
       "==============================================================================\n",
       "Dep. Variable:        internet_access   No. Observations:                85192\n",
       "Model:                          Logit   Df Residuals:                    85190\n",
       "Method:                           MLE   Df Model:                            1\n",
       "Date:                Wed, 16 Mar 2022   Pseudo R-squ.:                 0.06637\n",
       "Time:                        11:33:03   Log-Likelihood:                -22411.\n",
       "converged:                       True   LL-Null:                       -24004.\n",
       "Covariance Type:            nonrobust   LLR p-value:                     0.000\n",
       "==============================================================================\n",
       "                 coef    std err          z      P>|z|      [0.025      0.975]\n",
       "------------------------------------------------------------------------------\n",
       "Intercept      1.2529      0.022     56.753      0.000       1.210       1.296\n",
       "poverty        0.0043   8.08e-05     53.523      0.000       0.004       0.004\n",
       "==============================================================================\n",
       "\"\"\""
      ]
     },
     "execution_count": 78,
     "metadata": {},
     "output_type": "execute_result"
    }
   ],
   "source": [
    "model_poverty.summary()"
   ]
  },
  {
   "cell_type": "markdown",
   "id": "9c88c56e",
   "metadata": {},
   "source": [
    "#### Race & Ethnicity Individual Models "
   ]
  },
  {
   "cell_type": "code",
   "execution_count": 79,
   "id": "3818bbe2",
   "metadata": {},
   "outputs": [
    {
     "name": "stdout",
     "output_type": "stream",
     "text": [
      "Optimization terminated successfully.\n",
      "         Current function value: 0.281224\n",
      "         Iterations 6\n"
     ]
    }
   ],
   "source": [
    "formula_hispanic=(\"internet_access ~ hispanic\")\n",
    "\n",
    "model_hispanic=logit(formula=formula_hispanic, data=acs_ind).fit()"
   ]
  },
  {
   "cell_type": "code",
   "execution_count": 80,
   "id": "4646f151",
   "metadata": {},
   "outputs": [
    {
     "data": {
      "text/html": [
       "<table class=\"simpletable\">\n",
       "<caption>Logit Regression Results</caption>\n",
       "<tr>\n",
       "  <th>Dep. Variable:</th>    <td>internet_access</td> <th>  No. Observations:  </th>  <td> 85192</td>  \n",
       "</tr>\n",
       "<tr>\n",
       "  <th>Model:</th>                 <td>Logit</td>      <th>  Df Residuals:      </th>  <td> 85190</td>  \n",
       "</tr>\n",
       "<tr>\n",
       "  <th>Method:</th>                 <td>MLE</td>       <th>  Df Model:          </th>  <td>     1</td>  \n",
       "</tr>\n",
       "<tr>\n",
       "  <th>Date:</th>            <td>Wed, 16 Mar 2022</td> <th>  Pseudo R-squ.:     </th> <td>0.001899</td> \n",
       "</tr>\n",
       "<tr>\n",
       "  <th>Time:</th>                <td>11:33:03</td>     <th>  Log-Likelihood:    </th> <td> -23958.</td> \n",
       "</tr>\n",
       "<tr>\n",
       "  <th>converged:</th>             <td>True</td>       <th>  LL-Null:           </th> <td> -24004.</td> \n",
       "</tr>\n",
       "<tr>\n",
       "  <th>Covariance Type:</th>     <td>nonrobust</td>    <th>  LLR p-value:       </th> <td>1.333e-21</td>\n",
       "</tr>\n",
       "</table>\n",
       "<table class=\"simpletable\">\n",
       "<tr>\n",
       "      <td></td>         <th>coef</th>     <th>std err</th>      <th>z</th>      <th>P>|z|</th>  <th>[0.025</th>    <th>0.975]</th>  \n",
       "</tr>\n",
       "<tr>\n",
       "  <th>Intercept</th> <td>    2.5084</td> <td>    0.016</td> <td>  161.395</td> <td> 0.000</td> <td>    2.478</td> <td>    2.539</td>\n",
       "</tr>\n",
       "<tr>\n",
       "  <th>hispanic</th>  <td>   -0.2543</td> <td>    0.026</td> <td>   -9.654</td> <td> 0.000</td> <td>   -0.306</td> <td>   -0.203</td>\n",
       "</tr>\n",
       "</table>"
      ],
      "text/plain": [
       "<class 'statsmodels.iolib.summary.Summary'>\n",
       "\"\"\"\n",
       "                           Logit Regression Results                           \n",
       "==============================================================================\n",
       "Dep. Variable:        internet_access   No. Observations:                85192\n",
       "Model:                          Logit   Df Residuals:                    85190\n",
       "Method:                           MLE   Df Model:                            1\n",
       "Date:                Wed, 16 Mar 2022   Pseudo R-squ.:                0.001899\n",
       "Time:                        11:33:03   Log-Likelihood:                -23958.\n",
       "converged:                       True   LL-Null:                       -24004.\n",
       "Covariance Type:            nonrobust   LLR p-value:                 1.333e-21\n",
       "==============================================================================\n",
       "                 coef    std err          z      P>|z|      [0.025      0.975]\n",
       "------------------------------------------------------------------------------\n",
       "Intercept      2.5084      0.016    161.395      0.000       2.478       2.539\n",
       "hispanic      -0.2543      0.026     -9.654      0.000      -0.306      -0.203\n",
       "==============================================================================\n",
       "\"\"\""
      ]
     },
     "execution_count": 80,
     "metadata": {},
     "output_type": "execute_result"
    }
   ],
   "source": [
    "model_hispanic.summary()"
   ]
  },
  {
   "cell_type": "code",
   "execution_count": 81,
   "id": "cdb7c757",
   "metadata": {},
   "outputs": [
    {
     "name": "stdout",
     "output_type": "stream",
     "text": [
      "Optimization terminated successfully.\n",
      "         Current function value: 0.281224\n",
      "         Iterations 6\n"
     ]
    }
   ],
   "source": [
    "formula_nh_white=(\"internet_access ~ nh_white\")\n",
    "\n",
    "model_nh_white=logit(formula=formula_nh_white, data=acs_ind).fit()"
   ]
  },
  {
   "cell_type": "code",
   "execution_count": 82,
   "id": "f71d6625",
   "metadata": {},
   "outputs": [
    {
     "data": {
      "text/html": [
       "<table class=\"simpletable\">\n",
       "<caption>Logit Regression Results</caption>\n",
       "<tr>\n",
       "  <th>Dep. Variable:</th>    <td>internet_access</td> <th>  No. Observations:  </th>  <td> 85192</td>  \n",
       "</tr>\n",
       "<tr>\n",
       "  <th>Model:</th>                 <td>Logit</td>      <th>  Df Residuals:      </th>  <td> 85190</td>  \n",
       "</tr>\n",
       "<tr>\n",
       "  <th>Method:</th>                 <td>MLE</td>       <th>  Df Model:          </th>  <td>     1</td>  \n",
       "</tr>\n",
       "<tr>\n",
       "  <th>Date:</th>            <td>Wed, 16 Mar 2022</td> <th>  Pseudo R-squ.:     </th> <td>0.001899</td> \n",
       "</tr>\n",
       "<tr>\n",
       "  <th>Time:</th>                <td>11:33:04</td>     <th>  Log-Likelihood:    </th> <td> -23958.</td> \n",
       "</tr>\n",
       "<tr>\n",
       "  <th>converged:</th>             <td>True</td>       <th>  LL-Null:           </th> <td> -24004.</td> \n",
       "</tr>\n",
       "<tr>\n",
       "  <th>Covariance Type:</th>     <td>nonrobust</td>    <th>  LLR p-value:       </th> <td>1.333e-21</td>\n",
       "</tr>\n",
       "</table>\n",
       "<table class=\"simpletable\">\n",
       "<tr>\n",
       "      <td></td>         <th>coef</th>     <th>std err</th>      <th>z</th>      <th>P>|z|</th>  <th>[0.025</th>    <th>0.975]</th>  \n",
       "</tr>\n",
       "<tr>\n",
       "  <th>Intercept</th> <td>    2.2541</td> <td>    0.021</td> <td>  105.987</td> <td> 0.000</td> <td>    2.212</td> <td>    2.296</td>\n",
       "</tr>\n",
       "<tr>\n",
       "  <th>nh_white</th>  <td>    0.2543</td> <td>    0.026</td> <td>    9.654</td> <td> 0.000</td> <td>    0.203</td> <td>    0.306</td>\n",
       "</tr>\n",
       "</table>"
      ],
      "text/plain": [
       "<class 'statsmodels.iolib.summary.Summary'>\n",
       "\"\"\"\n",
       "                           Logit Regression Results                           \n",
       "==============================================================================\n",
       "Dep. Variable:        internet_access   No. Observations:                85192\n",
       "Model:                          Logit   Df Residuals:                    85190\n",
       "Method:                           MLE   Df Model:                            1\n",
       "Date:                Wed, 16 Mar 2022   Pseudo R-squ.:                0.001899\n",
       "Time:                        11:33:04   Log-Likelihood:                -23958.\n",
       "converged:                       True   LL-Null:                       -24004.\n",
       "Covariance Type:            nonrobust   LLR p-value:                 1.333e-21\n",
       "==============================================================================\n",
       "                 coef    std err          z      P>|z|      [0.025      0.975]\n",
       "------------------------------------------------------------------------------\n",
       "Intercept      2.2541      0.021    105.987      0.000       2.212       2.296\n",
       "nh_white       0.2543      0.026      9.654      0.000       0.203       0.306\n",
       "==============================================================================\n",
       "\"\"\""
      ]
     },
     "execution_count": 82,
     "metadata": {},
     "output_type": "execute_result"
    }
   ],
   "source": [
    "model_nh_white.summary()"
   ]
  },
  {
   "cell_type": "code",
   "execution_count": 83,
   "id": "cd3ab496",
   "metadata": {},
   "outputs": [
    {
     "name": "stdout",
     "output_type": "stream",
     "text": [
      "Optimization terminated successfully.\n",
      "         Current function value: 0.272398\n",
      "         Iterations 7\n"
     ]
    }
   ],
   "source": [
    "formula_nh_black=(\"internet_access ~ nh_black\")\n",
    "\n",
    "model_nh_black=logit(formula=formula_nh_black, data=acs_ind).fit()"
   ]
  },
  {
   "cell_type": "code",
   "execution_count": 84,
   "id": "072ad8f5",
   "metadata": {},
   "outputs": [
    {
     "data": {
      "text/html": [
       "<table class=\"simpletable\">\n",
       "<caption>Logit Regression Results</caption>\n",
       "<tr>\n",
       "  <th>Dep. Variable:</th>    <td>internet_access</td> <th>  No. Observations:  </th>  <td> 85192</td> \n",
       "</tr>\n",
       "<tr>\n",
       "  <th>Model:</th>                 <td>Logit</td>      <th>  Df Residuals:      </th>  <td> 85190</td> \n",
       "</tr>\n",
       "<tr>\n",
       "  <th>Method:</th>                 <td>MLE</td>       <th>  Df Model:          </th>  <td>     1</td> \n",
       "</tr>\n",
       "<tr>\n",
       "  <th>Date:</th>            <td>Wed, 16 Mar 2022</td> <th>  Pseudo R-squ.:     </th>  <td>0.03323</td>\n",
       "</tr>\n",
       "<tr>\n",
       "  <th>Time:</th>                <td>11:33:04</td>     <th>  Log-Likelihood:    </th> <td> -23206.</td>\n",
       "</tr>\n",
       "<tr>\n",
       "  <th>converged:</th>             <td>True</td>       <th>  LL-Null:           </th> <td> -24004.</td>\n",
       "</tr>\n",
       "<tr>\n",
       "  <th>Covariance Type:</th>     <td>nonrobust</td>    <th>  LLR p-value:       </th>  <td> 0.000</td> \n",
       "</tr>\n",
       "</table>\n",
       "<table class=\"simpletable\">\n",
       "<tr>\n",
       "      <td></td>         <th>coef</th>     <th>std err</th>      <th>z</th>      <th>P>|z|</th>  <th>[0.025</th>    <th>0.975]</th>  \n",
       "</tr>\n",
       "<tr>\n",
       "  <th>Intercept</th> <td>    3.1180</td> <td>    0.025</td> <td>  125.324</td> <td> 0.000</td> <td>    3.069</td> <td>    3.167</td>\n",
       "</tr>\n",
       "<tr>\n",
       "  <th>nh_black</th>  <td>   -1.0806</td> <td>    0.029</td> <td>  -37.394</td> <td> 0.000</td> <td>   -1.137</td> <td>   -1.024</td>\n",
       "</tr>\n",
       "</table>"
      ],
      "text/plain": [
       "<class 'statsmodels.iolib.summary.Summary'>\n",
       "\"\"\"\n",
       "                           Logit Regression Results                           \n",
       "==============================================================================\n",
       "Dep. Variable:        internet_access   No. Observations:                85192\n",
       "Model:                          Logit   Df Residuals:                    85190\n",
       "Method:                           MLE   Df Model:                            1\n",
       "Date:                Wed, 16 Mar 2022   Pseudo R-squ.:                 0.03323\n",
       "Time:                        11:33:04   Log-Likelihood:                -23206.\n",
       "converged:                       True   LL-Null:                       -24004.\n",
       "Covariance Type:            nonrobust   LLR p-value:                     0.000\n",
       "==============================================================================\n",
       "                 coef    std err          z      P>|z|      [0.025      0.975]\n",
       "------------------------------------------------------------------------------\n",
       "Intercept      3.1180      0.025    125.324      0.000       3.069       3.167\n",
       "nh_black      -1.0806      0.029    -37.394      0.000      -1.137      -1.024\n",
       "==============================================================================\n",
       "\"\"\""
      ]
     },
     "execution_count": 84,
     "metadata": {},
     "output_type": "execute_result"
    }
   ],
   "source": [
    "model_nh_black.summary()"
   ]
  },
  {
   "cell_type": "code",
   "execution_count": 85,
   "id": "f1a13970",
   "metadata": {},
   "outputs": [
    {
     "name": "stdout",
     "output_type": "stream",
     "text": [
      "Optimization terminated successfully.\n",
      "         Current function value: 0.281739\n",
      "         Iterations 6\n"
     ]
    }
   ],
   "source": [
    "formula_nh_asian=(\"internet_access ~ nh_asian\")\n",
    "\n",
    "model_nh_asian=logit(formula=formula_nh_asian, data=acs_ind).fit()"
   ]
  },
  {
   "cell_type": "code",
   "execution_count": 86,
   "id": "b9b05d14",
   "metadata": {},
   "outputs": [
    {
     "data": {
      "text/html": [
       "<table class=\"simpletable\">\n",
       "<caption>Logit Regression Results</caption>\n",
       "<tr>\n",
       "  <th>Dep. Variable:</th>    <td>internet_access</td> <th>  No. Observations:  </th>  <td> 85192</td>  \n",
       "</tr>\n",
       "<tr>\n",
       "  <th>Model:</th>                 <td>Logit</td>      <th>  Df Residuals:      </th>  <td> 85190</td>  \n",
       "</tr>\n",
       "<tr>\n",
       "  <th>Method:</th>                 <td>MLE</td>       <th>  Df Model:          </th>  <td>     1</td>  \n",
       "</tr>\n",
       "<tr>\n",
       "  <th>Date:</th>            <td>Wed, 16 Mar 2022</td> <th>  Pseudo R-squ.:     </th> <td>6.965e-05</td>\n",
       "</tr>\n",
       "<tr>\n",
       "  <th>Time:</th>                <td>11:33:04</td>     <th>  Log-Likelihood:    </th> <td> -24002.</td> \n",
       "</tr>\n",
       "<tr>\n",
       "  <th>converged:</th>             <td>True</td>       <th>  LL-Null:           </th> <td> -24004.</td> \n",
       "</tr>\n",
       "<tr>\n",
       "  <th>Covariance Type:</th>     <td>nonrobust</td>    <th>  LLR p-value:       </th>  <td>0.06747</td> \n",
       "</tr>\n",
       "</table>\n",
       "<table class=\"simpletable\">\n",
       "<tr>\n",
       "      <td></td>         <th>coef</th>     <th>std err</th>      <th>z</th>      <th>P>|z|</th>  <th>[0.025</th>    <th>0.975]</th>  \n",
       "</tr>\n",
       "<tr>\n",
       "  <th>Intercept</th> <td>    2.4436</td> <td>    0.016</td> <td>  153.148</td> <td> 0.000</td> <td>    2.412</td> <td>    2.475</td>\n",
       "</tr>\n",
       "<tr>\n",
       "  <th>nh_asian</th>  <td>   -0.0473</td> <td>    0.026</td> <td>   -1.831</td> <td> 0.067</td> <td>   -0.098</td> <td>    0.003</td>\n",
       "</tr>\n",
       "</table>"
      ],
      "text/plain": [
       "<class 'statsmodels.iolib.summary.Summary'>\n",
       "\"\"\"\n",
       "                           Logit Regression Results                           \n",
       "==============================================================================\n",
       "Dep. Variable:        internet_access   No. Observations:                85192\n",
       "Model:                          Logit   Df Residuals:                    85190\n",
       "Method:                           MLE   Df Model:                            1\n",
       "Date:                Wed, 16 Mar 2022   Pseudo R-squ.:               6.965e-05\n",
       "Time:                        11:33:04   Log-Likelihood:                -24002.\n",
       "converged:                       True   LL-Null:                       -24004.\n",
       "Covariance Type:            nonrobust   LLR p-value:                   0.06747\n",
       "==============================================================================\n",
       "                 coef    std err          z      P>|z|      [0.025      0.975]\n",
       "------------------------------------------------------------------------------\n",
       "Intercept      2.4436      0.016    153.148      0.000       2.412       2.475\n",
       "nh_asian      -0.0473      0.026     -1.831      0.067      -0.098       0.003\n",
       "==============================================================================\n",
       "\"\"\""
      ]
     },
     "execution_count": 86,
     "metadata": {},
     "output_type": "execute_result"
    }
   ],
   "source": [
    "model_nh_asian.summary()"
   ]
  },
  {
   "cell_type": "markdown",
   "id": "c2913a2c",
   "metadata": {},
   "source": [
    "#### Citizenship Individual Models"
   ]
  },
  {
   "cell_type": "code",
   "execution_count": 87,
   "id": "395f72e6",
   "metadata": {},
   "outputs": [
    {
     "name": "stdout",
     "output_type": "stream",
     "text": [
      "Optimization terminated successfully.\n",
      "         Current function value: 0.280877\n",
      "         Iterations 6\n"
     ]
    }
   ],
   "source": [
    "formula_born_citizen=(\"internet_access ~ born_citizen\")\n",
    "\n",
    "model_born_citizen=logit(formula=formula_born_citizen, data=acs_ind).fit()"
   ]
  },
  {
   "cell_type": "code",
   "execution_count": 88,
   "id": "f36fdb3e",
   "metadata": {},
   "outputs": [
    {
     "data": {
      "text/html": [
       "<table class=\"simpletable\">\n",
       "<caption>Logit Regression Results</caption>\n",
       "<tr>\n",
       "  <th>Dep. Variable:</th>    <td>internet_access</td> <th>  No. Observations:  </th>  <td> 85192</td>  \n",
       "</tr>\n",
       "<tr>\n",
       "  <th>Model:</th>                 <td>Logit</td>      <th>  Df Residuals:      </th>  <td> 85190</td>  \n",
       "</tr>\n",
       "<tr>\n",
       "  <th>Method:</th>                 <td>MLE</td>       <th>  Df Model:          </th>  <td>     1</td>  \n",
       "</tr>\n",
       "<tr>\n",
       "  <th>Date:</th>            <td>Wed, 16 Mar 2022</td> <th>  Pseudo R-squ.:     </th> <td>0.003129</td> \n",
       "</tr>\n",
       "<tr>\n",
       "  <th>Time:</th>                <td>11:33:04</td>     <th>  Log-Likelihood:    </th> <td> -23929.</td> \n",
       "</tr>\n",
       "<tr>\n",
       "  <th>converged:</th>             <td>True</td>       <th>  LL-Null:           </th> <td> -24004.</td> \n",
       "</tr>\n",
       "<tr>\n",
       "  <th>Covariance Type:</th>     <td>nonrobust</td>    <th>  LLR p-value:       </th> <td>1.551e-34</td>\n",
       "</tr>\n",
       "</table>\n",
       "<table class=\"simpletable\">\n",
       "<tr>\n",
       "        <td></td>          <th>coef</th>     <th>std err</th>      <th>z</th>      <th>P>|z|</th>  <th>[0.025</th>    <th>0.975]</th>  \n",
       "</tr>\n",
       "<tr>\n",
       "  <th>Intercept</th>    <td>    2.1739</td> <td>    0.023</td> <td>   94.171</td> <td> 0.000</td> <td>    2.129</td> <td>    2.219</td>\n",
       "</tr>\n",
       "<tr>\n",
       "  <th>born_citizen</th> <td>    0.3439</td> <td>    0.028</td> <td>   12.502</td> <td> 0.000</td> <td>    0.290</td> <td>    0.398</td>\n",
       "</tr>\n",
       "</table>"
      ],
      "text/plain": [
       "<class 'statsmodels.iolib.summary.Summary'>\n",
       "\"\"\"\n",
       "                           Logit Regression Results                           \n",
       "==============================================================================\n",
       "Dep. Variable:        internet_access   No. Observations:                85192\n",
       "Model:                          Logit   Df Residuals:                    85190\n",
       "Method:                           MLE   Df Model:                            1\n",
       "Date:                Wed, 16 Mar 2022   Pseudo R-squ.:                0.003129\n",
       "Time:                        11:33:04   Log-Likelihood:                -23929.\n",
       "converged:                       True   LL-Null:                       -24004.\n",
       "Covariance Type:            nonrobust   LLR p-value:                 1.551e-34\n",
       "================================================================================\n",
       "                   coef    std err          z      P>|z|      [0.025      0.975]\n",
       "--------------------------------------------------------------------------------\n",
       "Intercept        2.1739      0.023     94.171      0.000       2.129       2.219\n",
       "born_citizen     0.3439      0.028     12.502      0.000       0.290       0.398\n",
       "================================================================================\n",
       "\"\"\""
      ]
     },
     "execution_count": 88,
     "metadata": {},
     "output_type": "execute_result"
    }
   ],
   "source": [
    "model_born_citizen.summary()"
   ]
  },
  {
   "cell_type": "code",
   "execution_count": 89,
   "id": "35407234",
   "metadata": {},
   "outputs": [
    {
     "name": "stdout",
     "output_type": "stream",
     "text": [
      "Optimization terminated successfully.\n",
      "         Current function value: 0.280749\n",
      "         Iterations 6\n"
     ]
    }
   ],
   "source": [
    "formula_non_citizen=(\"internet_access ~ non_citizen\")\n",
    "\n",
    "model_non_citizen=logit(formula=formula_non_citizen, data=acs_ind).fit()"
   ]
  },
  {
   "cell_type": "code",
   "execution_count": 90,
   "id": "cb61391d",
   "metadata": {},
   "outputs": [
    {
     "data": {
      "text/html": [
       "<table class=\"simpletable\">\n",
       "<caption>Logit Regression Results</caption>\n",
       "<tr>\n",
       "  <th>Dep. Variable:</th>    <td>internet_access</td> <th>  No. Observations:  </th>  <td> 85192</td>  \n",
       "</tr>\n",
       "<tr>\n",
       "  <th>Model:</th>                 <td>Logit</td>      <th>  Df Residuals:      </th>  <td> 85190</td>  \n",
       "</tr>\n",
       "<tr>\n",
       "  <th>Method:</th>                 <td>MLE</td>       <th>  Df Model:          </th>  <td>     1</td>  \n",
       "</tr>\n",
       "<tr>\n",
       "  <th>Date:</th>            <td>Wed, 16 Mar 2022</td> <th>  Pseudo R-squ.:     </th> <td>0.003584</td> \n",
       "</tr>\n",
       "<tr>\n",
       "  <th>Time:</th>                <td>11:33:04</td>     <th>  Log-Likelihood:    </th> <td> -23918.</td> \n",
       "</tr>\n",
       "<tr>\n",
       "  <th>converged:</th>             <td>True</td>       <th>  LL-Null:           </th> <td> -24004.</td> \n",
       "</tr>\n",
       "<tr>\n",
       "  <th>Covariance Type:</th>     <td>nonrobust</td>    <th>  LLR p-value:       </th> <td>2.640e-39</td>\n",
       "</tr>\n",
       "</table>\n",
       "<table class=\"simpletable\">\n",
       "<tr>\n",
       "       <td></td>          <th>coef</th>     <th>std err</th>      <th>z</th>      <th>P>|z|</th>  <th>[0.025</th>    <th>0.975]</th>  \n",
       "</tr>\n",
       "<tr>\n",
       "  <th>Intercept</th>   <td>    2.4861</td> <td>    0.014</td> <td>  183.043</td> <td> 0.000</td> <td>    2.459</td> <td>    2.513</td>\n",
       "</tr>\n",
       "<tr>\n",
       "  <th>non_citizen</th> <td>   -0.4888</td> <td>    0.036</td> <td>  -13.726</td> <td> 0.000</td> <td>   -0.559</td> <td>   -0.419</td>\n",
       "</tr>\n",
       "</table>"
      ],
      "text/plain": [
       "<class 'statsmodels.iolib.summary.Summary'>\n",
       "\"\"\"\n",
       "                           Logit Regression Results                           \n",
       "==============================================================================\n",
       "Dep. Variable:        internet_access   No. Observations:                85192\n",
       "Model:                          Logit   Df Residuals:                    85190\n",
       "Method:                           MLE   Df Model:                            1\n",
       "Date:                Wed, 16 Mar 2022   Pseudo R-squ.:                0.003584\n",
       "Time:                        11:33:04   Log-Likelihood:                -23918.\n",
       "converged:                       True   LL-Null:                       -24004.\n",
       "Covariance Type:            nonrobust   LLR p-value:                 2.640e-39\n",
       "===============================================================================\n",
       "                  coef    std err          z      P>|z|      [0.025      0.975]\n",
       "-------------------------------------------------------------------------------\n",
       "Intercept       2.4861      0.014    183.043      0.000       2.459       2.513\n",
       "non_citizen    -0.4888      0.036    -13.726      0.000      -0.559      -0.419\n",
       "===============================================================================\n",
       "\"\"\""
      ]
     },
     "execution_count": 90,
     "metadata": {},
     "output_type": "execute_result"
    }
   ],
   "source": [
    "model_non_citizen.summary()"
   ]
  },
  {
   "cell_type": "code",
   "execution_count": 91,
   "id": "f189fbb5",
   "metadata": {},
   "outputs": [
    {
     "name": "stdout",
     "output_type": "stream",
     "text": [
      "Optimization terminated successfully.\n",
      "         Current function value: 0.281695\n",
      "         Iterations 6\n"
     ]
    }
   ],
   "source": [
    "formula_foreign_citizen=(\"internet_access ~ foreign_citizen\")\n",
    "\n",
    "model_foreign_citizen=logit(formula=formula_foreign_citizen, data=acs_ind).fit()"
   ]
  },
  {
   "cell_type": "code",
   "execution_count": 92,
   "id": "78f577f3",
   "metadata": {},
   "outputs": [
    {
     "data": {
      "text/html": [
       "<table class=\"simpletable\">\n",
       "<caption>Logit Regression Results</caption>\n",
       "<tr>\n",
       "  <th>Dep. Variable:</th>    <td>internet_access</td> <th>  No. Observations:  </th>  <td> 85192</td>  \n",
       "</tr>\n",
       "<tr>\n",
       "  <th>Model:</th>                 <td>Logit</td>      <th>  Df Residuals:      </th>  <td> 85190</td>  \n",
       "</tr>\n",
       "<tr>\n",
       "  <th>Method:</th>                 <td>MLE</td>       <th>  Df Model:          </th>  <td>     1</td>  \n",
       "</tr>\n",
       "<tr>\n",
       "  <th>Date:</th>            <td>Wed, 16 Mar 2022</td> <th>  Pseudo R-squ.:     </th> <td>0.0002288</td>\n",
       "</tr>\n",
       "<tr>\n",
       "  <th>Time:</th>                <td>11:33:04</td>     <th>  Log-Likelihood:    </th> <td> -23998.</td> \n",
       "</tr>\n",
       "<tr>\n",
       "  <th>converged:</th>             <td>True</td>       <th>  LL-Null:           </th> <td> -24004.</td> \n",
       "</tr>\n",
       "<tr>\n",
       "  <th>Covariance Type:</th>     <td>nonrobust</td>    <th>  LLR p-value:       </th> <td>0.0009190</td>\n",
       "</tr>\n",
       "</table>\n",
       "<table class=\"simpletable\">\n",
       "<tr>\n",
       "         <td></td>            <th>coef</th>     <th>std err</th>      <th>z</th>      <th>P>|z|</th>  <th>[0.025</th>    <th>0.975]</th>  \n",
       "</tr>\n",
       "<tr>\n",
       "  <th>Intercept</th>       <td>    2.4427</td> <td>    0.014</td> <td>  179.630</td> <td> 0.000</td> <td>    2.416</td> <td>    2.469</td>\n",
       "</tr>\n",
       "<tr>\n",
       "  <th>foreign_citizen</th> <td>   -0.1180</td> <td>    0.035</td> <td>   -3.352</td> <td> 0.001</td> <td>   -0.187</td> <td>   -0.049</td>\n",
       "</tr>\n",
       "</table>"
      ],
      "text/plain": [
       "<class 'statsmodels.iolib.summary.Summary'>\n",
       "\"\"\"\n",
       "                           Logit Regression Results                           \n",
       "==============================================================================\n",
       "Dep. Variable:        internet_access   No. Observations:                85192\n",
       "Model:                          Logit   Df Residuals:                    85190\n",
       "Method:                           MLE   Df Model:                            1\n",
       "Date:                Wed, 16 Mar 2022   Pseudo R-squ.:               0.0002288\n",
       "Time:                        11:33:04   Log-Likelihood:                -23998.\n",
       "converged:                       True   LL-Null:                       -24004.\n",
       "Covariance Type:            nonrobust   LLR p-value:                 0.0009190\n",
       "===================================================================================\n",
       "                      coef    std err          z      P>|z|      [0.025      0.975]\n",
       "-----------------------------------------------------------------------------------\n",
       "Intercept           2.4427      0.014    179.630      0.000       2.416       2.469\n",
       "foreign_citizen    -0.1180      0.035     -3.352      0.001      -0.187      -0.049\n",
       "===================================================================================\n",
       "\"\"\""
      ]
     },
     "execution_count": 92,
     "metadata": {},
     "output_type": "execute_result"
    }
   ],
   "source": [
    "model_foreign_citizen.summary()"
   ]
  }
 ],
 "metadata": {
  "interpreter": {
   "hash": "fbb3f0efde723712f7660d349a24e831b5cb632791db0e0eb0cecf21d8451381"
  },
  "kernelspec": {
   "display_name": "Python 3.8.5 64-bit ('anaconda3': virtualenv)",
   "language": "python",
   "name": "python3"
  },
  "language_info": {
   "codemirror_mode": {
    "name": "ipython",
    "version": 3
   },
   "file_extension": ".py",
   "mimetype": "text/x-python",
   "name": "python",
   "nbconvert_exporter": "python",
   "pygments_lexer": "ipython3",
   "version": "3.8.2"
  }
 },
 "nbformat": 4,
 "nbformat_minor": 5
}
